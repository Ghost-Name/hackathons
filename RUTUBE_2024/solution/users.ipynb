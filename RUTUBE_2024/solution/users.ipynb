{
 "cells": [
  {
   "cell_type": "markdown",
   "id": "7a85ffc8-95e6-47f7-bda0-2289bcb15876",
   "metadata": {},
   "source": [
    "# user0 - создание холодного пользователя"
   ]
  },
  {
   "cell_type": "code",
   "execution_count": 2,
   "id": "b5f690d3-f5b5-47c3-8e34-8a34b986f33f",
   "metadata": {},
   "outputs": [],
   "source": [
    "import pandas as pd\n",
    "\n",
    "# Создаем DataFrame с тегами\n",
    "tags = [\n",
    "    'Мультфильмы', 'Развлечения', 'Хобби', 'Животные', 'Разное', \n",
    "    'Лайфстайл', 'Телепередачи', 'Спорт', 'Недвижимость', 'Сериалы', \n",
    "    'Детям', 'Музыка', 'Юмор', 'Авто-мото', 'Сад и огород', \n",
    "    'Фильмы', 'Видеоигры', 'Наука', 'Путешествия', 'Технологии и интернет', \n",
    "    'Лайфхаки', 'Культура', 'Обзоры и распаковки товаров', 'Обучение', \n",
    "    'Здоровье', 'Охота и рыбалка', 'Строительство и ремонт', 'Аниме', \n",
    "    'Эзотерика', 'Еда', 'UNKNOWN', 'Интервью', 'Бизнес и предпринимательство', \n",
    "    'Техника и оборудование', 'Психология', 'Красота', 'Природа', \n",
    "    'Дизайн', 'Аудиокниги', 'Аудио'\n",
    "]\n",
    "\n",
    "# Создаем DataFrame\n",
    "df = pd.DataFrame({\n",
    "    'tag': tags,\n",
    "    'percent': [0.000] * len(tags),\n",
    "    'likes': [0] * len(tags)\n",
    "})\n",
    "\n",
    "# Сохраняем DataFrame в файл формата Parquet\n",
    "df.to_parquet('user0_tags.parquet', index=False)"
   ]
  },
  {
   "cell_type": "code",
   "execution_count": 3,
   "id": "df930ec9-fa55-4fe9-8fdb-4a2c3a1c92a5",
   "metadata": {},
   "outputs": [
    {
     "name": "stdout",
     "output_type": "stream",
     "text": [
      "           tag  percent  likes\n",
      "0  Мультфильмы      0.0      0\n",
      "1  Развлечения      0.0      0\n",
      "2        Хобби      0.0      0\n",
      "3     Животные      0.0      0\n",
      "4       Разное      0.0      0\n"
     ]
    }
   ],
   "source": [
    "import pandas as pd\n",
    "\n",
    "# Загружаем DataFrame из файла Parquet\n",
    "df = pd.read_parquet('user0_tags.parquet')\n",
    "\n",
    "# Выводим первые 5 строк\n",
    "print(df.head())"
   ]
  },
  {
   "cell_type": "code",
   "execution_count": 8,
   "id": "3ae4ae9f-907b-4586-8379-257e17742dac",
   "metadata": {},
   "outputs": [
    {
     "name": "stdout",
     "output_type": "stream",
     "text": [
      "Данные успешно сохранены в user0_city.parquet\n"
     ]
    }
   ],
   "source": [
    "import pandas as pd\n",
    "\n",
    "# Загрузка файла\n",
    "df = pd.read_parquet('logsV02.parquet')\n",
    "\n",
    "# Получение всех уникальных значений в столбце region\n",
    "unique_regions = df['city'].unique()\n",
    "\n",
    "# Создание нового DataFrame с уникальными регионами и заданными значениями\n",
    "data = {\n",
    "    'city': unique_regions,\n",
    "    'percent': [0.0] * len(unique_regions),\n",
    "    'likes': [0] * len(unique_regions)\n",
    "}\n",
    "\n",
    "df_unique = pd.DataFrame(data)\n",
    "\n",
    "# Сохранение DataFrame в файл формата Parquet\n",
    "df_unique.to_parquet('user0_city.parquet', index=False)\n",
    "\n",
    "print(\"Данные успешно сохранены в user0_city.parquet\")"
   ]
  },
  {
   "cell_type": "code",
   "execution_count": 17,
   "id": "5c8d8529-8cf6-4d14-a722-f849fac0b188",
   "metadata": {},
   "outputs": [
    {
     "name": "stdout",
     "output_type": "stream",
     "text": [
      "                                     city  percent  likes\n",
      "0    daa223d9-5a07-4723-8b1c-e0660fb50036      0.0      0\n",
      "1    d228cf4d-daae-4a4c-b9e0-aa64d8c54352      0.0      0\n",
      "2    c8910e58-e5da-4ba9-bb99-1c8152ef2942      0.0      0\n",
      "3    633d9f2d-7453-417d-8454-0ce9f935b693      0.0      0\n",
      "4    62453693-e6de-4ff7-a06c-1ba765266f35      0.0      0\n",
      "..                                    ...      ...    ...\n",
      "802  64e311c2-5870-40cb-9007-c817992cfee6      0.0      0\n",
      "803  94182336-c2c3-4755-8190-c706780b96d3      0.0      0\n",
      "804  c1a311b1-955f-4e93-9fd7-666bf6c7a39e      0.0      0\n",
      "805  1c5b06bb-a8dc-4e17-acf1-83379eddebfd      0.0      0\n",
      "806  e6e4ac68-a49c-4cd4-b86c-4d4ada9c5104      0.0      0\n",
      "\n",
      "[807 rows x 3 columns]\n"
     ]
    }
   ],
   "source": [
    "import pandas as pd\n",
    "\n",
    "# Загружаем DataFrame из файла Parquet\n",
    "df = pd.read_parquet('users/user0_city.parquet')\n",
    "\n",
    "# Выводим первые 5 строк\n",
    "print(df.head(-5))"
   ]
  },
  {
   "cell_type": "markdown",
   "id": "99c59494-004b-4633-a33a-02c49f8ca1f4",
   "metadata": {},
   "source": [
    "# Сбор"
   ]
  },
  {
   "cell_type": "markdown",
   "id": "41deb2ea-2708-4ac3-99d2-b9ff46f0ca8f",
   "metadata": {},
   "source": [
    "## Tags. Сюда приходят значения лайков, дизлайков, после обновления страницы"
   ]
  },
  {
   "cell_type": "code",
   "execution_count": 1,
   "id": "ee5fe585-0776-45ae-92c4-af6ddbe7d7b1",
   "metadata": {},
   "outputs": [
    {
     "name": "stdout",
     "output_type": "stream",
     "text": [
      "Лайки и процентное соотношение сохранены в файл users/user0_tags.parquet.\n"
     ]
    }
   ],
   "source": [
    "import pandas as pd\n",
    "\n",
    "# Загрузка данных из файлов\n",
    "tags_df = pd.read_parquet('users/user0_tags.parquet')\n",
    "categories_df = pd.read_parquet('tags-filtered.parquet')\n",
    "\n",
    "# Данные на входе\n",
    "aggregated = [\n",
    "    {'uid': \"6ba4b910-2b84-462e-92c7-477d29df3da0\", 'total_likes': 1, 'total_dislikes': 0},\n",
    "    {'uid': \"a766398d-ae80-4e6d-8da6-dc306903f8b0\", 'total_likes': 0, 'total_dislikes': 1},\n",
    "    {'uid': \"9d000f21-5760-481c-9b66-552dd28551a6\", 'total_likes': 0, 'total_dislikes': 0},\n",
    "]\n",
    "\n",
    "# Инициализация словаря для накопления лайков и дизлайков по категориям\n",
    "category_likes = {}\n",
    "\n",
    "# Суммирование лайков и дизлайков для каждой категории\n",
    "for item in aggregated:\n",
    "    video_id = item['uid']\n",
    "    \n",
    "    # Получение category_id по video_id\n",
    "    category_info = categories_df[categories_df['video_id'] == video_id]\n",
    "    \n",
    "    if not category_info.empty:\n",
    "        category_id = category_info['category_id'].values[0]\n",
    "        \n",
    "        if category_id not in category_likes:\n",
    "            category_likes[category_id] = {'likes': 0, 'dislikes': 0}\n",
    "        \n",
    "        category_likes[category_id]['likes'] += item['total_likes']\n",
    "        category_likes[category_id]['dislikes'] += item['total_dislikes']\n",
    "\n",
    "# Обновление тегов на основе накопленных значений\n",
    "for category_id, counts in category_likes.items():\n",
    "    tag_index = tags_df[tags_df['tag'] == category_id].index\n",
    "    \n",
    "    if not tag_index.empty:\n",
    "        tag_row = tag_index[0]\n",
    "        \n",
    "        # Обновляем.likes в tags_df\n",
    "        tags_df.at[tag_row, 'likes'] += counts['likes']\n",
    "        tags_df.at[tag_row, 'likes'] = max(0, tags_df.at[tag_row, 'likes'] - counts['dislikes'])\n",
    "\n",
    "# Функция для расчета процентов\n",
    "def calculate_percentages(df):\n",
    "    total_likes = df['likes'].sum()\n",
    "    if total_likes > 0:\n",
    "        df['percent'] = (df['likes'] / total_likes * 100).fillna(0)\n",
    "    else:\n",
    "        df['percent'] = 0\n",
    "    return df\n",
    "\n",
    "# Расчет лайков и процентов для тегов\n",
    "tags_df = calculate_percentages(tags_df)\n",
    "\n",
    "# Сохранение обновленного DataFrame обратно в файл\n",
    "tags_df.to_parquet('users/user0_tags.parquet', index=False)\n",
    "\n",
    "print(\"Лайки и процентное соотношение сохранены в файл users/user0_tags.parquet.\")"
   ]
  },
  {
   "cell_type": "code",
   "execution_count": 58,
   "id": "53650f1f-c7ed-4d13-a57a-1f21593a7222",
   "metadata": {},
   "outputs": [
    {
     "name": "stdout",
     "output_type": "stream",
     "text": [
      "                             tag    percent  likes\n",
      "0                    Мультфильмы   0.000000      0\n",
      "1                    Развлечения  66.666667      4\n",
      "2                          Хобби   0.000000      0\n",
      "3                       Животные   0.000000      0\n",
      "4                         Разное   0.000000      0\n",
      "5                      Лайфстайл   0.000000      0\n",
      "6                   Телепередачи   0.000000      0\n",
      "7                          Спорт   0.000000      0\n",
      "8                   Недвижимость   0.000000      0\n",
      "9                        Сериалы   0.000000      0\n",
      "10                         Детям   0.000000      0\n",
      "11                        Музыка   0.000000      0\n",
      "12                          Юмор   0.000000      0\n",
      "13                     Авто-мото   0.000000      0\n",
      "14                  Сад и огород   0.000000      0\n",
      "15                        Фильмы  33.333333      2\n",
      "16                     Видеоигры   0.000000      0\n",
      "17                         Наука   0.000000      0\n",
      "18                   Путешествия   0.000000      0\n",
      "19         Технологии и интернет   0.000000      0\n",
      "20                      Лайфхаки   0.000000      0\n",
      "21                      Культура   0.000000      0\n",
      "22   Обзоры и распаковки товаров   0.000000      0\n",
      "23                      Обучение   0.000000      0\n",
      "24                      Здоровье   0.000000      0\n",
      "25               Охота и рыбалка   0.000000      0\n",
      "26        Строительство и ремонт   0.000000      0\n",
      "27                         Аниме   0.000000      0\n",
      "28                     Эзотерика   0.000000      0\n",
      "29                           Еда   0.000000      0\n",
      "30                       UNKNOWN   0.000000      0\n",
      "31                      Интервью   0.000000      0\n",
      "32  Бизнес и предпринимательство   0.000000      0\n",
      "33        Техника и оборудование   0.000000      0\n",
      "34                    Психология   0.000000      0\n",
      "35                       Красота   0.000000      0\n",
      "36                       Природа   0.000000      0\n",
      "37                        Дизайн   0.000000      0\n",
      "38                    Аудиокниги   0.000000      0\n",
      "39                         Аудио   0.000000      0\n"
     ]
    }
   ],
   "source": [
    "import pandas as pd\n",
    "\n",
    "# Загружаем DataFrame из файла Parquet\n",
    "df = pd.read_parquet('users/user0_tags.parquet')\n",
    "\n",
    "# Выводим первые 5 строк\n",
    "print(df.head(200))"
   ]
  },
  {
   "cell_type": "raw",
   "id": "367871a5-fda7-4ad2-902b-34c84a0790af",
   "metadata": {},
   "source": [
    "#для вывода всего (на ФРОНТ)\n",
    "import pandas as pd\n",
    "\n",
    "# Загружаем DataFrame из файла Parquet\n",
    "df = pd.read_parquet('parquet-filtered/filtred.parquet')\n",
    "\n",
    "# Выводим первые 5 строк\n",
    "print(df.head(-200))"
   ]
  },
  {
   "cell_type": "raw",
   "id": "7f28a710-506f-49c5-b7e2-1a0ec150f5d5",
   "metadata": {},
   "source": [
    "import pandas as pd\n",
    "\n",
    "# Загружаем DataFrame из файла Parquet\n",
    "df = pd.read_parquet('parquet-filtered/filtred.parquet')\n",
    "\n",
    "# Сокращаем DataFrame до первых 1000 строк\n",
    "df_reduced = df.head(1000)\n",
    "\n",
    "# Сохраняем сокращенный DataFrame в новый файл Parquet\n",
    "df_reduced.to_parquet('parquet-filtered/reduced.parquet', index=False)\n",
    "\n",
    "# Выводим первые 5 строк сокращенного DataFrame\n",
    "print(df_reduced.head(-5))"
   ]
  },
  {
   "cell_type": "raw",
   "id": "506af547-aaaa-4bf6-b2d1-ff2b7f389f66",
   "metadata": {},
   "source": [
    "import pandas as pd\n",
    "\n",
    "# Загружаем DataFrame из файла Parquet\n",
    "df = pd.read_parquet('logsV02.parquet')\n",
    "\n",
    "# Выводим первые 5 строк сокращенного DataFrame\n",
    "print(df.head(-5))"
   ]
  },
  {
   "cell_type": "markdown",
   "id": "c2c3c86f-796b-4ade-8d4e-0ee1a8570bfc",
   "metadata": {},
   "source": [
    "## City"
   ]
  },
  {
   "cell_type": "code",
   "execution_count": 76,
   "id": "b9fac8a7-aa63-4b43-a561-3d77076e199d",
   "metadata": {},
   "outputs": [
    {
     "name": "stdout",
     "output_type": "stream",
     "text": [
      "58a3fdfe-957e-48de-a05b-6d7fd62ae0b2\n",
      "1252b9d0-d457-4967-b0a8-c3b3fc064630\n",
      "4496e8c2-fe04-4654-995c-4e39173f0a77\n",
      "Лайки и процентное соотношение сохранены в файл users/user0_region.parquet.\n"
     ]
    }
   ],
   "source": [
    "import pandas as pd\n",
    "\n",
    "# Загрузка данных из файла cities\n",
    "cities_df = pd.read_parquet('users/user0_regions.parquet')\n",
    "logs_df = pd.read_parquet('logsV02.parquet')\n",
    "\n",
    "# Данные на входе\n",
    "aggregated = [\n",
    "    {'uid': \"6ba4b910-2b84-462e-92c7-477d29df3da0\", 'total_likes': 0, 'total_dislikes': 0},\n",
    "    {'uid': \"a766398d-ae80-4e6d-8da6-dc306903f8b0\", 'total_likes': 0, 'total_dislikes': 1},\n",
    "    {'uid': \"9d000f21-5760-481c-9b66-552dd28551a6\", 'total_likes': 1, 'total_dislikes': 0},\n",
    "]\n",
    "\n",
    "# Функция для обновления лайков и подсчета процентов\n",
    "def update_city_likes(cities_df, item):\n",
    "    video_id = item['uid']\n",
    "    \n",
    "    # Получаем все записи по video_id\n",
    "    log_entries = logs_df[logs_df['video_id'] == video_id]\n",
    "    \n",
    "    if not log_entries.empty:\n",
    "        # Находим регион с максимальным значением watchtime\n",
    "        city_with_max_watchtime = log_entries.loc[log_entries['watchtime'].idxmax(), 'region']\n",
    "        print(city_with_max_watchtime)\n",
    "\n",
    "        # Обновляем количество лайков для найденного города\n",
    "        update_likes(cities_df, {'total_likes': item['total_likes'], 'total_dislikes': item['total_dislikes']}, city_with_max_watchtime)\n",
    "\n",
    "# Функция для обновления лайков в DataFrame\n",
    "def update_likes(df, item, key):\n",
    "    index = df[df['region'] == key].index\n",
    "    if not index.empty:\n",
    "        row = index[0]\n",
    "        current_likes = df.at[row, 'likes']\n",
    "\n",
    "        # Увеличиваем или уменьшаем количество лайков в зависимости от состояния\n",
    "        if item['total_likes'] > 0:\n",
    "            df.at[row, 'likes'] += item['total_likes']\n",
    "        if item['total_dislikes'] > 0:\n",
    "            if current_likes > 0:\n",
    "                df.at[row, 'likes'] = max(0, current_likes - item['total_dislikes'])\n",
    "\n",
    "# Обновление лайков для каждого элемента в aggregated\n",
    "for item in aggregated:\n",
    "    update_city_likes(cities_df, item)\n",
    "\n",
    "# Функция для расчета процентов\n",
    "def calculate_percentages(df):\n",
    "    total_likes = df['likes'].sum()\n",
    "    df['percent'] = (df['likes'] / total_likes * 100).fillna(0)\n",
    "    return df\n",
    "\n",
    "# Расчет процентов для городов\n",
    "cities_df = calculate_percentages(cities_df)\n",
    "\n",
    "# Сохранение обновленных DataFrame обратно в файл\n",
    "cities_df.to_parquet('users/user0_city.parquet', index=False)\n",
    "\n",
    "print(\"Лайки и процентное соотношение сохранены в файл users/user0_region.parquet.\")"
   ]
  },
  {
   "cell_type": "code",
   "execution_count": 77,
   "id": "08b6552c-809c-4351-b275-8ef3b7111a89",
   "metadata": {},
   "outputs": [
    {
     "name": "stdout",
     "output_type": "stream",
     "text": [
      "                                   region    percent  likes\n",
      "0    d0a727cb-ac6b-4bf7-8449-73a5773ee817   0.000000      0\n",
      "1    1252b9d0-d457-4967-b0a8-c3b3fc064630   0.000000      0\n",
      "2    5e72a4fe-48c1-4b6c-9b85-078f490357dd   0.000000      0\n",
      "3    57ca7ea4-0a03-465d-9302-6ec6b350eefd   0.000000      0\n",
      "4    4496e8c2-fe04-4654-995c-4e39173f0a77  38.461538      5\n",
      "..                                    ...        ...    ...\n",
      "195  03c5c9f1-43bc-4851-981c-37ef2999076f   0.000000      0\n",
      "196  c4226b87-c62b-4a5f-b600-5b66cbd6c42a   0.000000      0\n",
      "197  13042133-f2cf-4caa-94de-b6275fd64f80   0.000000      0\n",
      "198  a40cc51b-ffa8-4472-a4e2-12ebf765b30e   0.000000      0\n",
      "199  f4da1530-1ae8-40ab-9ab5-5a3ecf3213d8   0.000000      0\n",
      "\n",
      "[200 rows x 3 columns]\n"
     ]
    }
   ],
   "source": [
    "import pandas as pd\n",
    "\n",
    "# Загружаем DataFrame из файла Parquet\n",
    "df = pd.read_parquet('users/user0_city.parquet')\n",
    "\n",
    "# Выводим первые 5 строк\n",
    "print(df.head(200))"
   ]
  },
  {
   "cell_type": "markdown",
   "id": "cee765cf-93e7-4717-8f91-0672f5ea1286",
   "metadata": {},
   "source": [
    "## Region"
   ]
  },
  {
   "cell_type": "code",
   "execution_count": 78,
   "id": "f0d334fb-48a1-4f43-9ca5-e659130908ad",
   "metadata": {},
   "outputs": [
    {
     "name": "stdout",
     "output_type": "stream",
     "text": [
      "58a3fdfe-957e-48de-a05b-6d7fd62ae0b2\n",
      "1252b9d0-d457-4967-b0a8-c3b3fc064630\n",
      "4496e8c2-fe04-4654-995c-4e39173f0a77\n",
      "Лайки и процентное соотношение сохранены в файл users/user0_region.parquet.\n"
     ]
    }
   ],
   "source": [
    "import pandas as pd\n",
    "\n",
    "# Загрузка данных из файла cities\n",
    "cities_df = pd.read_parquet('users/user0_regions.parquet')\n",
    "logs_df = pd.read_parquet('logsV02.parquet')\n",
    "\n",
    "# Данные на входе\n",
    "aggregated = [\n",
    "    {'uid': \"6ba4b910-2b84-462e-92c7-477d29df3da0\", 'total_likes': 1, 'total_dislikes': 0},\n",
    "    {'uid': \"a766398d-ae80-4e6d-8da6-dc306903f8b0\", 'total_likes': 0, 'total_dislikes': 1},\n",
    "    {'uid': \"9d000f21-5760-481c-9b66-552dd28551a6\", 'total_likes': 0, 'total_dislikes': 0},\n",
    "]\n",
    "\n",
    "# Функция для обновления лайков и подсчета процентов\n",
    "def update_city_likes(cities_df, item):\n",
    "    video_id = item['uid']\n",
    "    \n",
    "    # Получаем все записи по video_id\n",
    "    log_entries = logs_df[logs_df['video_id'] == video_id]\n",
    "    \n",
    "    if not log_entries.empty:\n",
    "        # Находим регион с максимальным значением watchtime\n",
    "        city_with_max_watchtime = log_entries.loc[log_entries['watchtime'].idxmax(), 'region']\n",
    "        print(city_with_max_watchtime)\n",
    "\n",
    "        # Обновляем количество лайков для найденного города\n",
    "        update_likes(cities_df, {'total_likes': item['total_likes'], 'total_dislikes': item['total_dislikes']}, city_with_max_watchtime)\n",
    "\n",
    "# Функция для обновления лайков в DataFrame\n",
    "def update_likes(df, item, key):\n",
    "    index = df[df['region'] == key].index\n",
    "    if not index.empty:\n",
    "        row = index[0]\n",
    "        current_likes = df.at[row, 'likes']\n",
    "\n",
    "        # Увеличиваем или уменьшаем количество лайков в зависимости от состояния\n",
    "        if item['total_likes'] > 0:\n",
    "            df.at[row, 'likes'] += item['total_likes']\n",
    "        if item['total_dislikes'] > 0:\n",
    "            if current_likes > 0:\n",
    "                df.at[row, 'likes'] = max(0, current_likes - item['total_dislikes'])\n",
    "\n",
    "# Обновление лайков для каждого элемента в aggregated\n",
    "for item in aggregated:\n",
    "    update_city_likes(cities_df, item)\n",
    "\n",
    "# Функция для расчета процентов\n",
    "def calculate_percentages(df):\n",
    "    total_likes = df['likes'].sum()\n",
    "    df['percent'] = (df['likes'] / total_likes * 100).fillna(0)\n",
    "    return df\n",
    "\n",
    "# Расчет процентов для городов\n",
    "cities_df = calculate_percentages(cities_df)\n",
    "\n",
    "# Сохранение обновленных DataFrame обратно в файл\n",
    "cities_df.to_parquet('users/user0_regions.parquet', index=False)\n",
    "\n",
    "print(\"Лайки и процентное соотношение сохранены в файл users/user0_region.parquet.\")"
   ]
  },
  {
   "cell_type": "code",
   "execution_count": 73,
   "id": "4bb12aeb-0bc6-438a-990f-9460a1f141f9",
   "metadata": {
    "scrolled": true
   },
   "outputs": [
    {
     "name": "stdout",
     "output_type": "stream",
     "text": [
      "                                   region    percent  likes\n",
      "0    d0a727cb-ac6b-4bf7-8449-73a5773ee817   0.000000      0\n",
      "1    1252b9d0-d457-4967-b0a8-c3b3fc064630   0.000000      0\n",
      "2    5e72a4fe-48c1-4b6c-9b85-078f490357dd   0.000000      0\n",
      "3    57ca7ea4-0a03-465d-9302-6ec6b350eefd   0.000000      0\n",
      "4    4496e8c2-fe04-4654-995c-4e39173f0a77  33.333333      4\n",
      "..                                    ...        ...    ...\n",
      "195  03c5c9f1-43bc-4851-981c-37ef2999076f   0.000000      0\n",
      "196  c4226b87-c62b-4a5f-b600-5b66cbd6c42a   0.000000      0\n",
      "197  13042133-f2cf-4caa-94de-b6275fd64f80   0.000000      0\n",
      "198  a40cc51b-ffa8-4472-a4e2-12ebf765b30e   0.000000      0\n",
      "199  f4da1530-1ae8-40ab-9ab5-5a3ecf3213d8   0.000000      0\n",
      "\n",
      "[200 rows x 3 columns]\n"
     ]
    }
   ],
   "source": [
    "import pandas as pd\n",
    "\n",
    "# Загружаем DataFrame из файла Parquet\n",
    "df = pd.read_parquet('users/user0_regions.parquet')\n",
    "\n",
    "# Выводим первые 5 строк\n",
    "print(df.head(200))"
   ]
  },
  {
   "cell_type": "code",
   "execution_count": null,
   "id": "a91d12d5-7b31-41cc-9b01-b49fc6ae5f55",
   "metadata": {},
   "outputs": [],
   "source": []
  },
  {
   "cell_type": "code",
   "execution_count": null,
   "id": "22ff3a63-b38b-4f3c-9b9d-98ab614e548e",
   "metadata": {},
   "outputs": [],
   "source": []
  },
  {
   "cell_type": "markdown",
   "id": "3408ba87-b91b-484d-a69d-a0fbffbd944e",
   "metadata": {},
   "source": [
    "###### Поиск"
   ]
  },
  {
   "cell_type": "code",
   "execution_count": 10,
   "id": "f04cbf36-0f20-4064-9fa4-14d30bb102b8",
   "metadata": {},
   "outputs": [
    {
     "name": "stdout",
     "output_type": "stream",
     "text": [
      "Найдены значения для video_id: d228cf4d-daae-4a4c-b9e0-aa64d8c54352\n",
      "                                    region  \\\n",
      "1     1252b9d0-d457-4967-b0a8-c3b3fc064630   \n",
      "416   1252b9d0-d457-4967-b0a8-c3b3fc064630   \n",
      "919   1252b9d0-d457-4967-b0a8-c3b3fc064630   \n",
      "2395  1252b9d0-d457-4967-b0a8-c3b3fc064630   \n",
      "\n",
      "                                      city  \\\n",
      "1     d228cf4d-daae-4a4c-b9e0-aa64d8c54352   \n",
      "416   d228cf4d-daae-4a4c-b9e0-aa64d8c54352   \n",
      "919   d228cf4d-daae-4a4c-b9e0-aa64d8c54352   \n",
      "2395  d228cf4d-daae-4a4c-b9e0-aa64d8c54352   \n",
      "\n",
      "                                  video_id  watchtime  \n",
      "1     a766398d-ae80-4e6d-8da6-dc306903f8b0        673  \n",
      "416   87fbbc1b-0379-4e27-a219-3594fe0f0359         31  \n",
      "919   788b1234-da5c-43d4-b316-4742d3c47d97          0  \n",
      "2395  a83f11be-95d5-4b92-bb1c-a9ffe047a8a8       1563  \n"
     ]
    }
   ],
   "source": [
    "import pandas as pd\n",
    "\n",
    "# Загрузка данных из файла\n",
    "#cities_df = pd.read_parquet('users/user0_city.parquet')\n",
    "cities_df = pd.read_parquet('logsV02.parquet')\n",
    "#6ba4b910-2b84-462e-92c7-477d29df3da0 - video_id\n",
    "# Определенный video_id для поиска\n",
    "search_video_id = \"d228cf4d-daae-4a4c-b9e0-aa64d8c54352\"  # замените на нужный video_id\n",
    "\n",
    "# Фильтрация DataFrame по video_id\n",
    "result = cities_df[cities_df['city'] == search_video_id]\n",
    "\n",
    "# Проверка результата\n",
    "if not result.empty:\n",
    "    print(\"Найдены значения для video_id:\", search_video_id)\n",
    "    print(result)  # выводим найденные строки\n",
    "else:\n",
    "    print(\"Не найдены значения для video_id:\", search_video_id)"
   ]
  },
  {
   "cell_type": "code",
   "execution_count": null,
   "id": "44827e70-582f-46df-bd6a-cd108e3453f9",
   "metadata": {},
   "outputs": [],
   "source": []
  }
 ],
 "metadata": {
  "kernelspec": {
   "display_name": "Python 3 (ipykernel)",
   "language": "python",
   "name": "python3"
  },
  "language_info": {
   "codemirror_mode": {
    "name": "ipython",
    "version": 3
   },
   "file_extension": ".py",
   "mimetype": "text/x-python",
   "name": "python",
   "nbconvert_exporter": "python",
   "pygments_lexer": "ipython3",
   "version": "3.10.12"
  }
 },
 "nbformat": 4,
 "nbformat_minor": 5
}
