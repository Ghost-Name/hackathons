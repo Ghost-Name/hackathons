{
 "cells": [
  {
   "cell_type": "code",
   "execution_count": null,
   "id": "c87b31aa-54e3-4a28-a7c4-f4bfdadde29e",
   "metadata": {},
   "outputs": [],
   "source": [
    "# Распаковка"
   ]
  },
  {
   "cell_type": "code",
   "execution_count": 1,
   "id": "42230da3-6b68-4cb8-b6b3-df67371a1ed6",
   "metadata": {},
   "outputs": [
    {
     "name": "stderr",
     "output_type": "stream",
     "text": [
      "cold_start_train_2.zip: 100%|███████████████████████████████████████████████| 33.3G/33.3G [11:30<00:00, 48.2MB/s]"
     ]
    },
    {
     "name": "stdout",
     "output_type": "stream",
     "text": [
      "Файл успешно скачан.\n"
     ]
    },
    {
     "name": "stderr",
     "output_type": "stream",
     "text": [
      "\n"
     ]
    }
   ],
   "source": [
    "import requests\n",
    "from tqdm import tqdm\n",
    "\n",
    "url = 'https://lodmedia.hb.bizmrg.com/case_files/1128664/cold_start_train_2.zip'  \n",
    "filename = 'cold_start_train_2.zip'  \n",
    "\n",
    "# Получаем размер файла\n",
    "response = requests.head(url)\n",
    "total_size = int(response.headers.get('content-length', 0))\n",
    "\n",
    "# Загружаем файл и отображаем прогресс\n",
    "with requests.get(url, stream=True) as response:\n",
    "    if response.status_code == 200:\n",
    "        with open(filename, 'wb') as f:\n",
    "            # tqdm для отображения прогресса\n",
    "            with tqdm(total=total_size, unit='B', unit_scale=True, desc=filename) as bar:\n",
    "                for data in response.iter_content(chunk_size=8192):\n",
    "                    f.write(data)\n",
    "                    bar.update(len(data))\n",
    "        print(\"Файл успешно скачан.\")\n",
    "    else:\n",
    "        print(\"Ошибка при скачивании файла:\", response.status_code)"
   ]
  },
  {
   "cell_type": "code",
   "execution_count": null,
   "id": "570365da-ddbc-4f3e-946b-889872d8c07c",
   "metadata": {},
   "outputs": [],
   "source": []
  },
  {
   "cell_type": "code",
   "execution_count": null,
   "id": "1eb52d9d-a518-4fa6-bef0-68a7afc9b2c4",
   "metadata": {},
   "outputs": [
    {
     "name": "stdout",
     "output_type": "stream",
     "text": [
      "Содержимое архива:\n",
      "logs_df_2024-07-08.parquet\n",
      "logs_df_2024-07-09.parquet\n",
      "logs_df_2024-07-10.parquet\n",
      "logs_df_2024-07-11.parquet\n",
      "logs_df_2024-07-12.parquet\n",
      "logs_df_2024-07-13.parquet\n",
      "logs_df_2024-07-14.parquet\n",
      "logs_df_2024-07-15.parquet\n",
      "logs_df_2024-07-16.parquet\n",
      "logs_df_2024-07-17.parquet\n",
      "logs_df_2024-07-18.parquet\n",
      "logs_df_2024-07-19.parquet\n",
      "logs_df_2024-07-20.parquet\n",
      "logs_df_2024-07-21.parquet\n",
      "logs_df_2024-07-22.parquet\n",
      "logs_df_2024-07-23.parquet\n",
      "logs_df_2024-07-24.parquet\n",
      "logs_df_2024-07-25.parquet\n",
      "logs_df_2024-07-26.parquet\n",
      "logs_df_2024-07-27.parquet\n",
      "logs_df_2024-07-28.parquet\n",
      "logs_df_2024-07-29.parquet\n",
      "logs_df_2024-07-30.parquet\n",
      "logs_df_2024-07-31.parquet\n",
      "logs_df_2024-08-01.parquet\n",
      "logs_df_2024-08-02.parquet\n",
      "logs_df_2024-08-03.parquet\n",
      "logs_df_2024-08-04.parquet\n",
      "logs_df_2024-08-05.parquet\n",
      "logs_df_2024-08-06.parquet\n",
      "video_stat.parquet\n",
      "æ«ßΓáó ñáΓáßÑΓá.docx\n"
     ]
    },
    {
     "name": "stderr",
     "output_type": "stream",
     "text": [
      "Распаковка файлов:   6%|███▌                                                    | 2/32 [00:22<05:38, 11.28s/файл]"
     ]
    }
   ],
   "source": [
    "import zipfile\n",
    "import os\n",
    "from tqdm import tqdm\n",
    "\n",
    "# Задайте путь к вашему zip-файлу\n",
    "zip_file_path = 'cold_start_train_2.zip' \n",
    "\n",
    "# Создание выходной папки в той же директории, что и исполняемый файл\n",
    "output_folder = os.path.join(os.getcwd(), 'parquet')  # Папка будет создана в текущей рабочей директории\n",
    "\n",
    "# Создайте выходную папку, если она не существует\n",
    "os.makedirs(output_folder, exist_ok=True)\n",
    "\n",
    "# Распаковка zip-файла с индикатором прогресса\n",
    "with zipfile.ZipFile(zip_file_path, 'r') as zip_ref:\n",
    "    # Получаем список файлов в архиве\n",
    "    files = zip_ref.namelist()\n",
    "    \n",
    "    print(\"Содержимое архива:\")\n",
    "    for file in files:\n",
    "        print(file)  # Выводим имя каждого файла\n",
    "\n",
    "    # Инициализируем прогресс-бар\n",
    "    with tqdm(total=len(files), desc=\"Распаковка файлов\", unit=\"файл\") as pbar:\n",
    "        for file in files:\n",
    "            extracted_path = os.path.join(output_folder, file)\n",
    "            # Создаем необходимые подкаталоги\n",
    "            os.makedirs(os.path.dirname(extracted_path), exist_ok=True)\n",
    "            zip_ref.extract(file, output_folder)  # Извлекаем файл\n",
    "            pbar.update(1)  # Обновляем прогресс\n",
    "\n",
    "print(f'Файлы успешно распакованы в папку: {output_folder}')"
   ]
  },
  {
   "cell_type": "code",
   "execution_count": null,
   "id": "29fe0c48-1949-4de2-8ef2-d8fa6ac567f7",
   "metadata": {},
   "outputs": [],
   "source": []
  }
 ],
 "metadata": {
  "kernelspec": {
   "display_name": "Python 3 (ipykernel)",
   "language": "python",
   "name": "python3"
  },
  "language_info": {
   "codemirror_mode": {
    "name": "ipython",
    "version": 3
   },
   "file_extension": ".py",
   "mimetype": "text/x-python",
   "name": "python",
   "nbconvert_exporter": "python",
   "pygments_lexer": "ipython3",
   "version": "3.10.12"
  }
 },
 "nbformat": 4,
 "nbformat_minor": 5
}
