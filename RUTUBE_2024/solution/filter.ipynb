{
 "cells": [
  {
   "cell_type": "raw",
   "id": "537d710a-0ae9-4c7e-82c6-973079574e27",
   "metadata": {},
   "source": [
    "pip install pandas pyarrow"
   ]
  },
  {
   "cell_type": "raw",
   "id": "09bfb014-6ce5-4651-872c-315649fc2020",
   "metadata": {},
   "source": [
    "pip install dask[complete]"
   ]
  },
  {
   "cell_type": "code",
   "execution_count": 5,
   "id": "cbff18f4-4eab-4877-95d3-0a0435089315",
   "metadata": {},
   "outputs": [
    {
     "name": "stdout",
     "output_type": "stream",
     "text": [
      "Defaulting to user installation because normal site-packages is not writeable\n",
      "Requirement already satisfied: numpy in /home/user1/.local/lib/python3.10/site-packages (2.1.1)\n",
      "Note: you may need to restart the kernel to use updated packages.\n"
     ]
    }
   ],
   "source": [
    "pip install numpy"
   ]
  },
  {
   "cell_type": "code",
   "execution_count": 6,
   "id": "d2556da7",
   "metadata": {},
   "outputs": [
    {
     "name": "stdout",
     "output_type": "stream",
     "text": [
      "Requirement already satisfied: joblib in /home/user1/anaconda3/lib/python3.11/site-packages (1.2.0)\n",
      "Note: you may need to restart the kernel to use updated packages.\n"
     ]
    }
   ],
   "source": [
    "pip install joblib"
   ]
  },
  {
   "cell_type": "code",
   "execution_count": null,
   "id": "12f49484-01e8-4c23-8682-5afaf4c9f45e",
   "metadata": {},
   "outputs": [],
   "source": [
    "pip install scikit-surprise"
   ]
  },
  {
   "cell_type": "code",
   "execution_count": null,
   "id": "c4250b7d-d688-4b9f-b29f-1838445266a9",
   "metadata": {},
   "outputs": [],
   "source": []
  },
  {
   "cell_type": "markdown",
   "id": "889b1cc3-44fb-4d08-a526-c7db5373ade6",
   "metadata": {
    "jp-MarkdownHeadingCollapsed": true
   },
   "source": [
    "# Файл filtred.parquet"
   ]
  },
  {
   "cell_type": "code",
   "execution_count": 4,
   "id": "832214cd-4c2d-42ef-b1e1-bbaf5104161e",
   "metadata": {},
   "outputs": [
    {
     "name": "stdout",
     "output_type": "stream",
     "text": [
      "Список столбцов в файле:\n",
      "Index(['video_id', 'v_pub_datetime', 'v_total_comments', 'v_year_views',\n",
      "       'v_month_views', 'v_week_views', 'v_day_views', 'v_likes', 'v_dislikes',\n",
      "       'v_duration', 'v_cr_click_like_7_days', 'v_cr_click_dislike_7_days',\n",
      "       'v_cr_click_vtop_7_days', 'v_cr_click_long_view_7_days',\n",
      "       'v_cr_click_comment_7_days', 'v_cr_click_like_30_days',\n",
      "       'v_cr_click_dislike_30_days', 'v_cr_click_vtop_30_days',\n",
      "       'v_cr_click_long_view_30_days', 'v_cr_click_comment_30_days',\n",
      "       'v_cr_click_like_1_days', 'v_cr_click_dislike_1_days',\n",
      "       'v_cr_click_vtop_1_days', 'v_cr_click_long_view_1_days',\n",
      "       'v_cr_click_comment_1_days', 'v_is_hidden', 'v_is_deleted',\n",
      "       'v_avg_watchtime_1_day', 'v_avg_watchtime_7_day',\n",
      "       'v_avg_watchtime_30_day', 'v_frac_avg_watchtime_1_day_duration',\n",
      "       'v_frac_avg_watchtime_7_day_duration',\n",
      "       'v_frac_avg_watchtime_30_day_duration',\n",
      "       'v_category_popularity_percent_7_days',\n",
      "       'v_category_popularity_percent_30_days', 'v_long_views_1_days',\n",
      "       'v_long_views_7_days', 'v_long_views_30_days', 'row_number', 'title',\n",
      "       'description', 'category_id', 'author_id'],\n",
      "      dtype='object')\n",
      "Сохранение 1555687 строк в файл parquet/filtred.parquet...\n"
     ]
    },
    {
     "name": "stderr",
     "output_type": "stream",
     "text": [
      "Сохранение данных: 100%|███████████████████████████████████████| 1555687/1555687 [00:02<00:00, 607000.79строка/s]"
     ]
    },
    {
     "name": "stdout",
     "output_type": "stream",
     "text": [
      "Отфильтрованные данные успешно сохранены в: parquet/filtred.parquet\n"
     ]
    },
    {
     "name": "stderr",
     "output_type": "stream",
     "text": [
      "\n"
     ]
    }
   ],
   "source": [
    "import pandas as pd\n",
    "import os\n",
    "from tqdm import tqdm\n",
    "\n",
    "# Путь к исходному файлу parquet\n",
    "input_file = os.path.join('parquet', 'video_stat.parquet')  # Предполагается, что файл находится в папке parquet\n",
    "\n",
    "# Загрузка данных из файла video_stat.parquet\n",
    "df = pd.read_parquet(input_file)\n",
    "\n",
    "# Выводим список столбцов для проверки\n",
    "print(\"Список столбцов в файле:\")\n",
    "print(df.columns)\n",
    "\n",
    "# Фильтрация нужных столбцов\n",
    "needed_columns = ['video_id', 'category_id', 'title', 'v_pub_datetime']\n",
    "filtered_df = df[needed_columns]\n",
    "\n",
    "# Путь к выходному файлу filtred.parquet\n",
    "output_file = os.path.join('parquet', 'filtred.parquet')\n",
    "\n",
    "# Сохранение отфильтрованных данных в новый parquet файл\n",
    "print(f\"Сохранение {len(filtered_df)} строк в файл {output_file}...\")\n",
    "\n",
    "# Используем tqdm для отображения прогресса (только для демонстрации)\n",
    "with tqdm(total=len(filtered_df), desc=\"Сохранение данных\", unit=\"строка\") as pbar:\n",
    "    # Сохраняем данные в пакетах\n",
    "    filtered_df.to_parquet(output_file, index=False)\n",
    "    pbar.update(len(filtered_df))  # Обновляем прогресс после завершения сохранения\n",
    "\n",
    "print(f'Отфильтрованные данные успешно сохранены в: {output_file}')"
   ]
  },
  {
   "cell_type": "code",
   "execution_count": 7,
   "id": "82590bc7-74c8-42e2-babb-60d7653e384d",
   "metadata": {},
   "outputs": [
    {
     "name": "stdout",
     "output_type": "stream",
     "text": [
      "Первые 5 строк из файла filtred.parquet:\n",
      "                               video_id  category_id  \\\n",
      "0  973f24c0-15b2-434f-8740-4e2726f79c30  Мультфильмы   \n",
      "1  1a3f527c-44b2-4f7e-9641-26f078edbf2e  Развлечения   \n",
      "2  2f563d09-45ef-4e27-8da0-daa74235a2e7        Хобби   \n",
      "3  154fac0e-1794-4406-afa0-61f688e3a764     Животные   \n",
      "4  470b4e3e-e06d-4370-80dc-34d6a78b22db       Разное   \n",
      "\n",
      "                                               title            v_pub_datetime  \n",
      "0                                   пережила свой яд 2024-06-15 22:58:03+03:00  \n",
      "1  🎓Знаете ли Вы, что  ؟    Интересные факты ! # ... 2021-04-18 17:27:42+03:00  \n",
      "2  ЗИМНЯЯ, ТЕПЛАЯ ШЛЯПА крючком. Как связать поля... 2022-11-17 16:36:43+03:00  \n",
      "3                                               найк 2010-01-01 00:00:01+03:00  \n",
      "4  SHACMAN. Шакман замена двухрядного подшипника ... 2023-11-29 16:49:46+03:00  \n"
     ]
    }
   ],
   "source": [
    "import pandas as pd\n",
    "import os\n",
    "\n",
    "# Путь к выходному файлу filtred.parquet\n",
    "output_file = os.path.join('filtred.parquet')\n",
    "\n",
    "# Загрузка данных из файла filtred.parquet\n",
    "filtered_df = pd.read_parquet(output_file)\n",
    "\n",
    "# Вывод первых 5 строк\n",
    "print(\"Первые 5 строк из файла filtred.parquet:\")\n",
    "print(filtered_df.head(5))"
   ]
  },
  {
   "cell_type": "markdown",
   "id": "5dbb4756-b066-456f-bada-500dd7020ed6",
   "metadata": {},
   "source": [
    "# Логи тест"
   ]
  },
  {
   "cell_type": "markdown",
   "id": "40c78987-cb2d-4185-82b3-e89c25b2b6af",
   "metadata": {},
   "source": [
    "## Содержание логов"
   ]
  },
  {
   "cell_type": "code",
   "execution_count": 2,
   "id": "33654765-6cca-4510-a91b-1ce345ca313f",
   "metadata": {
    "scrolled": true
   },
   "outputs": [
    {
     "name": "stdout",
     "output_type": "stream",
     "text": [
      "Столбцы: ['event_timestamp', 'user_id', 'region', 'city', 'video_id', 'watchtime']\n",
      "             event_timestamp                               user_id  \\\n",
      "0  2024-07-08 16:13:59+03:00  5ab7c3c3-2ba8-4d61-b81e-8722d1249a7c   \n",
      "1  2024-07-08 06:29:48+03:00  ad8fdd37-b467-473a-8fd8-121013752abd   \n",
      "2  2024-07-08 19:58:10+03:00  dcfcfe10-dfd1-4d27-a72b-9c324d91224e   \n",
      "3  2024-07-08 10:09:43+03:00  0a169743-1bed-4ce8-80dd-c5b770b8737f   \n",
      "4  2024-07-08 19:15:16+03:00  08ff79ea-afa2-4562-b808-380f291239a1   \n",
      "5  2024-07-08 08:03:12+03:00  e16131ad-7686-4241-b651-3d662fd1262e   \n",
      "6  2024-07-08 07:40:48+03:00  1b1ae7e0-beed-4d90-aaa7-2a214ffdeffb   \n",
      "7  2024-07-08 16:30:58+03:00  7f287989-4fbc-4798-9f81-0ef4eb10eab1   \n",
      "8  2024-07-08 20:54:14+03:00  f91c2c0f-f38c-438c-8492-3d353af902ea   \n",
      "10 2024-07-08 18:25:03+03:00  38100352-f8e9-42a8-9d1c-5c39425ff143   \n",
      "11 2024-07-08 15:08:35+03:00  9d6d6e56-c3b3-4f18-b96c-6463efb37113   \n",
      "12 2024-07-08 14:59:08+03:00  dc2a65e6-ba94-4f9f-ac54-55c4d7bd8229   \n",
      "13 2024-07-08 16:22:10+03:00  5c303653-360e-4a1a-a736-41a2e54a2c83   \n",
      "14 2024-07-08 21:40:22+03:00  6472498a-1e86-4707-a5a1-a7ce5f5c7b04   \n",
      "15 2024-07-08 20:52:24+03:00  290b6c4b-c8d5-4a97-9a38-c7a0981ad49f   \n",
      "16 2024-07-08 19:24:58+03:00  3603f7d9-0a6f-4939-9337-7ffe4ab760ec   \n",
      "17 2024-07-08 19:20:48+03:00  220a6176-de71-4cb8-8784-cb311d5cb0a3   \n",
      "18 2024-07-08 08:21:47+03:00  da472fd4-fcd5-47fe-8934-b18a9aa53cc7   \n",
      "19 2024-07-08 18:46:58+03:00  bd26474f-4e2d-4876-ade4-424cef472a92   \n",
      "20 2024-07-08 23:09:45+03:00  6a019f62-ad26-4915-b374-b95653fc02f6   \n",
      "\n",
      "                                  region  \\\n",
      "0   d0a727cb-ac6b-4bf7-8449-73a5773ee817   \n",
      "1   1252b9d0-d457-4967-b0a8-c3b3fc064630   \n",
      "2   5e72a4fe-48c1-4b6c-9b85-078f490357dd   \n",
      "3   57ca7ea4-0a03-465d-9302-6ec6b350eefd   \n",
      "4   4496e8c2-fe04-4654-995c-4e39173f0a77   \n",
      "5   f5925ad5-7bc3-4c10-b14b-807f0cdd8c4e   \n",
      "6   92478b19-5c4e-47ac-acce-2d2fd8fd04ca   \n",
      "7   05915c67-9836-4a79-b2cb-07bd221cb10e   \n",
      "8   f5963e7e-74c3-40f5-8960-8d0410090823   \n",
      "10  a969aa9e-aae4-4d73-8762-dad0825feebe   \n",
      "11  f5925ad5-7bc3-4c10-b14b-807f0cdd8c4e   \n",
      "12  aa3fa1f7-75ad-4acb-9c67-1f06b9ac0b2a   \n",
      "13  f5925ad5-7bc3-4c10-b14b-807f0cdd8c4e   \n",
      "14  d80bf8fe-fef5-4ec7-8991-d59c75802163   \n",
      "15  8a159dca-6240-4954-b39b-58734dc8d8c1   \n",
      "16  92478b19-5c4e-47ac-acce-2d2fd8fd04ca   \n",
      "17  4ea90a54-312b-43bf-b84b-7573be1ea2ce   \n",
      "18  5e72a4fe-48c1-4b6c-9b85-078f490357dd   \n",
      "19  f5925ad5-7bc3-4c10-b14b-807f0cdd8c4e   \n",
      "20  14cb3b41-381a-47a4-87b4-290763d1ac25   \n",
      "\n",
      "                                    city  \\\n",
      "0   daa223d9-5a07-4723-8b1c-e0660fb50036   \n",
      "1   d228cf4d-daae-4a4c-b9e0-aa64d8c54352   \n",
      "2   c8910e58-e5da-4ba9-bb99-1c8152ef2942   \n",
      "3   633d9f2d-7453-417d-8454-0ce9f935b693   \n",
      "4   62453693-e6de-4ff7-a06c-1ba765266f35   \n",
      "5   c154d199-d883-4e3c-81ee-fab730e7905f   \n",
      "6   11b9fa36-14ed-4e06-ad42-d5ea83af11bd   \n",
      "7   910872ec-15df-4021-9613-34704e30d842   \n",
      "8   187bb813-0f57-4b07-8be1-ba78105db9f0   \n",
      "10  e11d3dc0-a6f5-46b4-8e5c-e09cc8245cbf   \n",
      "11  9d91a98f-7a35-48eb-987d-49a7fc43aec4   \n",
      "12  1263bd24-a853-471c-a4f0-7266cc829c2f   \n",
      "13  9d91a98f-7a35-48eb-987d-49a7fc43aec4   \n",
      "14  17fd2a6d-fb62-48d8-99dd-bd7de162adba   \n",
      "15  feeacfe9-3207-41b5-bed8-223ec946ef25   \n",
      "16  f14b1afc-f410-454a-9ff4-15a14ef22d05   \n",
      "17  292ec156-03db-4c12-9f34-12449a71f022   \n",
      "18  98b24ce9-4cfd-4bdb-b2e4-ab7c604890c4   \n",
      "19  c154d199-d883-4e3c-81ee-fab730e7905f   \n",
      "20  75afcd99-3a0f-4c01-a0f4-32fc8f1d93f7   \n",
      "\n",
      "                                video_id  watchtime  \n",
      "0   6ba4b910-2b84-462e-92c7-477d29df3da0          1  \n",
      "1   a766398d-ae80-4e6d-8da6-dc306903f8b0        673  \n",
      "2   c36d9722-e24c-4cc1-b4e6-692eb134eb91         16  \n",
      "3   ec9925eb-5d7d-4b7a-8646-aa68761adffd          2  \n",
      "4   9d000f21-5760-481c-9b66-552dd28551a6       5749  \n",
      "5   07b61acb-6fa1-4b5a-8484-6fc8d40894b3        152  \n",
      "6   cd97ca5f-11c7-4443-bc06-f26644ac8b54         21  \n",
      "7   b4ad13a8-087a-4144-9f16-66dfe38a0ab2        493  \n",
      "8   ff70b580-c121-4b30-86d0-40539ff178ec          0  \n",
      "10  6892c9b4-0ce0-4821-9bc9-81360620406b          0  \n",
      "11  1e2a1dc1-3a85-4806-849c-09dd491161ea       3342  \n",
      "12  cd97ca5f-11c7-4443-bc06-f26644ac8b54          0  \n",
      "13  25d24b55-1f58-480f-83c6-a823ca8e2cfb         10  \n",
      "14  5d40ff8f-d1df-4b3b-99fc-b6bd75e79f4c       1890  \n",
      "15  aabe1790-f080-4caa-9e40-ac3a268b883d         52  \n",
      "16  a6ef68a0-f3a3-4f03-9449-0a0a6c95f242          0  \n",
      "17  1bfdb284-f34f-43df-b07f-d59cb0f62230        162  \n",
      "18  f0086c15-3718-411b-ad40-bc1fb67f67cb          1  \n",
      "19  05209cc0-13e0-487d-9639-d13fe419ce3b          2  \n",
      "20  d7d73b42-2b1c-4d15-bfc8-c9b4901a9793         21  \n"
     ]
    }
   ],
   "source": [
    "#чтение всех названий столбцов\n",
    "import dask.dataframe as dd\n",
    "\n",
    "# Чтениеimport json\n",
    "\n",
    "# Список идентификаторов\n",
    "uuids = [\n",
    "    \"6ba4b910-2b84-462e-92c7-477d29df3da0\",\n",
    "    \"a766398d-ae80-4e6d-8da6-dc306903f8b0\",\n",
    "    \"c36d9722-e24c-4cc1-b4e6-692eb134eb91\",\n",
    "    \"ec9925eb-5d7d-4b7a-8646-aa68761adffd\",\n",
    "    \"9d000f21-5760-481c-9b66-552dd28551a6\",\n",
    "    \"07b61acb-6fa1-4b5a-8484-6fc8d40894b3\",\n",
    "    \"cd97ca5f-11c7-4443-bc06-f26644ac8b54\",\n",
    "    \"b4ad13a8-087a-4144-9f16-66dfe38a0ab2\",\n",
    "    \"ff70b580-c121-4b30-86d0-40539ff178ec\",\n",
    "    \"6892c9b4-0ce0-4821-9bc9-81360620406b\"\n",
    "]\n",
    "\n",
    "# Создание словаря для хранения данных\n",
    "data = {\"uuids\": uuids}\n",
    "\n",
    "# Сохранение в JSON файл\n",
    "with open('uuids.json', 'w') as json_file:\n",
    "    json.dump(data, json_file, indent=4)\n",
    "\n",
    "print(\"Данные сохранены в uuids.json\") файла video_stat.parquet\n",
    "file_path = 'parquet/logs_df_2024-07-08.parquet'\n",
    "data = dd.read_parquet(file_path)\n",
    "\n",
    "# Получение названий столбцов\n",
    "column_names = data.columns.tolist()\n",
    "\n",
    "# Вывод названий столбцов\n",
    "print(\"Столбцы:\", column_names)\n",
    "print(data.head(20))"
   ]
  },
  {
   "cell_type": "code",
   "execution_count": 25,
   "id": "c51188b4-0024-4bdb-ad17-640379263572",
   "metadata": {},
   "outputs": [
    {
     "name": "stdout",
     "output_type": "stream",
     "text": [
      "Число повторов video_id \"d0a727cb-ac6b-4bf7-8449-73a5773ee817\": 81122\n"
     ]
    }
   ],
   "source": [
    "import pandas as pd\n",
    "import os\n",
    "\n",
    "# Путь к файлу logs_df_2024-07-08.parquet\n",
    "# video_stat.parquet     logs_df_2024-07-08.parquet\n",
    "input_file = os.path.join('parquet', 'logs_df_2024-07-08.parquet')  # Предполагается, что файл находится в папке parquet\n",
    "\n",
    "# Загрузка данных из файла\n",
    "df = pd.read_parquet(input_file)\n",
    "\n",
    "# Определяем значение, количество повторов которого нужно найти\n",
    "video_id_to_count = 'd0a727cb-ac6b-4bf7-8449-73a5773ee817'\n",
    "\n",
    "# Подсчёт количества повторов\n",
    "count = df['region'].value_counts().get(video_id_to_count, 0)\n",
    "\n",
    "# Вывод результата\n",
    "print(f'Число повторов video_id \"{video_id_to_count}\": {count}')"
   ]
  },
  {
   "cell_type": "code",
   "execution_count": 9,
   "id": "5cc9a5eb-5b5d-403b-8afe-ce497e092d11",
   "metadata": {
    "scrolled": true
   },
   "outputs": [
    {
     "name": "stdout",
     "output_type": "stream",
     "text": [
      "Первые 5 строк столбца v_frac_avg_watchtime_1_day_duration:\n",
      "0           0\n",
      "1           0\n",
      "2           0\n",
      "3          24\n",
      "4           0\n",
      "           ..\n",
      "1936069     4\n",
      "1936070     0\n",
      "1936071     0\n",
      "1936073     1\n",
      "1936074    28\n",
      "Name: v_likes, Length: 1555677, dtype: uint64\n"
     ]
    }
   ],
   "source": [
    "import pandas as pd\n",
    "import os\n",
    "\n",
    "# Путь к файлу video_stat.parquet\n",
    "input_file = os.path.join('parquet', 'video_stat.parquet') \n",
    "\n",
    "# Загрузка данных из файла\n",
    "df = pd.read_parquet(input_file)\n",
    "\n",
    "# Вывод первых 5 строк столбца v_frac_avg_watchtime_1_day_duration\n",
    "print(\"Первые 5 строк столбца v_frac_avg_watchtime_1_day_duration:\")\n",
    "print(df['v_likes'].head(-10))"
   ]
  },
  {
   "cell_type": "code",
   "execution_count": 8,
   "id": "8b4b95db-7f43-4034-8230-dbb8a9ca8911",
   "metadata": {},
   "outputs": [
    {
     "name": "stdout",
     "output_type": "stream",
     "text": [
      "Число нулей в столбце v_long_views_30_days: 909774\n"
     ]
    }
   ],
   "source": [
    "import pandas as pd\n",
    "import os\n",
    "\n",
    "# Путь к файлу video_stat.parquet\n",
    "input_file = os.path.join('parquet', 'video_stat.parquet')  \n",
    "\n",
    "# Загрузка данных из файла\n",
    "df = pd.read_parquet(input_file)\n",
    "\n",
    "# Подсчёт числа нулей в столбце v_long_views_30_days\n",
    "zero_count = (df['v_long_views_30_days']  15).sum()\n",
    "\n",
    "# Вывод результата\n",
    "print(f'Число нулей в столбце v_long_views_30_days: {zero_count}')"
   ]
  },
  {
   "cell_type": "code",
   "execution_count": 6,
   "id": "35c1cd51-d07a-40cd-ad0d-f0f2d341245b",
   "metadata": {},
   "outputs": [
    {
     "name": "stdout",
     "output_type": "stream",
     "text": [
      "                                        region  \\\n",
      "0         d0a727cb-ac6b-4bf7-8449-73a5773ee817   \n",
      "1         1252b9d0-d457-4967-b0a8-c3b3fc064630   \n",
      "2         5e72a4fe-48c1-4b6c-9b85-078f490357dd   \n",
      "3         57ca7ea4-0a03-465d-9302-6ec6b350eefd   \n",
      "4         4496e8c2-fe04-4654-995c-4e39173f0a77   \n",
      "...                                        ...   \n",
      "17224921  532446db-2a74-4273-b810-b4fd84f6d259   \n",
      "17224922  2c52a2a1-0ad9-416b-8f31-9ef8207b35d9   \n",
      "17224923  4ea90a54-312b-43bf-b84b-7573be1ea2ce   \n",
      "17224924  4496e8c2-fe04-4654-995c-4e39173f0a77   \n",
      "17224925  f5925ad5-7bc3-4c10-b14b-807f0cdd8c4e   \n",
      "\n",
      "                                          city  \\\n",
      "0         daa223d9-5a07-4723-8b1c-e0660fb50036   \n",
      "1         d228cf4d-daae-4a4c-b9e0-aa64d8c54352   \n",
      "2         c8910e58-e5da-4ba9-bb99-1c8152ef2942   \n",
      "3         633d9f2d-7453-417d-8454-0ce9f935b693   \n",
      "4         62453693-e6de-4ff7-a06c-1ba765266f35   \n",
      "...                                        ...   \n",
      "17224921  8c234b57-8c6b-453a-945c-85f6529c2ec3   \n",
      "17224922  f6140536-2810-4d8d-9389-8ba1d9dd4cdb   \n",
      "17224923  885995ef-8439-4931-a3cf-123b88e60420   \n",
      "17224924  c2acd2a3-b6ad-49b0-8559-a9cb818dd754   \n",
      "17224925  c154d199-d883-4e3c-81ee-fab730e7905f   \n",
      "\n",
      "                                      video_id  watchtime  \n",
      "0         6ba4b910-2b84-462e-92c7-477d29df3da0          1  \n",
      "1         a766398d-ae80-4e6d-8da6-dc306903f8b0        673  \n",
      "2         c36d9722-e24c-4cc1-b4e6-692eb134eb91         16  \n",
      "3         ec9925eb-5d7d-4b7a-8646-aa68761adffd          2  \n",
      "4         9d000f21-5760-481c-9b66-552dd28551a6       5749  \n",
      "...                                        ...        ...  \n",
      "17224921  77192396-e8d5-4dd6-af95-4f711143a045       2394  \n",
      "17224922  f15cccdb-89bd-4662-9a20-d7143a502004       1330  \n",
      "17224923  1e2a1dc1-3a85-4806-849c-09dd491161ea          2  \n",
      "17224924  44da4ade-2aec-469c-a35f-2ed24772544b          0  \n",
      "17224925  a25a1c2a-a3b1-4b3f-8757-0e8e49ec2c5e       1278  \n",
      "\n",
      "[17224926 rows x 4 columns]\n"
     ]
    }
   ],
   "source": [
    "import pandas as pd\n",
    "\n",
    "# Загрузка данных из файла Parquet\n",
    "file_path = 'parquet-filtered/logs_df_2024-07-08.parquet'\n",
    "data = pd.read_parquet(file_path)\n",
    "\n",
    "# Вывод первых 5 строк\n",
    "print(data.head(-10))"
   ]
  },
  {
   "cell_type": "code",
   "execution_count": null,
   "id": "b816c918-05e3-45a2-a7db-9cc3c08d6354",
   "metadata": {},
   "outputs": [],
   "source": []
  },
  {
   "cell_type": "markdown",
   "id": "13e10a3d-9694-4238-9e1b-17dc31a799f4",
   "metadata": {},
   "source": [
    "### Парсинг"
   ]
  },
  {
   "cell_type": "code",
   "execution_count": 1,
   "id": "2d594ad6-9d53-42d9-aca7-e8e49a8b64dc",
   "metadata": {},
   "outputs": [
    {
     "name": "stderr",
     "output_type": "stream",
     "text": [
      "Обработка файлов: 100%|███████████████████████| 30/30 [15:36<00:00, 31.22s/файл]"
     ]
    },
    {
     "name": "stdout",
     "output_type": "stream",
     "text": [
      "Файлы успешно отфильтрованы и скопированы.\n"
     ]
    },
    {
     "name": "stderr",
     "output_type": "stream",
     "text": [
      "\n"
     ]
    }
   ],
   "source": [
    "import pandas as pd\n",
    "import os\n",
    "from tqdm import tqdm  # Импортируем tqdm для прогресс-бара\n",
    "\n",
    "\n",
    "input_folder = 'parquet'  # Путь к папке с исходными файлами\n",
    "output_folder = 'parquet-filtered'  # Папка для сохранения отфильтрованных файлов\n",
    "\n",
    "# Создание выходной папки, если она не существует\n",
    "os.makedirs(output_folder, exist_ok=True)\n",
    "\n",
    "# Список столбцов, которые нужно оставить\n",
    "columns_to_keep = ['region', 'city', 'video_id', 'watchtime']\n",
    "\n",
    "# Получаем список всех файлов Parquet в папке\n",
    "files = [f for f in os.listdir(input_folder) if f.endswith('.parquet')]\n",
    "\n",
    "# Используем tqdm для отображения прогресса\n",
    "for filename in tqdm(files, desc=\"Обработка файлов\", unit=\"файл\"):\n",
    "    file_path = os.path.join(input_folder, filename)\n",
    "    \n",
    "    # Чтение parquet файла\n",
    "    df = pd.read_parquet(file_path)\n",
    "    \n",
    "    # Фильтрация столбцов\n",
    "    filtered_df = df[columns_to_keep]\n",
    "    \n",
    "    # Сохранение отфильтрованного DataFrame в новый файл\n",
    "    output_file_path = os.path.join(output_folder, filename)\n",
    "    filtered_df.to_parquet(output_file_path, index=False)\n",
    "\n",
    "print(\"Файлы успешно отфильтрованы и скопированы.\")"
   ]
  },
  {
   "cell_type": "code",
   "execution_count": null,
   "id": "efd4a5f1-d1d1-40d2-8d18-5c137693378a",
   "metadata": {},
   "outputs": [],
   "source": []
  },
  {
   "cell_type": "code",
   "execution_count": null,
   "id": "cc564d1e-b904-481f-bbf1-168af2c45d9f",
   "metadata": {},
   "outputs": [],
   "source": []
  },
  {
   "cell_type": "markdown",
   "id": "2684e019-ff5a-4d78-94ff-38c88d07a30e",
   "metadata": {},
   "source": [
    "### создание Json"
   ]
  },
  {
   "cell_type": "code",
   "execution_count": 3,
   "id": "9262bae1-799f-4407-ae43-6b39a32a45db",
   "metadata": {},
   "outputs": [
    {
     "name": "stdout",
     "output_type": "stream",
     "text": [
      "Данные сохранены в uuids.json\n"
     ]
    }
   ],
   "source": [
    "import json\n",
    "\n",
    "# Список идентификаторов\n",
    "uuids = [\n",
    "    \"6ba4b910-2b84-462e-92c7-477d29df3da0\",\n",
    "    \"a766398d-ae80-4e6d-8da6-dc306903f8b0\",\n",
    "    \"c36d9722-e24c-4cc1-b4e6-692eb134eb91\",\n",
    "    \"ec9925eb-5d7d-4b7a-8646-aa68761adffd\",\n",
    "    \"9d000f21-5760-481c-9b66-552dd28551a6\",\n",
    "    \"07b61acb-6fa1-4b5a-8484-6fc8d40894b3\",\n",
    "    \"cd97ca5f-11c7-4443-bc06-f26644ac8b54\",\n",
    "    \"b4ad13a8-087a-4144-9f16-66dfe38a0ab2\",\n",
    "    \"ff70b580-c121-4b30-86d0-40539ff178ec\",\n",
    "    \"6892c9b4-0ce0-4821-9bc9-81360620406b\"\n",
    "]\n",
    "\n",
    "# Создание словаря для хранения данных\n",
    "data = {\"uuids\": uuids}\n",
    "\n",
    "# Сохранение в JSON файл\n",
    "with open('uuids.json', 'w') as json_file:\n",
    "    json.dump(data, json_file, indent=4)\n",
    "\n",
    "print(\"Данные сохранены в uuids.json\")"
   ]
  },
  {
   "cell_type": "raw",
   "id": "a5038245-4398-45b7-9823-4b73f3ab3766",
   "metadata": {
    "scrolled": true
   },
   "source": [
    "pip install pyspark"
   ]
  },
  {
   "cell_type": "raw",
   "id": "932a0eab",
   "metadata": {},
   "source": [
    "import pandas as pd\n",
    "\n",
    "# Чтение данных из parquet файлов\n",
    "filtred_df = pd.read_parquet('parquet-filtered/filtred.parquet')\n",
    "logs_df = pd.read_parquet('parquet-filtered/logs_df_2024-07-08.parquet')\n",
    "print(\"готово\")"
   ]
  },
  {
   "cell_type": "raw",
   "id": "33319c06",
   "metadata": {},
   "source": [
    "# Убедитесь, что у вас есть уникальный идентификатор пользователя. В этом случае можно использовать region как пользовательский идентификатор.\n",
    "interactions = logs_df.groupby(['region', 'video_id']).agg({'watchtime': 'sum'}).reset_index()\n",
    "\n",
    "# Создаем матрицу взаимодействия\n",
    "interaction_matrix = interactions.pivot(index='region', columns='video_id', values='watchtime').fillna(0)\n",
    "print(\"готово\")"
   ]
  },
  {
   "cell_type": "raw",
   "id": "3c0494ee",
   "metadata": {},
   "source": [
    "from surprise import Dataset, Reader\n",
    "from surprise import KNNBasic\n",
    "from surprise.model_selection import train_test_split\n",
    "import numpy as np\n",
    "\n",
    "# Подготовка данных для Surprise\n",
    "reader = Reader(rating_scale=(0, interaction_matrix.values.max()))\n",
    "data = Dataset.load_from_df(interactions[['region', 'video_id', 'watchtime']], reader)\n",
    "\n",
    "trainset, testset = train_test_split(data, test_size=0.2)\n",
    "\n",
    "# Используем KNN\n",
    "model = KNNBasic()\n",
    "model.fit(trainset)\n",
    "print(\"готово\")"
   ]
  },
  {
   "cell_type": "markdown",
   "id": "c6a6ca0e",
   "metadata": {},
   "source": [
    "pip install scikit-surprise"
   ]
  },
  {
   "cell_type": "raw",
   "id": "75c0b3c8",
   "metadata": {},
   "source": [
    "import joblib\n",
    "\n",
    "# Сохраняем модель\n",
    "joblib.dump(model, 'collaborative_filtering_model.pkl')\n",
    "print(\"готово\")"
   ]
  },
  {
   "cell_type": "markdown",
   "id": "6af33a0e",
   "metadata": {},
   "source": []
  },
  {
   "cell_type": "raw",
   "id": "dc41ac40",
   "metadata": {},
   "source": [
    "import pandas as pd\n",
    "from surprise import Dataset, Reader\n",
    "from surprise import KNNBasic\n",
    "from surprise.model_selection import train_test_split\n",
    "from collections import defaultdict\n",
    "import json\n",
    "\n",
    "# Чтение данных из parquet файлов\n",
    "filtred_df = pd.read_parquet('parquet-filtered/filtred.parquet')\n",
    "logs_df = pd.read_parquet('parquet-filtered/logs_df_2024-07-08.parquet')\n",
    "print(\"готово\")\n",
    "\n",
    "# Убедитесь, что у вас есть уникальный идентификатор пользователя. В этом случае можно использовать region как пользовательский идентификатор.\n",
    "interactions = logs_df.groupby(['region', 'video_id']).agg({'watchtime': 'sum'}).reset_index()\n",
    "\n",
    "# Проверка, есть ли данные в interactions\n",
    "if interactions.empty:\n",
    "    raise ValueError(\"DataFrame 'interactions' пуст. Проверьте входные данные.\")\n",
    "\n",
    "# Создаем матрицу взаимодействия\n",
    "interaction_matrix = interactions.pivot(index='region', columns='video_id', values='watchtime').fillna(0)\n",
    "print(\"готово\")\n",
    "\n",
    "# Подготовка данных для Surprise\n",
    "reader = Reader(rating_scale=(0, interaction_matrix.values.max()))\n",
    "data = Dataset.load_from_df(interactions[['region', 'video_id', 'watchtime']], reader)\n",
    "\n",
    "trainset, testset = train_test_split(data, test_size=0.2)\n",
    "\n",
    "# Используем KNN\n",
    "model = KNNBasic()\n",
    "model.fit(trainset)\n",
    "print(\"готово\")\n",
    "\n",
    "# Определяем video_id (например, берем первый video_id из interactions)\n",
    "video_id = interactions['video_id'].iloc[0]  # Замена на нужный ID, если требуется\n",
    "\n",
    "# Получаем предсказания для всех видео\n",
    "predictions = model.get_neighbors(video_id, k=10)\n",
    "\n",
    "# Составляем список популярных видео\n",
    "popular_videos = defaultdict(float)\n",
    "\n",
    "for video in interaction_matrix.columns:\n",
    "    total_watchtime = interaction_matrix[video].sum()\n",
    "    popular_videos[video] += total_watchtime\n",
    "\n",
    "# Сортируем и получаем 10 самых популярных\n",
    "top_videos = sorted(popular_videos.items(), key=lambda x: x[1], reverse=True)[:10]\n",
    "top_video_ids = [video_id for video_id, _ in top_videos]\n",
    "\n",
    "# Сохранение в JSON файл\n",
    "with open('popular_videos.json', 'w') as f:\n",
    "    json.dump(top_video_ids, f)\n",
    "\n",
    "print(\"готово\")"
   ]
  },
  {
   "cell_type": "code",
   "execution_count": 15,
   "id": "96c84714",
   "metadata": {},
   "outputs": [],
   "source": [
    "import pandas as pd\n",
    "\n",
    "# Загрузка данных из файла video_stat.parquet\n",
    "df = pd.read_parquet('video_stat.parquet')\n",
    "\n",
    "# Выбор необходимых столбцов\n",
    "filtered_columns = [\n",
    "    'video_id',\n",
    "    'category_id',\n",
    "    'v_likes',\n",
    "    'v_dislikes',\n",
    "    'v_frac_avg_watchtime_1_day_duration',\n",
    "    'v_frac_avg_watchtime_7_day_duration',\n",
    "    'v_frac_avg_watchtime_30_day_duration'\n",
    "]\n",
    "filtered_df = df[filtered_columns]\n",
    "\n",
    "# Сохранение отфильтрованных данных в новый parquet файл\n",
    "filtered_df.to_parquet('tags-filtered.parquet', index=False)"
   ]
  },
  {
   "cell_type": "code",
   "execution_count": 16,
   "id": "f5a07e49",
   "metadata": {},
   "outputs": [
    {
     "name": "stdout",
     "output_type": "stream",
     "text": [
      "                               video_id  category_id  v_likes  v_dislikes  \\\n",
      "0  973f24c0-15b2-434f-8740-4e2726f79c30  Мультфильмы        0           0   \n",
      "1  1a3f527c-44b2-4f7e-9641-26f078edbf2e  Развлечения        0           0   \n",
      "2  2f563d09-45ef-4e27-8da0-daa74235a2e7        Хобби        0           0   \n",
      "3  154fac0e-1794-4406-afa0-61f688e3a764     Животные       24           0   \n",
      "4  470b4e3e-e06d-4370-80dc-34d6a78b22db       Разное        0           0   \n",
      "\n",
      "   v_frac_avg_watchtime_1_day_duration  v_frac_avg_watchtime_7_day_duration  \\\n",
      "0                             0.000000                             0.000000   \n",
      "1                             0.000000                            -0.002639   \n",
      "2                             0.000000                             0.156745   \n",
      "3                             1.370118                             2.312671   \n",
      "4                             0.001438                             0.368224   \n",
      "\n",
      "   v_frac_avg_watchtime_30_day_duration  \n",
      "0                              0.000000  \n",
      "1                              0.106860  \n",
      "2                              0.156745  \n",
      "3                              2.909949  \n",
      "4                              0.257155  \n",
      "Index(['video_id', 'category_id', 'v_likes', 'v_dislikes',\n",
      "       'v_frac_avg_watchtime_1_day_duration',\n",
      "       'v_frac_avg_watchtime_7_day_duration',\n",
      "       'v_frac_avg_watchtime_30_day_duration'],\n",
      "      dtype='object')\n"
     ]
    }
   ],
   "source": [
    "# Загрузка данных\n",
    "filtred_df = pd.read_parquet('tags-filtered.parquet')\n",
    "\n",
    "# Просмотр первых нескольких строк и столбцов\n",
    "print(filtred_df.head())\n",
    "print(filtred_df.columns)"
   ]
  },
  {
   "cell_type": "code",
   "execution_count": 28,
   "id": "959955e4",
   "metadata": {},
   "outputs": [],
   "source": [
    "import pandas as pd\n",
    "from surprise import Dataset, Reader, SVD\n",
    "from surprise.model_selection import train_test_split\n",
    "from tqdm import tqdm  # Импортирование библиотеки для прогресс-бара\n",
    "import json"
   ]
  },
  {
   "cell_type": "code",
   "execution_count": 23,
   "id": "c91fd563",
   "metadata": {},
   "outputs": [
    {
     "name": "stdout",
     "output_type": "stream",
     "text": [
      "Объединение данных завершено!\n"
     ]
    }
   ],
   "source": [
    "filtred_df = pd.read_parquet('tags-filtered.parquet')\n",
    "logs_df = pd.read_parquet('parquet-filtered/logs_df_2024-07-08.parquet')\n",
    "\n",
    "# Объединение данных по столбцу video_id\n",
    "merged_df = pd.merge(logs_df, filtred_df[['video_id', 'v_likes', 'v_dislikes']], on='video_id', how='left')\n",
    "print(\"Объединение данных завершено!\")"
   ]
  },
  {
   "cell_type": "code",
   "execution_count": 24,
   "id": "4d325236",
   "metadata": {},
   "outputs": [
    {
     "name": "stdout",
     "output_type": "stream",
     "text": [
      "Создание DataFrame для коллаборативной фильтрации завершено!\n"
     ]
    }
   ],
   "source": [
    "rating_df = merged_df[['video_id', 'watchtime']].copy()\n",
    "\n",
    "# Добавляем веса на основе лайков и дизлайков\n",
    "rating_df['rating'] = rating_df['watchtime'] / (1 + merged_df['v_dislikes'].fillna(0))\n",
    "\n",
    "# Добавляем фиктивный user_id (например, индекс видео)\n",
    "rating_df['user_id'] = rating_df.index  # Или используйте свой идентификатор пользователей\n",
    "\n",
    "# Оставляем только необходимые столбцы: user_id, video_id, rating\n",
    "rating_df = rating_df[['user_id', 'video_id', 'rating']]\n",
    "print(\"Создание DataFrame для коллаборативной фильтрации завершено!\")"
   ]
  },
  {
   "cell_type": "code",
   "execution_count": 31,
   "id": "fa47a73a",
   "metadata": {},
   "outputs": [
    {
     "ename": "KeyboardInterrupt",
     "evalue": "",
     "output_type": "error",
     "traceback": [
      "\u001b[0;31m---------------------------------------------------------------------------\u001b[0m",
      "\u001b[0;31mKeyboardInterrupt\u001b[0m                         Traceback (most recent call last)",
      "Cell \u001b[0;32mIn[31], line 12\u001b[0m\n\u001b[1;32m      9\u001b[0m data \u001b[38;5;241m=\u001b[39m Dataset\u001b[38;5;241m.\u001b[39mload_from_df(rating_df, reader)\n\u001b[1;32m     11\u001b[0m \u001b[38;5;66;03m# Разделяем данные на обучающую и тестовую выборки\u001b[39;00m\n\u001b[0;32m---> 12\u001b[0m trainset, testset \u001b[38;5;241m=\u001b[39m train_test_split(data, test_size\u001b[38;5;241m=\u001b[39m\u001b[38;5;241m0.25\u001b[39m)\n\u001b[1;32m     14\u001b[0m \u001b[38;5;66;03m# Инициализируем модель\u001b[39;00m\n\u001b[1;32m     15\u001b[0m model \u001b[38;5;241m=\u001b[39m SVD()\n",
      "File \u001b[0;32m~/anaconda3/lib/python3.11/site-packages/surprise/model_selection/split.py:355\u001b[0m, in \u001b[0;36mtrain_test_split\u001b[0;34m(data, test_size, train_size, random_state, shuffle)\u001b[0m\n\u001b[1;32m    319\u001b[0m \u001b[38;5;250m\u001b[39m\u001b[38;5;124;03m\"\"\"Split a dataset into trainset and testset.\u001b[39;00m\n\u001b[1;32m    320\u001b[0m \n\u001b[1;32m    321\u001b[0m \u001b[38;5;124;03mSee an example in the :ref:`User Guide <train_test_split_example>`.\u001b[39;00m\n\u001b[0;32m   (...)\u001b[0m\n\u001b[1;32m    346\u001b[0m \u001b[38;5;124;03m        parameter. Shuffling is not done in-place. Default is ``True``.\u001b[39;00m\n\u001b[1;32m    347\u001b[0m \u001b[38;5;124;03m\"\"\"\u001b[39;00m\n\u001b[1;32m    348\u001b[0m ss \u001b[38;5;241m=\u001b[39m ShuffleSplit(\n\u001b[1;32m    349\u001b[0m     n_splits\u001b[38;5;241m=\u001b[39m\u001b[38;5;241m1\u001b[39m,\n\u001b[1;32m    350\u001b[0m     test_size\u001b[38;5;241m=\u001b[39mtest_size,\n\u001b[0;32m   (...)\u001b[0m\n\u001b[1;32m    353\u001b[0m     shuffle\u001b[38;5;241m=\u001b[39mshuffle,\n\u001b[1;32m    354\u001b[0m )\n\u001b[0;32m--> 355\u001b[0m \u001b[38;5;28;01mreturn\u001b[39;00m \u001b[38;5;28mnext\u001b[39m(ss\u001b[38;5;241m.\u001b[39msplit(data))\n",
      "File \u001b[0;32m~/anaconda3/lib/python3.11/site-packages/surprise/model_selection/split.py:306\u001b[0m, in \u001b[0;36mShuffleSplit.split\u001b[0;34m(self, data)\u001b[0m\n\u001b[1;32m    300\u001b[0m raw_trainset \u001b[38;5;241m=\u001b[39m [data\u001b[38;5;241m.\u001b[39mraw_ratings[i] \u001b[38;5;28;01mfor\u001b[39;00m i \u001b[38;5;129;01min\u001b[39;00m permutation[:test_size]]\n\u001b[1;32m    301\u001b[0m raw_testset \u001b[38;5;241m=\u001b[39m [\n\u001b[1;32m    302\u001b[0m     data\u001b[38;5;241m.\u001b[39mraw_ratings[i]\n\u001b[1;32m    303\u001b[0m     \u001b[38;5;28;01mfor\u001b[39;00m i \u001b[38;5;129;01min\u001b[39;00m permutation[test_size : (test_size \u001b[38;5;241m+\u001b[39m train_size)]\n\u001b[1;32m    304\u001b[0m ]\n\u001b[0;32m--> 306\u001b[0m trainset \u001b[38;5;241m=\u001b[39m data\u001b[38;5;241m.\u001b[39mconstruct_trainset(raw_trainset)\n\u001b[1;32m    307\u001b[0m testset \u001b[38;5;241m=\u001b[39m data\u001b[38;5;241m.\u001b[39mconstruct_testset(raw_testset)\n\u001b[1;32m    309\u001b[0m \u001b[38;5;28;01myield\u001b[39;00m trainset, testset\n",
      "File \u001b[0;32m~/anaconda3/lib/python3.11/site-packages/surprise/dataset.py:207\u001b[0m, in \u001b[0;36mDataset.construct_trainset\u001b[0;34m(self, raw_trainset)\u001b[0m\n\u001b[1;32m    204\u001b[0m         current_i_index \u001b[38;5;241m+\u001b[39m\u001b[38;5;241m=\u001b[39m \u001b[38;5;241m1\u001b[39m\n\u001b[1;32m    206\u001b[0m     ur[uid]\u001b[38;5;241m.\u001b[39mappend((iid, r))\n\u001b[0;32m--> 207\u001b[0m     ir[iid]\u001b[38;5;241m.\u001b[39mappend((uid, r))\n\u001b[1;32m    209\u001b[0m n_users \u001b[38;5;241m=\u001b[39m \u001b[38;5;28mlen\u001b[39m(ur)  \u001b[38;5;66;03m# number of users\u001b[39;00m\n\u001b[1;32m    210\u001b[0m n_items \u001b[38;5;241m=\u001b[39m \u001b[38;5;28mlen\u001b[39m(ir)  \u001b[38;5;66;03m# number of items\u001b[39;00m\n",
      "\u001b[0;31mKeyboardInterrupt\u001b[0m: "
     ]
    }
   ],
   "source": [
    "# Устанавливаем шкалу от 1 до 5 (или любую другую подходящую шкалу)\n",
    "rating_scale_min = 1\n",
    "rating_scale_max = 5\n",
    "\n",
    "# Нормализуем рейтинги к заданной шкале\n",
    "rating_df['rating'] = rating_df['rating'].clip(lower=rating_scale_min, upper=rating_scale_max)\n",
    "\n",
    "reader = Reader(rating_scale=(rating_scale_min, rating_scale_max))\n",
    "data = Dataset.load_from_df(rating_df, reader)\n",
    "\n",
    "# Разделяем данные на обучающую и тестовую выборки\n",
    "trainset, testset = train_test_split(data, test_size=0.25)\n",
    "\n",
    "# Инициализируем модель\n",
    "model = SVD()\n",
    "\n",
    "# Количество шагов для обучения\n",
    "num_steps = 100\n",
    "\n",
    "# Обучаем модель с прогресс-баром\n",
    "for step in tqdm(range(num_steps), desc=\"Обучение модели\"):\n",
    "    model.fit(trainset)\n",
    "\n",
    "print(\"Обучение модели завершено!\")"
   ]
  },
  {
   "cell_type": "code",
   "execution_count": null,
   "id": "8fed228a",
   "metadata": {},
   "outputs": [],
   "source": [
    "# Получаем список уникальных video_id\n",
    "unique_video_ids = filtred_df['video_id'].unique()\n",
    "\n",
    "# Предсказание рейтингов для всех видео\n",
    "predictions = []\n",
    "for video_id in unique_video_ids:\n",
    "    pred_rating = model.predict(video_id, 0)  # Используем 0 как dummy user_id\n",
    "    predictions.append((video_id, pred_rating.est))\n",
    "\n",
    "# Сортируем по предсказанным рейтингам\n",
    "top_videos = sorted(predictions, key=lambda x: x[1], reverse=True)[:10]\n",
    "\n",
    "# Форматируем результат в JSON\n",
    "result = {'top_videos': [{'video_id': video_id} for video_id, _ in top_videos]}\n",
    "\n",
    "# Сохраняем результат в JSON файл\n",
    "with open('top_videos.json', 'w') as json_file:\n",
    "    json.dump(result, json_file)\n",
    "print(\"Готово!\")"
   ]
  },
  {
   "cell_type": "code",
   "execution_count": null,
   "id": "7bf003ec",
   "metadata": {},
   "outputs": [],
   "source": [
    "import joblib\n",
    "\n",
    "# Сохранение модели\n",
    "joblib.dump(model, 'collaborative_filtering_model.pkl')\n",
    "print(\"Готово!\")"
   ]
  },
  {
   "cell_type": "code",
   "execution_count": null,
   "id": "8b979e57",
   "metadata": {},
   "outputs": [],
   "source": []
  },
  {
   "cell_type": "code",
   "execution_count": 1,
   "id": "d9e2a658",
   "metadata": {},
   "outputs": [],
   "source": [
    "import pandas as pd\n",
    "from sklearn.model_selection import train_test_split\n",
    "from sklearn.ensemble import RandomForestRegressor\n",
    "import json\n",
    "import joblib"
   ]
  },
  {
   "cell_type": "code",
   "execution_count": 2,
   "id": "321d8b34",
   "metadata": {},
   "outputs": [
    {
     "name": "stdout",
     "output_type": "stream",
     "text": [
      "Готово\n"
     ]
    }
   ],
   "source": [
    "# Загрузка данных из файлов\n",
    "filtred_df = pd.read_parquet('tags-filtered.parquet')\n",
    "\n",
    "logs_df = pd.read_parquet('parquet-filtered/logs_df_2024-07-08.parquet')\n",
    "print(\"Готово\")"
   ]
  },
  {
   "cell_type": "code",
   "execution_count": 3,
   "id": "f5eb9ce4",
   "metadata": {},
   "outputs": [
    {
     "name": "stdout",
     "output_type": "stream",
     "text": [
      "Готово\n"
     ]
    }
   ],
   "source": [
    "# Объединение данных по video_id\n",
    "merged_df = pd.merge(filtred_df, logs_df, on='video_id', how='inner')\n",
    "\n",
    "\n",
    "# Создание нового признака \"популярность видео\"\n",
    "merged_df['popularity'] = (merged_df['v_likes'] - merged_df['v_dislikes']) * merged_df['watchtime']\n",
    "print(\"Готово\")"
   ]
  },
  {
   "cell_type": "code",
   "execution_count": 4,
   "id": "4167e51c",
   "metadata": {
    "scrolled": true
   },
   "outputs": [
    {
     "name": "stdout",
     "output_type": "stream",
     "text": [
      "Готово\n"
     ]
    }
   ],
   "source": [
    "# Признаки для обучения\n",
    "features = ['category_id', 'v_likes', 'v_dislikes', 'v_frac_avg_watchtime_1_day_duration', 'v_frac_avg_watchtime_7_day_duration', 'v_frac_avg_watchtime_30_day_duration']\n",
    "\n",
    "# Целевая переменная\n",
    "target = 'popularity'\n",
    "\n",
    "X = merged_df[features]\n",
    "y = merged_df[target]\n",
    "\n",
    "# Разделим данные на обучающую и тестовую выборки\n",
    "X_train, X_test, y_train, y_test = train_test_split(X, y, test_size=0.2, random_state=42)\n",
    "print(\"Готово\")"
   ]
  },
  {
   "cell_type": "code",
   "execution_count": 5,
   "id": "91cfc3ed",
   "metadata": {
    "scrolled": true
   },
   "outputs": [
    {
     "ename": "ValueError",
     "evalue": "could not convert string to float: 'Разное'",
     "output_type": "error",
     "traceback": [
      "\u001b[0;31m---------------------------------------------------------------------------\u001b[0m",
      "\u001b[0;31mValueError\u001b[0m                                Traceback (most recent call last)",
      "Cell \u001b[0;32mIn[5], line 3\u001b[0m\n\u001b[1;32m      1\u001b[0m \u001b[38;5;66;03m# Используем RandomForestRegressor, так как он хорошо работает с большими данными\u001b[39;00m\n\u001b[1;32m      2\u001b[0m model \u001b[38;5;241m=\u001b[39m RandomForestRegressor(n_estimators\u001b[38;5;241m=\u001b[39m\u001b[38;5;241m100\u001b[39m, random_state\u001b[38;5;241m=\u001b[39m\u001b[38;5;241m42\u001b[39m)\n\u001b[0;32m----> 3\u001b[0m model\u001b[38;5;241m.\u001b[39mfit(X_train, y_train)\n\u001b[1;32m      4\u001b[0m \u001b[38;5;28mprint\u001b[39m(\u001b[38;5;124m\"\u001b[39m\u001b[38;5;124mГотово\u001b[39m\u001b[38;5;124m\"\u001b[39m)\n",
      "File \u001b[0;32m~/anaconda3/lib/python3.11/site-packages/sklearn/ensemble/_forest.py:345\u001b[0m, in \u001b[0;36mBaseForest.fit\u001b[0;34m(self, X, y, sample_weight)\u001b[0m\n\u001b[1;32m    343\u001b[0m \u001b[38;5;28;01mif\u001b[39;00m issparse(y):\n\u001b[1;32m    344\u001b[0m     \u001b[38;5;28;01mraise\u001b[39;00m \u001b[38;5;167;01mValueError\u001b[39;00m(\u001b[38;5;124m\"\u001b[39m\u001b[38;5;124msparse multilabel-indicator for y is not supported.\u001b[39m\u001b[38;5;124m\"\u001b[39m)\n\u001b[0;32m--> 345\u001b[0m X, y \u001b[38;5;241m=\u001b[39m \u001b[38;5;28mself\u001b[39m\u001b[38;5;241m.\u001b[39m_validate_data(\n\u001b[1;32m    346\u001b[0m     X, y, multi_output\u001b[38;5;241m=\u001b[39m\u001b[38;5;28;01mTrue\u001b[39;00m, accept_sparse\u001b[38;5;241m=\u001b[39m\u001b[38;5;124m\"\u001b[39m\u001b[38;5;124mcsc\u001b[39m\u001b[38;5;124m\"\u001b[39m, dtype\u001b[38;5;241m=\u001b[39mDTYPE\n\u001b[1;32m    347\u001b[0m )\n\u001b[1;32m    348\u001b[0m \u001b[38;5;28;01mif\u001b[39;00m sample_weight \u001b[38;5;129;01mis\u001b[39;00m \u001b[38;5;129;01mnot\u001b[39;00m \u001b[38;5;28;01mNone\u001b[39;00m:\n\u001b[1;32m    349\u001b[0m     sample_weight \u001b[38;5;241m=\u001b[39m _check_sample_weight(sample_weight, X)\n",
      "File \u001b[0;32m~/anaconda3/lib/python3.11/site-packages/sklearn/base.py:584\u001b[0m, in \u001b[0;36mBaseEstimator._validate_data\u001b[0;34m(self, X, y, reset, validate_separately, **check_params)\u001b[0m\n\u001b[1;32m    582\u001b[0m         y \u001b[38;5;241m=\u001b[39m check_array(y, input_name\u001b[38;5;241m=\u001b[39m\u001b[38;5;124m\"\u001b[39m\u001b[38;5;124my\u001b[39m\u001b[38;5;124m\"\u001b[39m, \u001b[38;5;241m*\u001b[39m\u001b[38;5;241m*\u001b[39mcheck_y_params)\n\u001b[1;32m    583\u001b[0m     \u001b[38;5;28;01melse\u001b[39;00m:\n\u001b[0;32m--> 584\u001b[0m         X, y \u001b[38;5;241m=\u001b[39m check_X_y(X, y, \u001b[38;5;241m*\u001b[39m\u001b[38;5;241m*\u001b[39mcheck_params)\n\u001b[1;32m    585\u001b[0m     out \u001b[38;5;241m=\u001b[39m X, y\n\u001b[1;32m    587\u001b[0m \u001b[38;5;28;01mif\u001b[39;00m \u001b[38;5;129;01mnot\u001b[39;00m no_val_X \u001b[38;5;129;01mand\u001b[39;00m check_params\u001b[38;5;241m.\u001b[39mget(\u001b[38;5;124m\"\u001b[39m\u001b[38;5;124mensure_2d\u001b[39m\u001b[38;5;124m\"\u001b[39m, \u001b[38;5;28;01mTrue\u001b[39;00m):\n",
      "File \u001b[0;32m~/anaconda3/lib/python3.11/site-packages/sklearn/utils/validation.py:1106\u001b[0m, in \u001b[0;36mcheck_X_y\u001b[0;34m(X, y, accept_sparse, accept_large_sparse, dtype, order, copy, force_all_finite, ensure_2d, allow_nd, multi_output, ensure_min_samples, ensure_min_features, y_numeric, estimator)\u001b[0m\n\u001b[1;32m   1101\u001b[0m         estimator_name \u001b[38;5;241m=\u001b[39m _check_estimator_name(estimator)\n\u001b[1;32m   1102\u001b[0m     \u001b[38;5;28;01mraise\u001b[39;00m \u001b[38;5;167;01mValueError\u001b[39;00m(\n\u001b[1;32m   1103\u001b[0m         \u001b[38;5;124mf\u001b[39m\u001b[38;5;124m\"\u001b[39m\u001b[38;5;132;01m{\u001b[39;00mestimator_name\u001b[38;5;132;01m}\u001b[39;00m\u001b[38;5;124m requires y to be passed, but the target y is None\u001b[39m\u001b[38;5;124m\"\u001b[39m\n\u001b[1;32m   1104\u001b[0m     )\n\u001b[0;32m-> 1106\u001b[0m X \u001b[38;5;241m=\u001b[39m check_array(\n\u001b[1;32m   1107\u001b[0m     X,\n\u001b[1;32m   1108\u001b[0m     accept_sparse\u001b[38;5;241m=\u001b[39maccept_sparse,\n\u001b[1;32m   1109\u001b[0m     accept_large_sparse\u001b[38;5;241m=\u001b[39maccept_large_sparse,\n\u001b[1;32m   1110\u001b[0m     dtype\u001b[38;5;241m=\u001b[39mdtype,\n\u001b[1;32m   1111\u001b[0m     order\u001b[38;5;241m=\u001b[39morder,\n\u001b[1;32m   1112\u001b[0m     copy\u001b[38;5;241m=\u001b[39mcopy,\n\u001b[1;32m   1113\u001b[0m     force_all_finite\u001b[38;5;241m=\u001b[39mforce_all_finite,\n\u001b[1;32m   1114\u001b[0m     ensure_2d\u001b[38;5;241m=\u001b[39mensure_2d,\n\u001b[1;32m   1115\u001b[0m     allow_nd\u001b[38;5;241m=\u001b[39mallow_nd,\n\u001b[1;32m   1116\u001b[0m     ensure_min_samples\u001b[38;5;241m=\u001b[39mensure_min_samples,\n\u001b[1;32m   1117\u001b[0m     ensure_min_features\u001b[38;5;241m=\u001b[39mensure_min_features,\n\u001b[1;32m   1118\u001b[0m     estimator\u001b[38;5;241m=\u001b[39mestimator,\n\u001b[1;32m   1119\u001b[0m     input_name\u001b[38;5;241m=\u001b[39m\u001b[38;5;124m\"\u001b[39m\u001b[38;5;124mX\u001b[39m\u001b[38;5;124m\"\u001b[39m,\n\u001b[1;32m   1120\u001b[0m )\n\u001b[1;32m   1122\u001b[0m y \u001b[38;5;241m=\u001b[39m _check_y(y, multi_output\u001b[38;5;241m=\u001b[39mmulti_output, y_numeric\u001b[38;5;241m=\u001b[39my_numeric, estimator\u001b[38;5;241m=\u001b[39mestimator)\n\u001b[1;32m   1124\u001b[0m check_consistent_length(X, y)\n",
      "File \u001b[0;32m~/anaconda3/lib/python3.11/site-packages/sklearn/utils/validation.py:879\u001b[0m, in \u001b[0;36mcheck_array\u001b[0;34m(array, accept_sparse, accept_large_sparse, dtype, order, copy, force_all_finite, ensure_2d, allow_nd, ensure_min_samples, ensure_min_features, estimator, input_name)\u001b[0m\n\u001b[1;32m    877\u001b[0m         array \u001b[38;5;241m=\u001b[39m xp\u001b[38;5;241m.\u001b[39mastype(array, dtype, copy\u001b[38;5;241m=\u001b[39m\u001b[38;5;28;01mFalse\u001b[39;00m)\n\u001b[1;32m    878\u001b[0m     \u001b[38;5;28;01melse\u001b[39;00m:\n\u001b[0;32m--> 879\u001b[0m         array \u001b[38;5;241m=\u001b[39m _asarray_with_order(array, order\u001b[38;5;241m=\u001b[39morder, dtype\u001b[38;5;241m=\u001b[39mdtype, xp\u001b[38;5;241m=\u001b[39mxp)\n\u001b[1;32m    880\u001b[0m \u001b[38;5;28;01mexcept\u001b[39;00m ComplexWarning \u001b[38;5;28;01mas\u001b[39;00m complex_warning:\n\u001b[1;32m    881\u001b[0m     \u001b[38;5;28;01mraise\u001b[39;00m \u001b[38;5;167;01mValueError\u001b[39;00m(\n\u001b[1;32m    882\u001b[0m         \u001b[38;5;124m\"\u001b[39m\u001b[38;5;124mComplex data not supported\u001b[39m\u001b[38;5;130;01m\\n\u001b[39;00m\u001b[38;5;132;01m{}\u001b[39;00m\u001b[38;5;130;01m\\n\u001b[39;00m\u001b[38;5;124m\"\u001b[39m\u001b[38;5;241m.\u001b[39mformat(array)\n\u001b[1;32m    883\u001b[0m     ) \u001b[38;5;28;01mfrom\u001b[39;00m \u001b[38;5;21;01mcomplex_warning\u001b[39;00m\n",
      "File \u001b[0;32m~/anaconda3/lib/python3.11/site-packages/sklearn/utils/_array_api.py:185\u001b[0m, in \u001b[0;36m_asarray_with_order\u001b[0;34m(array, dtype, order, copy, xp)\u001b[0m\n\u001b[1;32m    182\u001b[0m     xp, _ \u001b[38;5;241m=\u001b[39m get_namespace(array)\n\u001b[1;32m    183\u001b[0m \u001b[38;5;28;01mif\u001b[39;00m xp\u001b[38;5;241m.\u001b[39m\u001b[38;5;18m__name__\u001b[39m \u001b[38;5;129;01min\u001b[39;00m {\u001b[38;5;124m\"\u001b[39m\u001b[38;5;124mnumpy\u001b[39m\u001b[38;5;124m\"\u001b[39m, \u001b[38;5;124m\"\u001b[39m\u001b[38;5;124mnumpy.array_api\u001b[39m\u001b[38;5;124m\"\u001b[39m}:\n\u001b[1;32m    184\u001b[0m     \u001b[38;5;66;03m# Use NumPy API to support order\u001b[39;00m\n\u001b[0;32m--> 185\u001b[0m     array \u001b[38;5;241m=\u001b[39m numpy\u001b[38;5;241m.\u001b[39masarray(array, order\u001b[38;5;241m=\u001b[39morder, dtype\u001b[38;5;241m=\u001b[39mdtype)\n\u001b[1;32m    186\u001b[0m     \u001b[38;5;28;01mreturn\u001b[39;00m xp\u001b[38;5;241m.\u001b[39masarray(array, copy\u001b[38;5;241m=\u001b[39mcopy)\n\u001b[1;32m    187\u001b[0m \u001b[38;5;28;01melse\u001b[39;00m:\n",
      "File \u001b[0;32m~/anaconda3/lib/python3.11/site-packages/pandas/core/generic.py:2070\u001b[0m, in \u001b[0;36mNDFrame.__array__\u001b[0;34m(self, dtype)\u001b[0m\n\u001b[1;32m   2069\u001b[0m \u001b[38;5;28;01mdef\u001b[39;00m \u001b[38;5;21m__array__\u001b[39m(\u001b[38;5;28mself\u001b[39m, dtype: npt\u001b[38;5;241m.\u001b[39mDTypeLike \u001b[38;5;241m|\u001b[39m \u001b[38;5;28;01mNone\u001b[39;00m \u001b[38;5;241m=\u001b[39m \u001b[38;5;28;01mNone\u001b[39;00m) \u001b[38;5;241m-\u001b[39m\u001b[38;5;241m>\u001b[39m np\u001b[38;5;241m.\u001b[39mndarray:\n\u001b[0;32m-> 2070\u001b[0m     \u001b[38;5;28;01mreturn\u001b[39;00m np\u001b[38;5;241m.\u001b[39masarray(\u001b[38;5;28mself\u001b[39m\u001b[38;5;241m.\u001b[39m_values, dtype\u001b[38;5;241m=\u001b[39mdtype)\n",
      "\u001b[0;31mValueError\u001b[0m: could not convert string to float: 'Разное'"
     ]
    }
   ],
   "source": [
    "# Используем RandomForestRegressor, так как он хорошо работает с большими данными\n",
    "model = RandomForestRegressor(n_estimators=100, random_state=42)\n",
    "model.fit(X_train, y_train)\n",
    "print(\"Готово\")"
   ]
  },
  {
   "cell_type": "raw",
   "id": "7d13adec",
   "metadata": {},
   "source": [
    "import numpy as np\n",
    "import pandas as pd\n",
    "from sklearn.model_selection import train_test_split\n",
    "from sklearn.ensemble import RandomForestRegressor\n",
    "import matplotlib.pyplot as plt\n",
    "from tqdm import tqdm  # Импортируем tqdm для отображения прогресса\n",
    "\n",
    "# Загрузка данных из файлов\n",
    "filtred_df = pd.read_parquet('tags-filtered.parquet')\n",
    "logs_df = pd.read_parquet('parquet-filtered/logs_df_2024-07-08.parquet')\n",
    "print(\"Готово\")\n",
    "\n",
    "# Объединение данных по video_id\n",
    "merged_df = pd.merge(filtred_df, logs_df, on='video_id', how='inner')\n",
    "\n",
    "# Создание нового признака \"популярность видео\"\n",
    "merged_df['popularity'] = (merged_df['v_likes'] - merged_df['v_dislikes']) * merged_df['watchtime']\n",
    "print(\"Готово\")\n",
    "\n",
    "# Признаки для обучения\n",
    "features = ['category_id', 'v_likes', 'v_dislikes', \n",
    "            'v_frac_avg_watchtime_1_day_duration', \n",
    "            'v_frac_avg_watchtime_7_day_duration', \n",
    "            'v_frac_avg_watchtime_30_day_duration']\n",
    "\n",
    "# Целевая переменная\n",
    "target = 'popularity'\n",
    "\n",
    "# Преобразование категориальных переменных\n",
    "X = pd.get_dummies(merged_df[features], drop_first=True)\n",
    "y = merged_df[target]\n",
    "\n",
    "# Обработка данных: замена бесконечных значений и NaN на NaN, затем удаление\n",
    "X.replace([np.inf, -np.inf], np.nan, inplace=True)\n",
    "X.dropna(inplace=True)\n",
    "y = y[X.index]  # Сохранение соответствующих целевых переменных\n",
    "\n",
    "# Округление значений в X\n",
    "X = X.round(decimals=4)\n",
    "\n",
    "# Разделим данные на обучающую и тестовую выборки\n",
    "X_train, X_test, y_train, y_test = train_test_split(X, y, test_size=0.2, random_state=42)\n",
    "print(\"Готово\")\n",
    "\n",
    "# Используем RandomForestRegressor с отслеживанием прогресса\n",
    "n_estimators = 100\n",
    "train_errors = []\n",
    "test_errors = []\n",
    "\n",
    "for i in tqdm(range(1, n_estimators + 1), desc=\"Обучение модели\", unit=\"дерево\"):\n",
    "    model = RandomForestRegressor(n_estimators=i, random_state=42)\n",
    "    model.fit(X_train, y_train)\n",
    "    \n",
    "    train_pred = model.predict(X_train)\n",
    "    test_pred = model.predict(X_test)\n",
    "\n",
    "    train_error = np.mean((y_train - train_pred) ** 2)  # Среднеквадратичная ошибка на обучающей выборке\n",
    "    test_error = np.mean((y_test - test_pred) ** 2)    # Среднеквадратичная ошибка на тестовой выборке\n",
    "    \n",
    "    train_errors.append(train_error)\n",
    "    test_errors.append(test_error)\n",
    "\n",
    "print(\"Обучение завершено.\")\n",
    "\n",
    "# Визуализация ошибок\n",
    "plt.plot(range(1, n_estimators + 1), train_errors, label='Обучающая ошибка')\n",
    "plt.plot(range(1, n_estimators + 1), test_errors, label='Тестовая ошибка')\n",
    "plt.xlabel('Количество деревьев')\n",
    "plt.ylabel('Среднеквадратичная ошибка')\n",
    "plt.title('Мониторинг процесса обучения')\n",
    "plt.legend()\n",
    "plt.show()"
   ]
  },
  {
   "cell_type": "markdown",
   "id": "0448e016",
   "metadata": {},
   "source": [
    "### РАБОТАЕТ!"
   ]
  },
  {
   "cell_type": "code",
   "execution_count": 13,
   "id": "9db3a5d3",
   "metadata": {
    "scrolled": true
   },
   "outputs": [
    {
     "name": "stdout",
     "output_type": "stream",
     "text": [
      "Готово\n",
      "Готово\n",
      "Готово\n"
     ]
    },
    {
     "name": "stderr",
     "output_type": "stream",
     "text": [
      "Обучение модели: 100%|███████████████████████████████████████████████████████████████████████████████████████████████████████████████████████████████████| 40/40 [00:01<00:00, 38.88дерево/s]\n"
     ]
    },
    {
     "name": "stdout",
     "output_type": "stream",
     "text": [
      "Обучение завершено.\n"
     ]
    },
    {
     "data": {
      "image/png": "[encoded data removed]",
      "text/plain": [
       "<Figure size 640x480 with 1 Axes>"
      ]
     },
     "metadata": {},
     "output_type": "display_data"
    }
   ],
   "source": [
    "import numpy as np\n",
    "import pandas as pd\n",
    "from sklearn.model_selection import train_test_split\n",
    "from sklearn.ensemble import RandomForestRegressor\n",
    "import matplotlib.pyplot as plt\n",
    "from tqdm import tqdm  # Импортируем tqdm для отображения прогресса\n",
    "\n",
    "# Загрузка данных из файлов\n",
    "filtred_df = pd.read_parquet('tags-filtered.parquet')\n",
    "logs_df = pd.read_parquet('parquet-filtered/logs_df_2024-07-08.parquet')\n",
    "print(\"Готово\")\n",
    "\n",
    "# Объединение данных по video_id\n",
    "merged_df = pd.merge(filtred_df, logs_df, on='video_id', how='inner')\n",
    "\n",
    "# Создание нового признака \"популярность видео\"\n",
    "merged_df['popularity'] = (merged_df['v_likes'] - merged_df['v_dislikes']) * merged_df['watchtime']\n",
    "print(\"Готово\")\n",
    "\n",
    "# Признаки для обучения\n",
    "features = ['category_id', 'v_likes', 'v_dislikes', \n",
    "            'v_frac_avg_watchtime_1_day_duration', \n",
    "            'v_frac_avg_watchtime_7_day_duration', \n",
    "            'v_frac_avg_watchtime_30_day_duration']\n",
    "\n",
    "# Целевая переменная\n",
    "target = 'popularity'\n",
    "\n",
    "# Преобразование категориальных переменных\n",
    "X = pd.get_dummies(merged_df[features], drop_first=True)\n",
    "y = merged_df[target]\n",
    "\n",
    "# Обработка данных: замена бесконечных значений и NaN на NaN, затем удаление\n",
    "X.replace([np.inf, -np.inf], np.nan, inplace=True)\n",
    "X.dropna(inplace=True)\n",
    "y = y[X.index]  # Сохранение соответствующих целевых переменных\n",
    "\n",
    "# Округление значений в X\n",
    "X = X.round(decimals=4)\n",
    "\n",
    "# Берем только первые 500 записей\n",
    "X = X.iloc[:500]\n",
    "y = y.iloc[:500]\n",
    "\n",
    "# Разделим данные на обучающую и тестовую выборки\n",
    "X_train, X_test, y_train, y_test = train_test_split(X, y, test_size=0.2, random_state=42)\n",
    "print(\"Готово\")\n",
    "\n",
    "# Используем RandomForestRegressor с отслеживанием прогресса\n",
    "n_estimators = 40\n",
    "train_errors = []\n",
    "test_errors = []\n",
    "\n",
    "for i in tqdm(range(1, n_estimators + 1), desc=\"Обучение модели\", unit=\"дерево\"):\n",
    "    model = RandomForestRegressor(n_estimators=i, random_state=42)\n",
    "    model.fit(X_train, y_train)\n",
    "    \n",
    "    train_pred = model.predict(X_train)\n",
    "    test_pred = model.predict(X_test)\n",
    "\n",
    "    train_error = np.mean((y_train - train_pred) ** 2)  # Среднеквадратичная ошибка на обучающей выборке\n",
    "    test_error = np.mean((y_test - test_pred) ** 2)    # Среднеквадратичная ошибка на тестовой выборке\n",
    "    \n",
    "    train_errors.append(train_error)\n",
    "    test_errors.append(test_error)\n",
    "\n",
    "print(\"Обучение завершено.\")\n",
    "\n",
    "# Визуализация ошибок\n",
    "plt.plot(range(1, n_estimators + 1), train_errors, label='Обучающая ошибка')\n",
    "plt.plot(range(1, n_estimators + 1), test_errors, label='Тестовая ошибка')\n",
    "plt.xlabel('Количество деревьев')\n",
    "plt.ylabel('Среднеквадратичная ошибка')\n",
    "plt.title('Мониторинг процесса обучения')\n",
    "plt.legend()\n",
    "plt.show()"
   ]
  },
  {
   "cell_type": "markdown",
   "id": "962e3136",
   "metadata": {},
   "source": [
    "# Реально работает!"
   ]
  },
  {
   "cell_type": "code",
   "execution_count": 4,
   "id": "dfc31831-7a54-4882-9155-c75460984060",
   "metadata": {},
   "outputs": [
    {
     "name": "stdout",
     "output_type": "stream",
     "text": [
      "                               video_id  category_id  \\\n",
      "0  973f24c0-15b2-434f-8740-4e2726f79c30  Мультфильмы   \n",
      "1  1a3f527c-44b2-4f7e-9641-26f078edbf2e  Развлечения   \n",
      "2  2f563d09-45ef-4e27-8da0-daa74235a2e7        Хобби   \n",
      "3  154fac0e-1794-4406-afa0-61f688e3a764     Животные   \n",
      "4  470b4e3e-e06d-4370-80dc-34d6a78b22db       Разное   \n",
      "\n",
      "                                               title            v_pub_datetime  \n",
      "0                                   пережила свой яд 2024-06-15 22:58:03+03:00  \n",
      "1  🎓Знаете ли Вы, что  ؟    Интересные факты ! # ... 2021-04-18 17:27:42+03:00  \n",
      "2  ЗИМНЯЯ, ТЕПЛАЯ ШЛЯПА крючком. Как связать поля... 2022-11-17 16:36:43+03:00  \n",
      "3                                               найк 2010-01-01 00:00:01+03:00  \n",
      "4  SHACMAN. Шакман замена двухрядного подшипника ... 2023-11-29 16:49:46+03:00  \n"
     ]
    }
   ],
   "source": [
    "import pandas as pd\n",
    "\n",
    "# Чтение Parquet файла\n",
    "df = pd.read_parquet('parquet-filtered/filtred.parquet')\n",
    "\n",
    "# Вывод первых 5 строк\n",
    "print(df.head(5))"
   ]
  },
  {
   "cell_type": "code",
   "execution_count": null,
   "id": "f09f952a-05e2-4c8a-838d-8691c7d6a1b9",
   "metadata": {},
   "outputs": [],
   "source": []
  },
  {
   "cell_type": "code",
   "execution_count": null,
   "id": "945eb7d9-8263-4251-9e4f-716b6ce0897e",
   "metadata": {},
   "outputs": [],
   "source": []
  },
  {
   "cell_type": "code",
   "execution_count": null,
   "id": "9e907114-4a8c-4c89-8e8f-0366df984e35",
   "metadata": {},
   "outputs": [],
   "source": []
  },
  {
   "cell_type": "code",
   "execution_count": null,
   "id": "76f069ee-8c2c-4103-a193-5dcdb32a5a7a",
   "metadata": {},
   "outputs": [],
   "source": []
  },
  {
   "cell_type": "code",
   "execution_count": null,
   "id": "6199d664-eb67-4cb3-af87-721f688ad2f0",
   "metadata": {},
   "outputs": [],
   "source": []
  },
  {
   "cell_type": "code",
   "execution_count": null,
   "id": "d6978c85-0992-4f60-b607-e92c20a98b24",
   "metadata": {},
   "outputs": [],
   "source": []
  },
  {
   "cell_type": "code",
   "execution_count": null,
   "id": "20fe9460-4362-4d0a-bd85-f9934418fea7",
   "metadata": {},
   "outputs": [],
   "source": []
  },
  {
   "cell_type": "code",
   "execution_count": null,
   "id": "fedbca08-614c-4eee-a67b-916dc4d0940d",
   "metadata": {},
   "outputs": [],
   "source": []
  },
  {
   "cell_type": "code",
   "execution_count": null,
   "id": "3f24a990",
   "metadata": {},
   "outputs": [
    {
     "name": "stdout",
     "output_type": "stream",
     "text": [
      "Готово\n",
      "Готово\n",
      "Готово\n"
     ]
    },
    {
     "name": "stderr",
     "output_type": "stream",
     "text": [
      "Обучение модели:  34%|███████████████████████████████████████████▎                                                                                    | 338/1000 [03:12<12:17,  1.11s/дерево]"
     ]
    }
   ],
   "source": [
    "import numpy as np\n",
    "import pandas as pd\n",
    "from sklearn.model_selection import train_test_split\n",
    "from sklearn.ensemble import RandomForestRegressor\n",
    "import matplotlib.pyplot as plt\n",
    "from tqdm import tqdm  # Импортируем tqdm для отображения прогресса\n",
    "import joblib  # Импортируем joblib для сохранения модели\n",
    "\n",
    "# Загрузка данных из файлов\n",
    "filtred_df = pd.read_parquet('tags-filtered.parquet')\n",
    "logs_df = pd.read_parquet('parquet-filtered/logs_df_2024-07-08.parquet')\n",
    "print(\"Готово\")\n",
    "\n",
    "# Объединение данных по video_id\n",
    "merged_df = pd.merge(filtred_df, logs_df, on='video_id', how='inner')\n",
    "\n",
    "# Создание нового признака \"популярность видео\"\n",
    "merged_df['popularity'] = (merged_df['v_likes'] - merged_df['v_dislikes']) * merged_df['watchtime']\n",
    "print(\"Готово\")\n",
    "\n",
    "# Признаки для обучения\n",
    "features = ['category_id', 'v_likes', 'v_dislikes', \n",
    "            'v_frac_avg_watchtime_1_day_duration', \n",
    "            'v_frac_avg_watchtime_7_day_duration', \n",
    "            'v_frac_avg_watchtime_30_day_duration']\n",
    "\n",
    "# Целевая переменная\n",
    "target = 'popularity'\n",
    "\n",
    "# Преобразование категориальных переменных\n",
    "X = pd.get_dummies(merged_df[features], drop_first=True)\n",
    "y = merged_df[target]\n",
    "\n",
    "# Обработка данных: замена бесконечных значений и NaN на NaN, затем удаление\n",
    "X.replace([np.inf, -np.inf], np.nan, inplace=True)\n",
    "X.dropna(inplace=True)\n",
    "y = y[X.index]  # Сохранение соответствующих целевых переменных\n",
    "\n",
    "# Округление значений в X\n",
    "X = X.round(decimals=4)\n",
    "\n",
    "# Берем только первые 500 записей\n",
    "X = X.iloc[:10000]\n",
    "y = y.iloc[:10000]\n",
    "\n",
    "# Разделим данные на обучающую и тестовую выборки\n",
    "X_train, X_test, y_train, y_test = train_test_split(X, y, test_size=0.2, random_state=42)\n",
    "print(\"Готово\")\n",
    "\n",
    "# Используем RandomForestRegressor с отслеживанием прогресса\n",
    "n_estimators = 1000\n",
    "train_errors = []\n",
    "test_errors = []\n",
    "model = None  # Инициализируем переменную model\n",
    "\n",
    "for i in tqdm(range(1, n_estimators + 1), desc=\"Обучение модели\", unit=\"дерево\"):\n",
    "    model = RandomForestRegressor(n_estimators=i, random_state=42)\n",
    "    model.fit(X_train, y_train)\n",
    "    \n",
    "    train_pred = model.predict(X_train)\n",
    "    test_pred = model.predict(X_test)\n",
    "\n",
    "    train_error = np.mean((y_train - train_pred) ** 2)  # Среднеквадратичная ошибка на обучающей выборке\n",
    "    test_error = np.mean((y_test - test_pred) ** 2)    # Среднеквадратичная ошибка на тестовой выборке\n",
    "    \n",
    "    train_errors.append(train_error)\n",
    "    test_errors.append(test_error)\n",
    "\n",
    "print(\"Обучение завершено.\")\n",
    "\n",
    "# Визуализация ошибок\n",
    "plt.plot(range(1, n_estimators + 1), train_errors, label='Обучающая ошибка')\n",
    "plt.plot(range(1, n_estimators + 1), test_errors, label='Тестовая ошибка')\n",
    "plt.xlabel('Количество деревьев')\n",
    "plt.ylabel('Среднеквадратичная ошибка')\n",
    "plt.title('Мониторинг процесса обучения')\n",
    "plt.legend()\n",
    "plt.show()\n",
    "\n",
    "# Сохраняем обученную модель\n",
    "joblib.dump(model, 'random_forest_model.joblib')\n",
    "print(\"Модель сохранена.\")"
   ]
  },
  {
   "cell_type": "code",
   "execution_count": 24,
   "id": "de2eea4c",
   "metadata": {},
   "outputs": [
    {
     "name": "stdout",
     "output_type": "stream",
     "text": [
      "                                  video_id  predicted_popularity  \\\n",
      "3331  3956df94-b731-42c9-b0ee-f806fa73296d         214261.865710   \n",
      "2323  d0f3ea72-762c-4a1b-ae08-537cb6860d88         112108.468242   \n",
      "387   2de9e412-e15d-4819-9d42-567342e87acd          17755.552918   \n",
      "324   ce2d0cd8-d17a-43b3-9808-0b45484b220f          17706.160602   \n",
      "3179  3bf4bcb0-6372-4fd3-b9d9-0e7f79385259          11814.939369   \n",
      "241   d8726254-c6c2-4f42-8760-cc0adc62a3e9           7970.935835   \n",
      "365   2069cd6c-9df2-49f4-b75d-914d40d4adb0           7920.895697   \n",
      "231   19cf391c-1040-4525-b73a-22e0a773baa3           7475.631620   \n",
      "232   f6634031-85c3-46e8-8794-715dc582b887           2311.632498   \n",
      "674   d113f99c-1001-4775-9ee1-8b4ab4cc45f4           1605.743325   \n",
      "\n",
      "       category_id  v_likes  v_dislikes  \n",
      "3331       Сериалы      166           4  \n",
      "2323  Телепередачи       58           1  \n",
      "387        Сериалы       21           0  \n",
      "324        Сериалы       14           0  \n",
      "3179     Авто-мото       44           4  \n",
      "241      Лайфстайл       48           2  \n",
      "365        Сериалы        9           0  \n",
      "231           Юмор       36           0  \n",
      "232        Сериалы        1           0  \n",
      "674         Фильмы       22           3  \n"
     ]
    }
   ],
   "source": [
    "import pandas as pd\n",
    "import joblib\n",
    "import numpy as np\n",
    "\n",
    "# Загрузка модели\n",
    "model = joblib.load('random_forest_model.joblib')\n",
    "\n",
    "# Загрузка данных из файлов (проверьте, что пути правильные)\n",
    "filtred_df = pd.read_parquet('tags-filtered.parquet')\n",
    "logs_df = pd.read_parquet('parquet-filtered/logs_df_2024-07-08.parquet')\n",
    "\n",
    "# Объединение данных по video_id\n",
    "merged_df = pd.merge(filtred_df, logs_df, on='video_id', how='inner')\n",
    "\n",
    "# Ограничиваемся первыми 500 записями\n",
    "merged_df = merged_df.head(10000)\n",
    "\n",
    "# Признаки\n",
    "features = ['category_id', 'v_likes', 'v_dislikes', \n",
    "            'v_frac_avg_watchtime_1_day_duration', \n",
    "            'v_frac_avg_watchtime_7_day_duration', \n",
    "            'v_frac_avg_watchtime_30_day_duration']\n",
    "\n",
    "# Преобразование категориальных переменных для новых данных\n",
    "X_new = pd.get_dummies(merged_df[features], drop_first=True)\n",
    "\n",
    "# Обработка данных: замена бесконечных значений и NaN на NaN, затем удаление\n",
    "X_new.replace([np.inf, -np.inf], np.nan, inplace=True)\n",
    "X_new.dropna(inplace=True)\n",
    "\n",
    "# Убедитесь, что количество столбцов совпадает с тем, что использовалось при обучении\n",
    "# Здесь мы используем имя столбцов, которые были использованы во время обучения\n",
    "X_new = X_new.reindex(columns=model.feature_names_in_, fill_value=0)\n",
    "\n",
    "# Выполнение предсказаний\n",
    "predictions = model.predict(X_new)\n",
    "\n",
    "# Добавление предсказанных значений в объединенный DataFrame\n",
    "merged_df['predicted_popularity'] = predictions\n",
    "\n",
    "# Удаление дубликатов по video_id\n",
    "unique_videos = merged_df.drop_duplicates(subset='video_id')\n",
    "\n",
    "# Выбор 10 самых популярных уникальных видео\n",
    "top_videos = unique_videos.nlargest(10, 'predicted_popularity')\n",
    "\n",
    "# Вывод\n",
    "print(top_videos[['video_id', 'predicted_popularity', 'category_id', 'v_likes', 'v_dislikes']])"
   ]
  },
  {
   "cell_type": "code",
   "execution_count": null,
   "id": "89704cda",
   "metadata": {},
   "outputs": [],
   "source": []
  },
  {
   "cell_type": "code",
   "execution_count": null,
   "id": "fa74e624",
   "metadata": {},
   "outputs": [],
   "source": []
  },
  {
   "cell_type": "code",
   "execution_count": 3,
   "id": "90a9234f",
   "metadata": {},
   "outputs": [
    {
     "name": "stdout",
     "output_type": "stream",
     "text": [
      "Готово\n"
     ]
    }
   ],
   "source": [
    "import joblib\n",
    "# Сохранение обученной модели\n",
    "joblib.dump(model, 'popular_videos_model.pkl')\n",
    "print(\"Готово\")"
   ]
  },
  {
   "cell_type": "raw",
   "id": "29aaa70f-4470-4592-bab2-665369efc17e",
   "metadata": {},
   "source": [
    "def get_top_videos(model, data, original_data, top_n=10):\n",
    "    # Получение предсказаний\n",
    "    predictions = model.predict(data[features])\n",
    "    \n",
    "    # Добавление предсказаний в оригинальные данные (если нужно)\n",
    "    original_data['predictions'] = predictions\n",
    "    \n",
    "    # Сортировка по популярности и выбор топовых видео\n",
    "    top_videos = original_data.sort_values(by='predictions', ascending=False).head(top_n)\n",
    "    return top_videos['video_id'].to_list()\n",
    "\n",
    "# Получение топ 10 видео\n",
    "top_videos = get_top_videos(model, X_test, merged_df, top_n=10)\n",
    "\n",
    "print(\"Готово\")"
   ]
  },
  {
   "cell_type": "code",
   "execution_count": null,
   "id": "bbe2b9c6",
   "metadata": {},
   "outputs": [],
   "source": [
    "# Конвертация в JSON\n",
    "\n",
    "top_videos_json = json.dumps({\"top_videos\": top_videos})\n",
    "\n",
    "\n",
    "# Сохранение JSON в файл\n",
    "\n",
    "with open('top_videos.json', 'w') as f:\n",
    "\n",
    "    f.write(top_videos_json)\n",
    "print(\"Готово\")"
   ]
  },
  {
   "cell_type": "code",
   "execution_count": null,
   "id": "90d94bea",
   "metadata": {},
   "outputs": [],
   "source": []
  },
  {
   "cell_type": "code",
   "execution_count": null,
   "id": "a160e4a6",
   "metadata": {},
   "outputs": [],
   "source": []
  },
  {
   "cell_type": "code",
   "execution_count": null,
   "id": "19ee984d",
   "metadata": {},
   "outputs": [],
   "source": []
  }
 ],
 "metadata": {
  "kernelspec": {
   "display_name": "Python 3 (ipykernel)",
   "language": "python",
   "name": "python3"
  },
  "language_info": {
   "codemirror_mode": {
    "name": "ipython",
    "version": 3
   },
   "file_extension": ".py",
   "mimetype": "text/x-python",
   "name": "python",
   "nbconvert_exporter": "python",
   "pygments_lexer": "ipython3",
   "version": "3.10.12"
  }
 },
 "nbformat": 4,
 "nbformat_minor": 5
}
