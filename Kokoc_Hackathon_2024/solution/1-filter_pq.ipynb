{
 "cells": [
  {
   "cell_type": "markdown",
   "id": "c8adf91c-4395-49e3-b75c-a6f7da2ed5a3",
   "metadata": {},
   "source": [
    "#### вход в директорию base_data_pq"
   ]
  },
  {
   "cell_type": "code",
   "execution_count": 1,
   "id": "7ac95697-551a-407c-9d71-cf66ffb2c853",
   "metadata": {},
   "outputs": [
    {
     "name": "stdout",
     "output_type": "stream",
     "text": [
      "C:\\laba-python\\victory\\base_data_pq\n"
     ]
    }
   ],
   "source": [
    "cd base_data_pq"
   ]
  },
  {
   "cell_type": "markdown",
   "id": "7afad1ed-4845-4b0b-8f37-981bba6f2a1d",
   "metadata": {},
   "source": [
    "#### создание словаря активностей пользователя"
   ]
  },
  {
   "cell_type": "code",
   "execution_count": 3,
   "id": "73d3726d-4a9a-43e4-990b-3ece2505f97e",
   "metadata": {},
   "outputs": [],
   "source": [
    "import pandas as pd"
   ]
  },
  {
   "cell_type": "code",
   "execution_count": 3,
   "id": "b14fd54c-272b-468d-9d2b-51e816376a4a",
   "metadata": {},
   "outputs": [
    {
     "name": "stdout",
     "output_type": "stream",
     "text": [
      "CSV файл 'C:\\laba-python\\victory\\filtered_data_csv\\actions.csv' успешно создан.\n"
     ]
    }
   ],
   "source": [
    "import csv\n",
    "\n",
    "actions = {0: \"view\", 1: \"like\", 2: \"addB\", 3: \"delB\", 4: \"clearB\", 5: \"order\", 6: \"listB\", 7: \"visit\", 8: \"visitCategory\", 9: \"search\"}\n",
    "csv_file_name = r'C:\\laba-python\\victory\\filtered_data_pq\\actions.csv'\n",
    "\n",
    "with open(csv_file_name, 'w', newline='', encoding='utf-8') as file:\n",
    "    writer = csv.writer(file)\n",
    "    writer.writerow(['action_code', 'action_name'])\n",
    "    writer.writerows(actions.items())\n",
    "\n",
    "print(f\"CSV файл '{csv_file_name}' успешно создан.\")"
   ]
  },
  {
   "cell_type": "markdown",
   "id": "4084a7da-a49b-42f3-8946-33cfb4043cbc",
   "metadata": {},
   "source": [
    "#### Требования к train_actions.pq:\n",
    "\n",
    "    1. Создать отдельный словарь со всеми возможными описаниями user_id к loc_user_id\n",
    "    2. Учитывать активности 1, 2, 3, 4, 9\n",
    "    3. Учитывание часто встречающейся активности 0 (значение встретилось больше 2 раз) у уникального пользователя на конкретные товары\n",
    "    4. Удалить user_id, pageId\n",
    "    5. Разделить значения date на столбцы day и time\n",
    "    6. Переименовть products в purchased_items\n",
    "    7. если в purchased_items будет много значений с [], то лучше их удалить\n",
    "\n",
    "    тип products - <class 'numpy.ndarray'>"
   ]
  },
  {
   "cell_type": "code",
   "execution_count": 9,
   "id": "416dc9e7-b79e-4013-9b1d-e1c2617e52c4",
   "metadata": {},
   "outputs": [],
   "source": [
    "import pandas as pd\n",
    "import numpy as np\n",
    "\n",
    "# Загрузка данных из файла\n",
    "df = pd.read_parquet('train_actions.pq')\n",
    "\n",
    "# Учитываем все заданные активности (1, 2, 3, 4, 9, 0)\n",
    "valid_activities = [0, 1, 2, 3, 4, 9]\n",
    "\n",
    "# Фильтруем данные, оставляя только записи с допустимыми активностями\n",
    "df_filtered = df[df['action'].isin(valid_activities)]\n",
    "\n",
    "# Удаление ненужных столбцов\n",
    "df_filtered = df_filtered.drop(columns=['user_id', 'pageId'])\n",
    "\n",
    "# Убедитесь, что столбец date в формате datetime\n",
    "df_filtered['date'] = pd.to_datetime(df_filtered['date'])\n",
    "\n",
    "# Разделение столбца date на day и time\n",
    "df_filtered['day'] = df_filtered['date'].dt.date\n",
    "df_filtered['time'] = df_filtered['date'].dt.time\n",
    "df_filtered = df_filtered.drop(columns=['date'])  # Удаляем старый столбец date\n",
    "\n",
    "# Переименование столбца products в purchased_items\n",
    "df_filtered = df_filtered.rename(columns={'products': 'purchased_items'})\n",
    "\n",
    "# Удаление строк с пустыми значениями в purchased_items\n",
    "df_filtered = df_filtered[~df_filtered['purchased_items'].apply(lambda x: isinstance(x, np.ndarray) and len(x) == 0)]\n",
    "\n",
    "# Сохранение результата в новый файл\n",
    "df_filtered.to_parquet(r'C:\\laba-python\\victory\\filtered_data_pq\\data.pq', index=False)\n"
   ]
  },
  {
   "cell_type": "code",
   "execution_count": 10,
   "id": "1538fede-d885-443d-9ca1-ff5589c6a5e8",
   "metadata": {},
   "outputs": [
    {
     "data": {
      "text/html": [
       "<div>\n",
       "<style scoped>\n",
       "    .dataframe tbody tr th:only-of-type {\n",
       "        vertical-align: middle;\n",
       "    }\n",
       "\n",
       "    .dataframe tbody tr th {\n",
       "        vertical-align: top;\n",
       "    }\n",
       "\n",
       "    .dataframe thead th {\n",
       "        text-align: right;\n",
       "    }\n",
       "</style>\n",
       "<table border=\"1\" class=\"dataframe\">\n",
       "  <thead>\n",
       "    <tr style=\"text-align: right;\">\n",
       "      <th></th>\n",
       "      <th>loc_user_id</th>\n",
       "      <th>action</th>\n",
       "      <th>purchased_items</th>\n",
       "      <th>day</th>\n",
       "      <th>time</th>\n",
       "    </tr>\n",
       "  </thead>\n",
       "  <tbody>\n",
       "    <tr>\n",
       "      <th>0</th>\n",
       "      <td>b29d3f97-1a02-4e3a-990b-2296935a5479</td>\n",
       "      <td>0</td>\n",
       "      <td>[921892]</td>\n",
       "      <td>2024-09-07</td>\n",
       "      <td>00:00:16</td>\n",
       "    </tr>\n",
       "    <tr>\n",
       "      <th>1</th>\n",
       "      <td>95badd96-2133-408c-acbf-23acbf3ec808</td>\n",
       "      <td>0</td>\n",
       "      <td>[6344224]</td>\n",
       "      <td>2024-09-07</td>\n",
       "      <td>00:01:19</td>\n",
       "    </tr>\n",
       "    <tr>\n",
       "      <th>2</th>\n",
       "      <td>95badd96-2133-408c-acbf-23acbf3ec808</td>\n",
       "      <td>0</td>\n",
       "      <td>[6344227]</td>\n",
       "      <td>2024-09-07</td>\n",
       "      <td>00:01:33</td>\n",
       "    </tr>\n",
       "    <tr>\n",
       "      <th>3</th>\n",
       "      <td>95badd96-2133-408c-acbf-23acbf3ec808</td>\n",
       "      <td>0</td>\n",
       "      <td>[6344221]</td>\n",
       "      <td>2024-09-07</td>\n",
       "      <td>00:01:35</td>\n",
       "    </tr>\n",
       "    <tr>\n",
       "      <th>4</th>\n",
       "      <td>95badd96-2133-408c-acbf-23acbf3ec808</td>\n",
       "      <td>0</td>\n",
       "      <td>[6344218]</td>\n",
       "      <td>2024-09-07</td>\n",
       "      <td>00:01:39</td>\n",
       "    </tr>\n",
       "    <tr>\n",
       "      <th>...</th>\n",
       "      <td>...</td>\n",
       "      <td>...</td>\n",
       "      <td>...</td>\n",
       "      <td>...</td>\n",
       "      <td>...</td>\n",
       "    </tr>\n",
       "    <tr>\n",
       "      <th>1152221</th>\n",
       "      <td>d2e9c217-aaae-4921-9cae-b79839ed2ef7</td>\n",
       "      <td>1</td>\n",
       "      <td>[6167461]</td>\n",
       "      <td>2024-09-28</td>\n",
       "      <td>23:59:26</td>\n",
       "    </tr>\n",
       "    <tr>\n",
       "      <th>1152222</th>\n",
       "      <td>1b1c72e6-8841-486e-bfdb-db2647ccfcc2</td>\n",
       "      <td>0</td>\n",
       "      <td>[6389818]</td>\n",
       "      <td>2024-09-28</td>\n",
       "      <td>23:59:28</td>\n",
       "    </tr>\n",
       "    <tr>\n",
       "      <th>1152223</th>\n",
       "      <td>56498eb8-725d-4c2e-83d8-9b1748e5c2d2</td>\n",
       "      <td>0</td>\n",
       "      <td>[5892955]</td>\n",
       "      <td>2024-09-28</td>\n",
       "      <td>23:59:32</td>\n",
       "    </tr>\n",
       "    <tr>\n",
       "      <th>1152224</th>\n",
       "      <td>9984a2a2-a611-4e5c-a5ef-6b89e3247875</td>\n",
       "      <td>0</td>\n",
       "      <td>[5392213]</td>\n",
       "      <td>2024-09-28</td>\n",
       "      <td>23:59:35</td>\n",
       "    </tr>\n",
       "    <tr>\n",
       "      <th>1152225</th>\n",
       "      <td>1b1c72e6-8841-486e-bfdb-db2647ccfcc2</td>\n",
       "      <td>0</td>\n",
       "      <td>[6376045]</td>\n",
       "      <td>2024-09-28</td>\n",
       "      <td>23:59:38</td>\n",
       "    </tr>\n",
       "  </tbody>\n",
       "</table>\n",
       "<p>1152226 rows × 5 columns</p>\n",
       "</div>"
      ],
      "text/plain": [
       "                                  loc_user_id  action purchased_items  \\\n",
       "0        b29d3f97-1a02-4e3a-990b-2296935a5479       0        [921892]   \n",
       "1        95badd96-2133-408c-acbf-23acbf3ec808       0       [6344224]   \n",
       "2        95badd96-2133-408c-acbf-23acbf3ec808       0       [6344227]   \n",
       "3        95badd96-2133-408c-acbf-23acbf3ec808       0       [6344221]   \n",
       "4        95badd96-2133-408c-acbf-23acbf3ec808       0       [6344218]   \n",
       "...                                       ...     ...             ...   \n",
       "1152221  d2e9c217-aaae-4921-9cae-b79839ed2ef7       1       [6167461]   \n",
       "1152222  1b1c72e6-8841-486e-bfdb-db2647ccfcc2       0       [6389818]   \n",
       "1152223  56498eb8-725d-4c2e-83d8-9b1748e5c2d2       0       [5892955]   \n",
       "1152224  9984a2a2-a611-4e5c-a5ef-6b89e3247875       0       [5392213]   \n",
       "1152225  1b1c72e6-8841-486e-bfdb-db2647ccfcc2       0       [6376045]   \n",
       "\n",
       "                day      time  \n",
       "0        2024-09-07  00:00:16  \n",
       "1        2024-09-07  00:01:19  \n",
       "2        2024-09-07  00:01:33  \n",
       "3        2024-09-07  00:01:35  \n",
       "4        2024-09-07  00:01:39  \n",
       "...             ...       ...  \n",
       "1152221  2024-09-28  23:59:26  \n",
       "1152222  2024-09-28  23:59:28  \n",
       "1152223  2024-09-28  23:59:32  \n",
       "1152224  2024-09-28  23:59:35  \n",
       "1152225  2024-09-28  23:59:38  \n",
       "\n",
       "[1152226 rows x 5 columns]"
      ]
     },
     "execution_count": 10,
     "metadata": {},
     "output_type": "execute_result"
    }
   ],
   "source": [
    "catalog = pd.read_parquet(r'C:\\laba-python\\victory\\filtered_data_pq\\data.pq', engine='pyarrow')\n",
    "catalog.head(-5)"
   ]
  },
  {
   "cell_type": "markdown",
   "id": "af502b2d-65cb-428c-9a62-a901777fa951",
   "metadata": {},
   "source": [
    "#### Требования к stokman_catalog_preprocessed.pq\n",
    "\n",
    "    1. Для товаров без описания добавить флаг\n",
    "    2. Удалить столбцы add_date, shop_id, title, old_price\n",
    "    3. Товары без price заполнить средним значением или медианой\n",
    "    4. Товары без category_id заполнить значением 0"
   ]
  },
  {
   "cell_type": "code",
   "execution_count": 14,
   "id": "f4dd35e5-d961-4c54-8617-12081c771cf1",
   "metadata": {},
   "outputs": [],
   "source": [
    "import pandas as pd\n",
    "\n",
    "# Загрузка и обработка данных\n",
    "df = pd.read_parquet('stokman_catalog_preprocessed.pq')\n",
    "df.drop(columns=['add_date', 'shop_id', 'title', 'old_price'], inplace=True)\n",
    "df['price'] = df['price'].fillna(df['price'].mean())  # или df['price'].median()\n",
    "df['category_id'] = df['category_id'].fillna(0)\n",
    "df.to_parquet(r'C:\\laba-python\\victory\\filtered_data_pq\\catalog.pq')"
   ]
  },
  {
   "cell_type": "code",
   "execution_count": 4,
   "id": "a9256902-3ec1-4c0b-b1dc-e870e591682a",
   "metadata": {},
   "outputs": [
    {
     "data": {
      "text/html": [
       "<div>\n",
       "<style scoped>\n",
       "    .dataframe tbody tr th:only-of-type {\n",
       "        vertical-align: middle;\n",
       "    }\n",
       "\n",
       "    .dataframe tbody tr th {\n",
       "        vertical-align: top;\n",
       "    }\n",
       "\n",
       "    .dataframe thead th {\n",
       "        text-align: right;\n",
       "    }\n",
       "</style>\n",
       "<table border=\"1\" class=\"dataframe\">\n",
       "  <thead>\n",
       "    <tr style=\"text-align: right;\">\n",
       "      <th></th>\n",
       "      <th>product_id</th>\n",
       "      <th>category_id</th>\n",
       "      <th>price</th>\n",
       "    </tr>\n",
       "  </thead>\n",
       "  <tbody>\n",
       "    <tr>\n",
       "      <th>0</th>\n",
       "      <td>1025536</td>\n",
       "      <td>8922</td>\n",
       "      <td>6990.0</td>\n",
       "    </tr>\n",
       "    <tr>\n",
       "      <th>1</th>\n",
       "      <td>1025614</td>\n",
       "      <td>10600</td>\n",
       "      <td>330.0</td>\n",
       "    </tr>\n",
       "    <tr>\n",
       "      <th>2</th>\n",
       "      <td>1025656</td>\n",
       "      <td>231</td>\n",
       "      <td>13240.0</td>\n",
       "    </tr>\n",
       "    <tr>\n",
       "      <th>3</th>\n",
       "      <td>1025659</td>\n",
       "      <td>14546</td>\n",
       "      <td>7550.0</td>\n",
       "    </tr>\n",
       "    <tr>\n",
       "      <th>4</th>\n",
       "      <td>1025668</td>\n",
       "      <td>1949</td>\n",
       "      <td>1290.0</td>\n",
       "    </tr>\n",
       "    <tr>\n",
       "      <th>...</th>\n",
       "      <td>...</td>\n",
       "      <td>...</td>\n",
       "      <td>...</td>\n",
       "    </tr>\n",
       "    <tr>\n",
       "      <th>107089</th>\n",
       "      <td>1516589</td>\n",
       "      <td>0</td>\n",
       "      <td>4190.0</td>\n",
       "    </tr>\n",
       "    <tr>\n",
       "      <th>107090</th>\n",
       "      <td>7233534</td>\n",
       "      <td>0</td>\n",
       "      <td>4190.0</td>\n",
       "    </tr>\n",
       "    <tr>\n",
       "      <th>107091</th>\n",
       "      <td>1577588</td>\n",
       "      <td>0</td>\n",
       "      <td>4190.0</td>\n",
       "    </tr>\n",
       "    <tr>\n",
       "      <th>107092</th>\n",
       "      <td>7181874</td>\n",
       "      <td>0</td>\n",
       "      <td>4190.0</td>\n",
       "    </tr>\n",
       "    <tr>\n",
       "      <th>107093</th>\n",
       "      <td>822171</td>\n",
       "      <td>0</td>\n",
       "      <td>4190.0</td>\n",
       "    </tr>\n",
       "  </tbody>\n",
       "</table>\n",
       "<p>107094 rows × 3 columns</p>\n",
       "</div>"
      ],
      "text/plain": [
       "       product_id  category_id    price\n",
       "0         1025536         8922   6990.0\n",
       "1         1025614        10600    330.0\n",
       "2         1025656          231  13240.0\n",
       "3         1025659        14546   7550.0\n",
       "4         1025668         1949   1290.0\n",
       "...           ...          ...      ...\n",
       "107089    1516589            0   4190.0\n",
       "107090    7233534            0   4190.0\n",
       "107091    1577588            0   4190.0\n",
       "107092    7181874            0   4190.0\n",
       "107093     822171            0   4190.0\n",
       "\n",
       "[107094 rows x 3 columns]"
      ]
     },
     "execution_count": 4,
     "metadata": {},
     "output_type": "execute_result"
    }
   ],
   "source": [
    "catalog = pd.read_parquet(r'C:\\laba-python\\victory\\filtered_data_pq\\catalog.pq', engine='pyarrow')\n",
    "catalog.head(-5)"
   ]
  },
  {
   "cell_type": "markdown",
   "id": "08a12d27-0425-4c96-9472-e19312a3d8c6",
   "metadata": {},
   "source": [
    "##### дополнение каталога с описаниями неуказанными товарами из активностей пользователей"
   ]
  },
  {
   "cell_type": "code",
   "execution_count": 18,
   "id": "2f9a48f3-283e-4df1-9b23-e6405d7658f2",
   "metadata": {},
   "outputs": [
    {
     "name": "stdout",
     "output_type": "stream",
     "text": [
      "Обработка завершена! Недостающие product_id добавлены в каталог.\n"
     ]
    }
   ],
   "source": [
    "import pandas as pd\n",
    "import numpy as np\n",
    "\n",
    "# Загрузка данных из файла filtered_data_pq\n",
    "filtered_data_path = r'C:\\laba-python\\victory\\filtered_data_pq\\data.pq'\n",
    "catalog_data_path = r'C:\\laba-python\\victory\\filtered_data_pq\\catalog.pq'\n",
    "\n",
    "# Чтение данных из файла\n",
    "filtered_data = pd.read_parquet(filtered_data_path)\n",
    "catalog_data = pd.read_parquet(catalog_data_path)\n",
    "\n",
    "# Получение всех уникальных product_id из purchased_items\n",
    "unique_product_ids = set()\n",
    "for items in filtered_data['purchased_items']:\n",
    "    unique_product_ids.update(items)\n",
    "\n",
    "# Преобразование product_id из catalog в множество для быстрой проверки наличия\n",
    "existing_product_ids = set(catalog_data['product_id'])\n",
    "\n",
    "# Находим отсутствующие product_id и добавляем их в catalog\n",
    "missing_product_ids = unique_product_ids - existing_product_ids\n",
    "\n",
    "# Создаем DataFrame для недостающих product_id\n",
    "if missing_product_ids:\n",
    "    new_rows = pd.DataFrame({'product_id': list(missing_product_ids)})\n",
    "    catalog_data = pd.concat([catalog_data, new_rows], ignore_index=True)\n",
    "\n",
    "# Сохраняем изменения обратно в файл\n",
    "catalog_data.to_parquet(catalog_data_path, index=False)\n",
    "\n",
    "print(\"Обработка завершена! Недостающие product_id добавлены в каталог.\")\n"
   ]
  },
  {
   "cell_type": "code",
   "execution_count": 26,
   "id": "ce9cdcc4-e7c1-4e03-88fb-45a34fdce23f",
   "metadata": {},
   "outputs": [
    {
     "name": "stdout",
     "output_type": "stream",
     "text": [
      "Обработка завершена! Значения category_id и price обновлены.\n"
     ]
    }
   ],
   "source": [
    "import pandas as pd\n",
    "\n",
    "# Путь к файлу catalog.pq\n",
    "catalog_data_path = r'C:\\laba-python\\victory\\filtered_data_pq\\catalog.pq'\n",
    "\n",
    "# Чтение данных из файла\n",
    "catalog_data = pd.read_parquet(catalog_data_path)\n",
    "\n",
    "# Замена None в category_id на 0 и преобразование в int\n",
    "catalog_data['category_id'] = catalog_data['category_id'].fillna(0).astype(int)\n",
    "\n",
    "# Замена NaN в price на медиану всех цен\n",
    "median_price = catalog_data['price'].median()\n",
    "catalog_data['price'] = catalog_data['price'].fillna(median_price)\n",
    "\n",
    "# Сохраняем изменения обратно в файл\n",
    "catalog_data.to_parquet(catalog_data_path, index=False)\n",
    "\n",
    "print(\"Обработка завершена! Значения category_id и price обновлены.\")\n"
   ]
  },
  {
   "cell_type": "code",
   "execution_count": 27,
   "id": "3341670f-439c-41ae-b6bb-e11873065351",
   "metadata": {},
   "outputs": [
    {
     "name": "stdout",
     "output_type": "stream",
     "text": [
      "Количество category_id со значением 0: 17631\n"
     ]
    }
   ],
   "source": [
    "import pandas as pd\n",
    "\n",
    "# Загрузка данных\n",
    "df = pd.read_parquet(r'C:\\laba-python\\victory\\filtered_data_pq\\catalog.pq')\n",
    "\n",
    "# Подсчет количества значений category_id, равных 0\n",
    "count_zero_category = (df['category_id'] == 0).sum()\n",
    "\n",
    "print(f\"Количество category_id со значением 0: {count_zero_category}\")\n"
   ]
  },
  {
   "cell_type": "code",
   "execution_count": 28,
   "id": "e88fc9c1-14ce-4b06-9cd9-fc86b9169cbf",
   "metadata": {},
   "outputs": [
    {
     "data": {
      "text/html": [
       "<div>\n",
       "<style scoped>\n",
       "    .dataframe tbody tr th:only-of-type {\n",
       "        vertical-align: middle;\n",
       "    }\n",
       "\n",
       "    .dataframe tbody tr th {\n",
       "        vertical-align: top;\n",
       "    }\n",
       "\n",
       "    .dataframe thead th {\n",
       "        text-align: right;\n",
       "    }\n",
       "</style>\n",
       "<table border=\"1\" class=\"dataframe\">\n",
       "  <thead>\n",
       "    <tr style=\"text-align: right;\">\n",
       "      <th></th>\n",
       "      <th>product_id</th>\n",
       "      <th>category_id</th>\n",
       "      <th>price</th>\n",
       "    </tr>\n",
       "  </thead>\n",
       "  <tbody>\n",
       "    <tr>\n",
       "      <th>0</th>\n",
       "      <td>1025536</td>\n",
       "      <td>8922</td>\n",
       "      <td>6990.0</td>\n",
       "    </tr>\n",
       "    <tr>\n",
       "      <th>1</th>\n",
       "      <td>1025614</td>\n",
       "      <td>10600</td>\n",
       "      <td>330.0</td>\n",
       "    </tr>\n",
       "    <tr>\n",
       "      <th>2</th>\n",
       "      <td>1025656</td>\n",
       "      <td>231</td>\n",
       "      <td>13240.0</td>\n",
       "    </tr>\n",
       "    <tr>\n",
       "      <th>3</th>\n",
       "      <td>1025659</td>\n",
       "      <td>14546</td>\n",
       "      <td>7550.0</td>\n",
       "    </tr>\n",
       "    <tr>\n",
       "      <th>4</th>\n",
       "      <td>1025668</td>\n",
       "      <td>1949</td>\n",
       "      <td>1290.0</td>\n",
       "    </tr>\n",
       "    <tr>\n",
       "      <th>...</th>\n",
       "      <td>...</td>\n",
       "      <td>...</td>\n",
       "      <td>...</td>\n",
       "    </tr>\n",
       "    <tr>\n",
       "      <th>107089</th>\n",
       "      <td>1516589</td>\n",
       "      <td>0</td>\n",
       "      <td>4190.0</td>\n",
       "    </tr>\n",
       "    <tr>\n",
       "      <th>107090</th>\n",
       "      <td>7233534</td>\n",
       "      <td>0</td>\n",
       "      <td>4190.0</td>\n",
       "    </tr>\n",
       "    <tr>\n",
       "      <th>107091</th>\n",
       "      <td>1577588</td>\n",
       "      <td>0</td>\n",
       "      <td>4190.0</td>\n",
       "    </tr>\n",
       "    <tr>\n",
       "      <th>107092</th>\n",
       "      <td>7181874</td>\n",
       "      <td>0</td>\n",
       "      <td>4190.0</td>\n",
       "    </tr>\n",
       "    <tr>\n",
       "      <th>107093</th>\n",
       "      <td>822171</td>\n",
       "      <td>0</td>\n",
       "      <td>4190.0</td>\n",
       "    </tr>\n",
       "  </tbody>\n",
       "</table>\n",
       "<p>107094 rows × 3 columns</p>\n",
       "</div>"
      ],
      "text/plain": [
       "       product_id  category_id    price\n",
       "0         1025536         8922   6990.0\n",
       "1         1025614        10600    330.0\n",
       "2         1025656          231  13240.0\n",
       "3         1025659        14546   7550.0\n",
       "4         1025668         1949   1290.0\n",
       "...           ...          ...      ...\n",
       "107089    1516589            0   4190.0\n",
       "107090    7233534            0   4190.0\n",
       "107091    1577588            0   4190.0\n",
       "107092    7181874            0   4190.0\n",
       "107093     822171            0   4190.0\n",
       "\n",
       "[107094 rows x 3 columns]"
      ]
     },
     "execution_count": 28,
     "metadata": {},
     "output_type": "execute_result"
    }
   ],
   "source": [
    "catalog = pd.read_parquet(r'C:\\laba-python\\victory\\filtered_data_pq\\catalog.pq', engine='pyarrow')\n",
    "catalog.head(-5)"
   ]
  },
  {
   "cell_type": "code",
   "execution_count": null,
   "id": "42eb6b0a-9bc7-4e64-a843-4d875a6f28dc",
   "metadata": {},
   "outputs": [],
   "source": []
  },
  {
   "cell_type": "markdown",
   "id": "5e6f4d7d-8b24-4497-9d62-3baba3acbb68",
   "metadata": {},
   "source": [
    "# доп. анализ \n",
    "\n",
    "    разная длина product_id (7 или 6)\n",
    "    все принадлежат одному магазину"
   ]
  },
  {
   "cell_type": "code",
   "execution_count": 3,
   "id": "961fd11c-07f5-410c-93d8-f2b9051ea9c7",
   "metadata": {},
   "outputs": [
    {
     "name": "stdout",
     "output_type": "stream",
     "text": [
      "Максимальная длина product_id: 7\n",
      "Минимальная длина product_id: 6\n",
      "Количество product_id с 7 цифрами: 82574\n",
      "Количество product_id с меньшим количеством цифр: 6909\n",
      "Количество product_id с большим количеством цифр: 0\n"
     ]
    }
   ],
   "source": [
    "import pandas as pd\n",
    "\n",
    "# Путь к файлу catalog.pq\n",
    "catalog_data_path = r'C:\\laba-python\\victory\\base_data_pq\\stokman_catalog_preprocessed.pq'\n",
    "\n",
    "# Чтение данных из файла\n",
    "catalog_data = pd.read_parquet(catalog_data_path)\n",
    "\n",
    "# Предполагаем, что product_id - это строка\n",
    "# Применяем функцию для определения длины каждого product_id\n",
    "lengths = catalog_data['product_id'].astype(str).apply(len)\n",
    "\n",
    "# Определяем максимальную и минимальную длину\n",
    "max_length = lengths.max()\n",
    "min_length = lengths.min()\n",
    "\n",
    "# Подсчет количества значений с 7 цифрами, меньше и больше\n",
    "count_seven_digits = (lengths == 7).sum()\n",
    "count_less_than_seven = (lengths < 7).sum()\n",
    "count_more_than_seven = (lengths > 7).sum()\n",
    "\n",
    "print(f\"Максимальная длина product_id: {max_length}\")\n",
    "print(f\"Минимальная длина product_id: {min_length}\")\n",
    "print(f\"Количество product_id с 7 цифрами: {count_seven_digits}\")\n",
    "print(f\"Количество product_id с меньшим количеством цифр: {count_less_than_seven}\")\n",
    "print(f\"Количество product_id с большим количеством цифр: {count_more_than_seven}\")\n"
   ]
  },
  {
   "cell_type": "code",
   "execution_count": 4,
   "id": "0c1cdb0b-8346-4ab1-833e-bc9d64052aa0",
   "metadata": {},
   "outputs": [
    {
     "name": "stdout",
     "output_type": "stream",
     "text": [
      "Значения shop_id для семизначных product_id: ['350']\n",
      "Значения shop_id для шестизначных product_id: ['350']\n"
     ]
    }
   ],
   "source": [
    "import pandas as pd\n",
    "\n",
    "# Путь к файлу catalog.pq\n",
    "catalog_data_path = r'C:\\laba-python\\victory\\base_data_pq\\stokman_catalog_preprocessed.pq'\n",
    "\n",
    "# Чтение данных из файла\n",
    "catalog_data = pd.read_parquet(catalog_data_path)\n",
    "\n",
    "# Предполагаем, что product_id - это строка\n",
    "# Создаем столбец с длиной каждого product_id\n",
    "catalog_data['product_id_length'] = catalog_data['product_id'].astype(str).apply(len)\n",
    "\n",
    "# Получаем shop_id для семизначных product_id\n",
    "seven_digit_shops = catalog_data[catalog_data['product_id_length'] == 7]['shop_id'].unique()\n",
    "\n",
    "# Получаем shop_id для шестизначных product_id\n",
    "six_digit_shops = catalog_data[catalog_data['product_id_length'] == 6]['shop_id'].unique()\n",
    "\n",
    "print(f\"Значения shop_id для семизначных product_id: {seven_digit_shops}\")\n",
    "print(f\"Значения shop_id для шестизначных product_id: {six_digit_shops}\")\n"
   ]
  },
  {
   "cell_type": "code",
   "execution_count": 5,
   "id": "ce9d1513-6227-45e7-874f-4b2536bf0ca6",
   "metadata": {},
   "outputs": [
    {
     "name": "stdout",
     "output_type": "stream",
     "text": [
      "Количество нулевых значений в shop_id: 0\n",
      "Содержит ли shop_id нулевые значения? Нет\n"
     ]
    }
   ],
   "source": [
    "import pandas as pd\n",
    "\n",
    "# Путь к файлу catalog.pq\n",
    "catalog_data_path = r'C:\\laba-python\\victory\\base_data_pq\\stokman_catalog_preprocessed.pq'\n",
    "\n",
    "# Чтение данных из файла\n",
    "catalog_data = pd.read_parquet(catalog_data_path)\n",
    "\n",
    "# Проверяем количество нулевых значений в столбце shop_id\n",
    "null_shop_id_count = catalog_data['shop_id'].isnull().sum()\n",
    "\n",
    "# Проверяем, есть ли хотя бы одно нулевое значение\n",
    "has_null_shop_id = null_shop_id_count > 0\n",
    "\n",
    "print(f\"Количество нулевых значений в shop_id: {null_shop_id_count}\")\n",
    "print(f\"Содержит ли shop_id нулевые значения? {'Да' if has_null_shop_id else 'Нет'}\")\n"
   ]
  },
  {
   "cell_type": "code",
   "execution_count": 6,
   "id": "546483f0-3282-49b9-ad9a-8cd6d0766206",
   "metadata": {},
   "outputs": [
    {
     "name": "stdout",
     "output_type": "stream",
     "text": [
      "Количество уникальных shop_id: 1\n"
     ]
    }
   ],
   "source": [
    "import pandas as pd\n",
    "\n",
    "# Путь к файлу catalog.pq\n",
    "catalog_data_path = r'C:\\laba-python\\victory\\base_data_pq\\stokman_catalog_preprocessed.pq'\n",
    "\n",
    "# Чтение данных из файла\n",
    "catalog_data = pd.read_parquet(catalog_data_path)\n",
    "\n",
    "# Подсчет количества уникальных shop_id\n",
    "unique_shop_id_count = catalog_data['shop_id'].nunique()\n",
    "\n",
    "print(f\"Количество уникальных shop_id: {unique_shop_id_count}\")\n"
   ]
  },
  {
   "cell_type": "code",
   "execution_count": null,
   "id": "c8d23b53-9781-49d3-acdf-28a1308e2217",
   "metadata": {},
   "outputs": [],
   "source": []
  },
  {
   "cell_type": "code",
   "execution_count": null,
   "id": "2bc7c7a3-662f-4a6f-ba96-82c1f225f455",
   "metadata": {},
   "outputs": [],
   "source": []
  },
  {
   "cell_type": "code",
   "execution_count": null,
   "id": "7ef5e480-235f-402d-a07c-3c2a57535809",
   "metadata": {},
   "outputs": [],
   "source": []
  },
  {
   "cell_type": "code",
   "execution_count": null,
   "id": "a0fa31e0-c2e5-4fa4-bdd9-f3cb177684ac",
   "metadata": {},
   "outputs": [],
   "source": []
  }
 ],
 "metadata": {
  "kernelspec": {
   "display_name": "Python 3 (ipykernel)",
   "language": "python",
   "name": "python3"
  },
  "language_info": {
   "codemirror_mode": {
    "name": "ipython",
    "version": 3
   },
   "file_extension": ".py",
   "mimetype": "text/x-python",
   "name": "python",
   "nbconvert_exporter": "python",
   "pygments_lexer": "ipython3",
   "version": "3.10.0"
  }
 },
 "nbformat": 4,
 "nbformat_minor": 5
}
