{
 "cells": [
  {
   "cell_type": "code",
   "execution_count": 95,
   "metadata": {},
   "outputs": [],
   "source": [
    "import pandas as pd\n",
    "import numpy as np\n",
    "from tqdm.auto import tqdm, trange"
   ]
  },
  {
   "cell_type": "code",
   "execution_count": 96,
   "metadata": {},
   "outputs": [
    {
     "name": "stderr",
     "output_type": "stream",
     "text": [
      "C:\\ProgramData\\Anaconda3\\lib\\site-packages\\IPython\\core\\interactiveshell.py:3071: DtypeWarning: Columns (3) have mixed types.Specify dtype option on import or set low_memory=False.\n",
      "  has_raised = await self.run_ast_nodes(code_ast.body, cell_name,\n"
     ]
    }
   ],
   "source": [
    "data = pd.read_csv('lenta-ru-news.csv')"
   ]
  },
  {
   "cell_type": "code",
   "execution_count": 97,
   "metadata": {},
   "outputs": [
    {
     "data": {
      "text/plain": [
       "(800975, 6)"
      ]
     },
     "execution_count": 97,
     "metadata": {},
     "output_type": "execute_result"
    }
   ],
   "source": [
    "data.shape"
   ]
  },
  {
   "cell_type": "code",
   "execution_count": 5,
   "metadata": {},
   "outputs": [],
   "source": [
    "data = data[:100000]"
   ]
  },
  {
   "cell_type": "code",
   "execution_count": 6,
   "metadata": {},
   "outputs": [
    {
     "data": {
      "text/html": [
       "<div>\n",
       "<style scoped>\n",
       "    .dataframe tbody tr th:only-of-type {\n",
       "        vertical-align: middle;\n",
       "    }\n",
       "\n",
       "    .dataframe tbody tr th {\n",
       "        vertical-align: top;\n",
       "    }\n",
       "\n",
       "    .dataframe thead th {\n",
       "        text-align: right;\n",
       "    }\n",
       "</style>\n",
       "<table border=\"1\" class=\"dataframe\">\n",
       "  <thead>\n",
       "    <tr style=\"text-align: right;\">\n",
       "      <th></th>\n",
       "      <th>url</th>\n",
       "      <th>title</th>\n",
       "      <th>text</th>\n",
       "      <th>topic</th>\n",
       "      <th>tags</th>\n",
       "    </tr>\n",
       "  </thead>\n",
       "  <tbody>\n",
       "    <tr>\n",
       "      <th>0</th>\n",
       "      <td>https://lenta.ru/news/2018/12/14/cancer/</td>\n",
       "      <td>Названы регионы России с самой высокой смертно...</td>\n",
       "      <td>Вице-премьер по социальным вопросам Татьяна Го...</td>\n",
       "      <td>Россия</td>\n",
       "      <td>Общество</td>\n",
       "    </tr>\n",
       "    <tr>\n",
       "      <th>1</th>\n",
       "      <td>https://lenta.ru/news/2018/12/15/doping/</td>\n",
       "      <td>Австрия не представила доказательств вины росс...</td>\n",
       "      <td>Австрийские правоохранительные органы не предс...</td>\n",
       "      <td>Спорт</td>\n",
       "      <td>Зимние виды</td>\n",
       "    </tr>\n",
       "    <tr>\n",
       "      <th>2</th>\n",
       "      <td>https://lenta.ru/news/2018/12/15/disneyland/</td>\n",
       "      <td>Обнаружено самое счастливое место на планете</td>\n",
       "      <td>Сотрудники социальной сети Instagram проанализ...</td>\n",
       "      <td>Путешествия</td>\n",
       "      <td>Мир</td>\n",
       "    </tr>\n",
       "    <tr>\n",
       "      <th>3</th>\n",
       "      <td>https://lenta.ru/news/2018/12/15/usa25/</td>\n",
       "      <td>В США раскрыли сумму расходов на расследование...</td>\n",
       "      <td>С начала расследования российского вмешательст...</td>\n",
       "      <td>Мир</td>\n",
       "      <td>Политика</td>\n",
       "    </tr>\n",
       "    <tr>\n",
       "      <th>4</th>\n",
       "      <td>https://lenta.ru/news/2018/12/15/integrity/</td>\n",
       "      <td>Хакеры рассказали о планах Великобритании зами...</td>\n",
       "      <td>Хакерская группировка Anonymous опубликовала н...</td>\n",
       "      <td>Мир</td>\n",
       "      <td>Общество</td>\n",
       "    </tr>\n",
       "  </tbody>\n",
       "</table>\n",
       "</div>"
      ],
      "text/plain": [
       "                                            url  \\\n",
       "0      https://lenta.ru/news/2018/12/14/cancer/   \n",
       "1      https://lenta.ru/news/2018/12/15/doping/   \n",
       "2  https://lenta.ru/news/2018/12/15/disneyland/   \n",
       "3       https://lenta.ru/news/2018/12/15/usa25/   \n",
       "4   https://lenta.ru/news/2018/12/15/integrity/   \n",
       "\n",
       "                                               title  \\\n",
       "0  Названы регионы России с самой высокой смертно...   \n",
       "1  Австрия не представила доказательств вины росс...   \n",
       "2       Обнаружено самое счастливое место на планете   \n",
       "3  В США раскрыли сумму расходов на расследование...   \n",
       "4  Хакеры рассказали о планах Великобритании зами...   \n",
       "\n",
       "                                                text        topic         tags  \n",
       "0  Вице-премьер по социальным вопросам Татьяна Го...       Россия     Общество  \n",
       "1  Австрийские правоохранительные органы не предс...        Спорт  Зимние виды  \n",
       "2  Сотрудники социальной сети Instagram проанализ...  Путешествия          Мир  \n",
       "3  С начала расследования российского вмешательст...          Мир     Политика  \n",
       "4  Хакерская группировка Anonymous опубликовала н...          Мир     Общество  "
      ]
     },
     "execution_count": 6,
     "metadata": {},
     "output_type": "execute_result"
    }
   ],
   "source": [
    "data.head(5)"
   ]
  },
  {
   "cell_type": "code",
   "execution_count": 7,
   "metadata": {},
   "outputs": [
    {
     "name": "stdout",
     "output_type": "stream",
     "text": [
      "['Общество' 'Зимние виды' 'Мир' 'Политика' 'Украина' 'Coцсети'\n",
      " 'Следствие и суд' 'Хоккей' 'Деньги' 'Госэкономика' 'Происшествия'\n",
      " 'Футбол' 'Бизнес' 'Музыка' 'Квартира' 'Бокс и ММА' 'Театр' 'Оружие'\n",
      " 'Дача' 'Прибалтика' 'Рынки' 'Звери' 'Техника' 'Интернет' 'Люди' 'Наука'\n",
      " 'Внешний вид' 'Кино' 'ТВ и радио' 'Регионы' 'Космос' 'Явления' 'Стиль'\n",
      " 'Белоруссия' 'События' 'Деловой климат' 'Все' 'Искусство' 'Движение'\n",
      " 'Преступность' 'Криминал' 'Жизнь' 'Мнения' 'Полиция и спецслужбы'\n",
      " 'Конфликты' 'Авто' 'Книги' 'Вкусы' 'Фотография' 'Реклама' 'Закавказье'\n",
      " nan 'Часы' 'Летние виды' 'Россия' 'Пресса' 'Вещи' 'История' 'Игры'\n",
      " 'Достижения' 'Офис' 'Средняя Азия' 'Еда' 'Москва' 'Социальная сфера'\n",
      " 'Молдавия' 'Преступная Россия' 'Гаджеты' 'Город' 'Киберпреступность'\n",
      " 'Страноведение' 'Софт' 'Инструменты' 'Вирусные ролики' 'Экология'\n",
      " 'Выборы' 'Мемы' 'Наследие' 'Туризм' 'Вооружение' 'Мировой бизнес'\n",
      " 'Автобизнес' 'Финансы компаний'] 83\n"
     ]
    }
   ],
   "source": [
    "print(data['tags'].unique(), len(data['tags'].unique()))"
   ]
  },
  {
   "cell_type": "code",
   "execution_count": 8,
   "metadata": {},
   "outputs": [
    {
     "name": "stdout",
     "output_type": "stream",
     "text": [
      "['Россия' 'Спорт' 'Путешествия' 'Мир' 'Бывший СССР' 'Интернет и СМИ'\n",
      " 'Силовые структуры' 'Экономика' 'Культура' 'Дом' 'Наука и техника'\n",
      " 'Из жизни' 'Ценности' 'Бизнес' '69-я параллель' nan 'Культпросвет '\n",
      " 'Крым' 'Оружие'] 19\n"
     ]
    }
   ],
   "source": [
    "print(data['topic'].unique(), len(data['topic'].unique()))"
   ]
  },
  {
   "cell_type": "markdown",
   "metadata": {},
   "source": [
    "## Выборка данных"
   ]
  },
  {
   "cell_type": "code",
   "execution_count": 98,
   "metadata": {},
   "outputs": [],
   "source": [
    "topics = ['Путешествия', 'Ценности', 'Мир', 'Наука и техника', 'Экономика']\n",
    "news_in_cat_count = 2000"
   ]
  },
  {
   "cell_type": "code",
   "execution_count": 99,
   "metadata": {},
   "outputs": [
    {
     "data": {
      "application/vnd.jupyter.widget-view+json": {
       "model_id": "3d42dad75e3f48fdb986b2ca4d1624f9",
       "version_major": 2,
       "version_minor": 0
      },
      "text/plain": [
       "HBox(children=(FloatProgress(value=0.0, max=5.0), HTML(value='')))"
      ]
     },
     "metadata": {},
     "output_type": "display_data"
    },
    {
     "name": "stdout",
     "output_type": "stream",
     "text": [
      "\n"
     ]
    }
   ],
   "source": [
    "df_res = pd.DataFrame()\n",
    "\n",
    "for topic in tqdm(topics):\n",
    "    df_topic = data[data['topic'] == topic][:news_in_cat_count]\n",
    "    df_res = df_res.append(df_topic, ignore_index=True)"
   ]
  },
  {
   "cell_type": "code",
   "execution_count": 100,
   "metadata": {},
   "outputs": [
    {
     "data": {
      "text/plain": [
       "(10000, 6)"
      ]
     },
     "execution_count": 100,
     "metadata": {},
     "output_type": "execute_result"
    }
   ],
   "source": [
    "df_res.shape"
   ]
  },
  {
   "cell_type": "markdown",
   "metadata": {},
   "source": [
    "## Предобработка"
   ]
  },
  {
   "cell_type": "code",
   "execution_count": 101,
   "metadata": {},
   "outputs": [],
   "source": [
    "import string\n",
    "def remove_punctuation(text):\n",
    "    return \"\".join([ch if ch not in string.punctuation else ' ' for ch in text])\n",
    "\n",
    "def remove_numbers(text):\n",
    "    return ''.join([i if not i.isdigit() else ' ' for i in text])\n",
    "\n",
    "import re\n",
    "def remove_multiple_spaces(text):\n",
    "\treturn re.sub(r'\\s+', ' ', text, flags=re.I)\n",
    "\n",
    "from nltk.stem import *\n",
    "from nltk.corpus import stopwords\n",
    "from pymystem3 import Mystem\n",
    "from string import punctuation\n",
    "mystem = Mystem() \n",
    "\n",
    "russian_stopwords = stopwords.words(\"russian\")\n",
    "russian_stopwords.extend(['…', '«', '»', '...'])\n",
    "def lemmatize_text(text):\n",
    "    tokens = mystem.lemmatize(text.lower())\n",
    "    tokens = [token for token in tokens if token not in russian_stopwords and token != \" \"]\n",
    "    text = \" \".join(tokens)\n",
    "    return text"
   ]
  },
  {
   "cell_type": "code",
   "execution_count": null,
   "metadata": {},
   "outputs": [],
   "source": [
    "preproccessing = lambda text: (remove_multiple_spaces(remove_numbers(remove_punctuation(text))))\n",
    "data['preproccessed'] = list(map(preproccessing, df_res['text']))"
   ]
  },
  {
   "cell_type": "code",
   "execution_count": 102,
   "metadata": {},
   "outputs": [
    {
     "data": {
      "application/vnd.jupyter.widget-view+json": {
       "model_id": "e34da27c1a3647eda8a1db238ed470d2",
       "version_major": 2,
       "version_minor": 0
      },
      "text/plain": [
       "HBox(children=(FloatProgress(value=0.0, max=10000.0), HTML(value='')))"
      ]
     },
     "metadata": {},
     "output_type": "display_data"
    },
    {
     "name": "stdout",
     "output_type": "stream",
     "text": [
      "\n"
     ]
    }
   ],
   "source": [
    "prep_text = [remove_multiple_spaces(remove_numbers(remove_punctuation(text.lower()))) for text in tqdm(df_res['text'])]"
   ]
  },
  {
   "cell_type": "code",
   "execution_count": 103,
   "metadata": {},
   "outputs": [
    {
     "data": {
      "text/plain": [
       "'названы самые раздражающие фотографии которые уехавшие в отпуск люди выкладывают в социальные сети сообщает the daily mail соответствующий антирейтинг был составлен на основе опроса посетителей онлайн сервиса для туристов top com интернет пользователи назвали самым раздражающим видом снимков с отдыха скриншоты прогноза погоды в месте пребывания — процент опрошенных не желают видеть такие фото в своей новостной ленте в соцсети особое недовольство вызывают селфи они бесят процента респондентов замыкает тройку лидеров негатива такой вид фото как hot dog legs многие любят фотографировать свои загорелые конечности на фоне моря бассейна и т д «ноги сосиски» в соцсетях портят настроение процентам опрошенных самые ненавистные для пользователей типы снимков друзей расположились в рейтинге top com так скриншоты из iphone о прогнозе погоды на курорте отпускные селфи снимки ног на фоне моря бассейна и т д так называемые hot dog legs фотографии в прыжке оптические иллюзии например эйфелева башня на ладони фото надписей на песке фото с тантамаресками снимки закатов фото неба и пальм фото напитков и еды представитель top com алекс баттл alex buttle отметил что составители рейтинга не собирались ставить «банальные снимки» в укор интернет пользователям по словам баттла в компании осознают что причиной по которой многие пользователи проголосовали за те или иные виды фото может быть не раздражение а зависть '"
      ]
     },
     "execution_count": 103,
     "metadata": {},
     "output_type": "execute_result"
    }
   ],
   "source": [
    "len(prep_text)\n",
    "prep_text[0]"
   ]
  },
  {
   "cell_type": "code",
   "execution_count": 104,
   "metadata": {},
   "outputs": [],
   "source": [
    "df_res['text_prep'] = prep_text"
   ]
  },
  {
   "cell_type": "code",
   "execution_count": 27,
   "metadata": {},
   "outputs": [
    {
     "data": {
      "text/html": [
       "<div>\n",
       "<style scoped>\n",
       "    .dataframe tbody tr th:only-of-type {\n",
       "        vertical-align: middle;\n",
       "    }\n",
       "\n",
       "    .dataframe tbody tr th {\n",
       "        vertical-align: top;\n",
       "    }\n",
       "\n",
       "    .dataframe thead th {\n",
       "        text-align: right;\n",
       "    }\n",
       "</style>\n",
       "<table border=\"1\" class=\"dataframe\">\n",
       "  <thead>\n",
       "    <tr style=\"text-align: right;\">\n",
       "      <th></th>\n",
       "      <th>url</th>\n",
       "      <th>title</th>\n",
       "      <th>text</th>\n",
       "      <th>topic</th>\n",
       "      <th>tags</th>\n",
       "      <th>text_prep</th>\n",
       "    </tr>\n",
       "  </thead>\n",
       "  <tbody>\n",
       "    <tr>\n",
       "      <th>0</th>\n",
       "      <td>https://lenta.ru/news/2018/12/15/disneyland/</td>\n",
       "      <td>Обнаружено самое счастливое место на планете</td>\n",
       "      <td>Сотрудники социальной сети Instagram проанализ...</td>\n",
       "      <td>Путешествия</td>\n",
       "      <td>Мир</td>\n",
       "      <td>сотрудники социальной сети instagram проанализ...</td>\n",
       "    </tr>\n",
       "  </tbody>\n",
       "</table>\n",
       "</div>"
      ],
      "text/plain": [
       "                                            url  \\\n",
       "0  https://lenta.ru/news/2018/12/15/disneyland/   \n",
       "\n",
       "                                          title  \\\n",
       "0  Обнаружено самое счастливое место на планете   \n",
       "\n",
       "                                                text        topic tags  \\\n",
       "0  Сотрудники социальной сети Instagram проанализ...  Путешествия  Мир   \n",
       "\n",
       "                                           text_prep  \n",
       "0  сотрудники социальной сети instagram проанализ...  "
      ]
     },
     "execution_count": 27,
     "metadata": {},
     "output_type": "execute_result"
    }
   ],
   "source": [
    "df_res.head(1)"
   ]
  },
  {
   "cell_type": "markdown",
   "metadata": {},
   "source": [
    "### Стемминг"
   ]
  },
  {
   "cell_type": "code",
   "execution_count": 105,
   "metadata": {},
   "outputs": [],
   "source": [
    "from nltk.stem.snowball import SnowballStemmer \n",
    "stemmer = SnowballStemmer(\"russian\") "
   ]
  },
  {
   "cell_type": "code",
   "execution_count": 106,
   "metadata": {},
   "outputs": [],
   "source": [
    "russian_stopwords = stopwords.words(\"russian\")\n",
    "russian_stopwords.extend(['…', '«', '»', '...', 'т.д.', 'т', 'д'])"
   ]
  },
  {
   "cell_type": "code",
   "execution_count": null,
   "metadata": {},
   "outputs": [],
   "source": [
    "text = df_res['text_prep'][0]\n",
    "word_tokenize(text) "
   ]
  },
  {
   "cell_type": "code",
   "execution_count": 109,
   "metadata": {},
   "outputs": [
    {
     "data": {
      "application/vnd.jupyter.widget-view+json": {
       "model_id": "43d8e026b1744a5bb87395cdb3be232e",
       "version_major": 2,
       "version_minor": 0
      },
      "text/plain": [
       "HBox(children=(FloatProgress(value=0.0, max=10000.0), HTML(value='')))"
      ]
     },
     "metadata": {},
     "output_type": "display_data"
    },
    {
     "name": "stdout",
     "output_type": "stream",
     "text": [
      "\n"
     ]
    }
   ],
   "source": [
    "from nltk import word_tokenize\n",
    "\n",
    "stemmed_texts_list = []\n",
    "for text in tqdm(df_res['text_prep']):\n",
    "    tokens = word_tokenize(text)    \n",
    "    stemmed_tokens = [stemmer.stem(token) for token in tokens if token not in russian_stopwords]\n",
    "    text = \" \".join(stemmed_tokens)\n",
    "    stemmed_texts_list.append(text)\n",
    "\n",
    "df_res['text_stem'] = stemmed_texts_list\n"
   ]
  },
  {
   "cell_type": "code",
   "execution_count": 110,
   "metadata": {},
   "outputs": [
    {
     "name": "stderr",
     "output_type": "stream",
     "text": [
      "[nltk_data] Downloading package punkt to\n",
      "[nltk_data]     C:\\Users\\Администратор\\AppData\\Roaming\\nltk_data...\n",
      "[nltk_data]   Package punkt is already up-to-date!\n"
     ]
    },
    {
     "data": {
      "text/plain": [
       "True"
      ]
     },
     "execution_count": 110,
     "metadata": {},
     "output_type": "execute_result"
    }
   ],
   "source": [
    "import nltk\n",
    "nltk.download('punkt')"
   ]
  },
  {
   "cell_type": "code",
   "execution_count": 111,
   "metadata": {},
   "outputs": [],
   "source": [
    "def remove_stop_words(text):\n",
    "    tokens = word_tokenize(text) \n",
    "    tokens = [token for token in tokens if token not in russian_stopwords and token != ' ']\n",
    "    return \" \".join(tokens)"
   ]
  },
  {
   "cell_type": "code",
   "execution_count": 153,
   "metadata": {},
   "outputs": [
    {
     "data": {
      "application/vnd.jupyter.widget-view+json": {
       "model_id": "ffe537c48bff4aef8652283650b13cf8",
       "version_major": 2,
       "version_minor": 0
      },
      "text/plain": [
       "HBox(children=(FloatProgress(value=0.0, max=10000.0), HTML(value='')))"
      ]
     },
     "metadata": {},
     "output_type": "display_data"
    },
    {
     "name": "stdout",
     "output_type": "stream",
     "text": [
      "\n"
     ]
    }
   ],
   "source": [
    "from nltk import word_tokenize\n",
    "\n",
    "sw_texts_list = []\n",
    "for text in tqdm(df_res['text_prep']):\n",
    "    tokens = word_tokenize(text)    \n",
    "    tokens = [token for token in tokens if token not in russian_stopwords and token != ' ']\n",
    "    text = \" \".join(tokens)\n",
    "    sw_texts_list.append(text)\n",
    "\n",
    "df_res['text_sw'] = sw_texts_list"
   ]
  },
  {
   "cell_type": "code",
   "execution_count": 113,
   "metadata": {},
   "outputs": [
    {
     "data": {
      "text/plain": [
       "'названы самые раздражающие фотографии которые уехавшие отпуск люди выкладывают социальные сети сообщает the daily mail соответствующий антирейтинг составлен основе опроса посетителей онлайн сервиса туристов top com интернет пользователи назвали самым раздражающим видом снимков отдыха скриншоты прогноза погоды месте пребывания — процент опрошенных желают видеть такие фото своей новостной ленте соцсети особое недовольство вызывают селфи бесят процента респондентов замыкает тройку лидеров негатива вид фото hot dog legs многие любят фотографировать свои загорелые конечности фоне моря бассейна ноги сосиски соцсетях портят настроение процентам опрошенных самые ненавистные пользователей типы снимков друзей расположились рейтинге top com скриншоты iphone прогнозе погоды курорте отпускные селфи снимки ног фоне моря бассейна называемые hot dog legs фотографии прыжке оптические иллюзии например эйфелева башня ладони фото надписей песке фото тантамаресками снимки закатов фото неба пальм фото напитков еды представитель top com алекс баттл alex buttle отметил составители рейтинга собирались ставить банальные снимки укор интернет пользователям словам баттла компании осознают причиной которой многие пользователи проголосовали те иные виды фото раздражение зависть'"
      ]
     },
     "execution_count": 113,
     "metadata": {},
     "output_type": "execute_result"
    }
   ],
   "source": [
    "df_res['text_sw'][0]"
   ]
  },
  {
   "cell_type": "code",
   "execution_count": 38,
   "metadata": {},
   "outputs": [],
   "source": [
    "df_res.to_csv('lenta_stemmed.csv')"
   ]
  },
  {
   "cell_type": "code",
   "execution_count": 114,
   "metadata": {},
   "outputs": [
    {
     "data": {
      "text/plain": [
       "'назва сам раздража фотограф котор уеха отпуск люд выкладыва социальн сет сообща the daily mail соответств антирейтинг составл основ опрос посетител онлайн сервис турист top com интернет пользовател назва сам раздража вид снимк отдых скриншот прогноз погод мест пребыван — процент опрошен жела видет так фот сво новостн лент соцсет особ недовольств вызыва селф бес процент респондент замыка тройк лидер негатив вид фот hot dog legs мног люб фотографирова сво загорел конечн фон мор бассейн ног сосиск соцсет порт настроен процент опрошен сам ненавистн пользовател тип снимк друз располож рейтинг top com скриншот iphone прогноз погод курорт отпускн селф снимк ног фон мор бассейн называ hot dog legs фотограф прыжк оптическ иллюз например эйфелев башн ладон фот надпис песк фот тантамареск снимк закат фот неб пальм фот напитк ед представител top com алекс баттл alex buttle отмет составител рейтинг собира став банальн снимк укор интернет пользовател слов баттл компан осозна причин котор мног пользовател проголосова те ин вид фот раздражен завист'"
      ]
     },
     "execution_count": 114,
     "metadata": {},
     "output_type": "execute_result"
    }
   ],
   "source": [
    "df_res['text_stem'][0]"
   ]
  },
  {
   "cell_type": "markdown",
   "metadata": {},
   "source": [
    "## Лемматизация"
   ]
  },
  {
   "cell_type": "code",
   "execution_count": 25,
   "metadata": {},
   "outputs": [
    {
     "data": {
      "application/vnd.jupyter.widget-view+json": {
       "model_id": "fb6c864a3e65465b803e612366a5bc57",
       "version_major": 2,
       "version_minor": 0
      },
      "text/plain": [
       "HBox(children=(FloatProgress(value=0.0, max=10000.0), HTML(value='')))"
      ]
     },
     "metadata": {},
     "output_type": "display_data"
    },
    {
     "name": "stdout",
     "output_type": "stream",
     "text": [
      "\n"
     ]
    }
   ],
   "source": [
    "lemm_texts_list = []\n",
    "for text in tqdm(df_res['text_sw']):\n",
    "    #print(text)\n",
    "    try:\n",
    "        text_lem = mystem.lemmatize(text)\n",
    "        tokens = [token for token in text_lem if token != ' ' and token not in russian_stopwords]\n",
    "        text = \" \".join(tokens)\n",
    "        lemm_texts_list.append(text)\n",
    "    except Exception as e:\n",
    "        print(e)\n",
    "    \n",
    "df_res['text_lemm'] = lemm_texts_list"
   ]
  },
  {
   "cell_type": "code",
   "execution_count": 115,
   "metadata": {},
   "outputs": [],
   "source": [
    "def lemmatize_text(text):\n",
    "    text_lem = mystem.lemmatize(text)\n",
    "    tokens = [token for token in text_lem if token != ' ']\n",
    "    return \" \".join(tokens)"
   ]
  },
  {
   "cell_type": "code",
   "execution_count": 26,
   "metadata": {},
   "outputs": [],
   "source": [
    "df_res.to_csv('lemm.csv')"
   ]
  },
  {
   "cell_type": "code",
   "execution_count": 135,
   "metadata": {},
   "outputs": [],
   "source": [
    "df_res = pd.read_csv('lemm.csv', encoding = 'utf-8')"
   ]
  },
  {
   "cell_type": "code",
   "execution_count": 136,
   "metadata": {},
   "outputs": [
    {
     "data": {
      "text/html": [
       "<div>\n",
       "<style scoped>\n",
       "    .dataframe tbody tr th:only-of-type {\n",
       "        vertical-align: middle;\n",
       "    }\n",
       "\n",
       "    .dataframe tbody tr th {\n",
       "        vertical-align: top;\n",
       "    }\n",
       "\n",
       "    .dataframe thead th {\n",
       "        text-align: right;\n",
       "    }\n",
       "</style>\n",
       "<table border=\"1\" class=\"dataframe\">\n",
       "  <thead>\n",
       "    <tr style=\"text-align: right;\">\n",
       "      <th></th>\n",
       "      <th>Unnamed: 0</th>\n",
       "      <th>url</th>\n",
       "      <th>title</th>\n",
       "      <th>text</th>\n",
       "      <th>topic</th>\n",
       "      <th>tags</th>\n",
       "      <th>date</th>\n",
       "      <th>text_prep</th>\n",
       "      <th>text_sw</th>\n",
       "      <th>text_lemm</th>\n",
       "    </tr>\n",
       "  </thead>\n",
       "  <tbody>\n",
       "    <tr>\n",
       "      <th>0</th>\n",
       "      <td>0</td>\n",
       "      <td>https://lenta.ru/news/2014/06/26/annoyingphotos/</td>\n",
       "      <td>Составлен рейтинг самых раздражающих отпускных...</td>\n",
       "      <td>Названы самые раздражающие фотографии, которые...</td>\n",
       "      <td>Путешествия</td>\n",
       "      <td>Мнения</td>\n",
       "      <td>2014/06/26</td>\n",
       "      <td>названы самые раздражающие фотографии которые ...</td>\n",
       "      <td>названы самые раздражающие фотографии которые ...</td>\n",
       "      <td>называть самый раздражающий фотография который...</td>\n",
       "    </tr>\n",
       "    <tr>\n",
       "      <th>1</th>\n",
       "      <td>1</td>\n",
       "      <td>https://lenta.ru/news/2015/01/09/flight/</td>\n",
       "      <td>В Европе появится 10-минутный авиарейс</td>\n",
       "      <td>Австрийская авиакомпания FlyNiki открывает 10-...</td>\n",
       "      <td>Путешествия</td>\n",
       "      <td>Мир</td>\n",
       "      <td>2015/01/09</td>\n",
       "      <td>австрийская авиакомпания flyniki открывает мин...</td>\n",
       "      <td>австрийская авиакомпания flyniki открывает мин...</td>\n",
       "      <td>австрийский авиакомпания flyniki открывать мин...</td>\n",
       "    </tr>\n",
       "    <tr>\n",
       "      <th>2</th>\n",
       "      <td>2</td>\n",
       "      <td>https://lenta.ru/news/2015/01/28/tsipras/</td>\n",
       "      <td>Греческий премьер призвал избавиться от отелей...</td>\n",
       "      <td>Премьер-министр Греции Алексис Ципрас призвал ...</td>\n",
       "      <td>Путешествия</td>\n",
       "      <td>Мир</td>\n",
       "      <td>2015/01/28</td>\n",
       "      <td>премьер министр греции алексис ципрас призвал ...</td>\n",
       "      <td>премьер министр греции алексис ципрас призвал ...</td>\n",
       "      <td>премьер министр греция алексис ципрас призыват...</td>\n",
       "    </tr>\n",
       "    <tr>\n",
       "      <th>3</th>\n",
       "      <td>3</td>\n",
       "      <td>https://lenta.ru/news/2015/02/03/standfly/</td>\n",
       "      <td>Китайская авиакомпания собралась ввести в само...</td>\n",
       "      <td>Китайский лоукостер Spring Airlines собрался п...</td>\n",
       "      <td>Путешествия</td>\n",
       "      <td>Мир</td>\n",
       "      <td>2015/02/03</td>\n",
       "      <td>китайский лоукостер spring airlines собрался п...</td>\n",
       "      <td>китайский лоукостер spring airlines собрался п...</td>\n",
       "      <td>китайский лоукостер spring airlines собираться...</td>\n",
       "    </tr>\n",
       "    <tr>\n",
       "      <th>4</th>\n",
       "      <td>4</td>\n",
       "      <td>https://lenta.ru/news/2015/02/12/tripforvalent...</td>\n",
       "      <td>Россияне отправятся отмечать День святого Вале...</td>\n",
       "      <td>Большинство российских путешественников отметя...</td>\n",
       "      <td>Путешествия</td>\n",
       "      <td>Россия</td>\n",
       "      <td>2015/02/12</td>\n",
       "      <td>большинство российских путешественников отметя...</td>\n",
       "      <td>большинство российских путешественников отметя...</td>\n",
       "      <td>большинство российский путешественник отмечать...</td>\n",
       "    </tr>\n",
       "  </tbody>\n",
       "</table>\n",
       "</div>"
      ],
      "text/plain": [
       "   Unnamed: 0                                                url  \\\n",
       "0           0   https://lenta.ru/news/2014/06/26/annoyingphotos/   \n",
       "1           1           https://lenta.ru/news/2015/01/09/flight/   \n",
       "2           2          https://lenta.ru/news/2015/01/28/tsipras/   \n",
       "3           3         https://lenta.ru/news/2015/02/03/standfly/   \n",
       "4           4  https://lenta.ru/news/2015/02/12/tripforvalent...   \n",
       "\n",
       "                                               title  \\\n",
       "0  Составлен рейтинг самых раздражающих отпускных...   \n",
       "1            В Европе появится 10-минутный авиарейс    \n",
       "2  Греческий премьер призвал избавиться от отелей...   \n",
       "3  Китайская авиакомпания собралась ввести в само...   \n",
       "4  Россияне отправятся отмечать День святого Вале...   \n",
       "\n",
       "                                                text        topic    tags  \\\n",
       "0  Названы самые раздражающие фотографии, которые...  Путешествия  Мнения   \n",
       "1  Австрийская авиакомпания FlyNiki открывает 10-...  Путешествия     Мир   \n",
       "2  Премьер-министр Греции Алексис Ципрас призвал ...  Путешествия     Мир   \n",
       "3  Китайский лоукостер Spring Airlines собрался п...  Путешествия     Мир   \n",
       "4  Большинство российских путешественников отметя...  Путешествия  Россия   \n",
       "\n",
       "         date                                          text_prep  \\\n",
       "0  2014/06/26  названы самые раздражающие фотографии которые ...   \n",
       "1  2015/01/09  австрийская авиакомпания flyniki открывает мин...   \n",
       "2  2015/01/28  премьер министр греции алексис ципрас призвал ...   \n",
       "3  2015/02/03  китайский лоукостер spring airlines собрался п...   \n",
       "4  2015/02/12  большинство российских путешественников отметя...   \n",
       "\n",
       "                                             text_sw  \\\n",
       "0  названы самые раздражающие фотографии которые ...   \n",
       "1  австрийская авиакомпания flyniki открывает мин...   \n",
       "2  премьер министр греции алексис ципрас призвал ...   \n",
       "3  китайский лоукостер spring airlines собрался п...   \n",
       "4  большинство российских путешественников отметя...   \n",
       "\n",
       "                                           text_lemm  \n",
       "0  называть самый раздражающий фотография который...  \n",
       "1  австрийский авиакомпания flyniki открывать мин...  \n",
       "2  премьер министр греция алексис ципрас призыват...  \n",
       "3  китайский лоукостер spring airlines собираться...  \n",
       "4  большинство российский путешественник отмечать...  "
      ]
     },
     "execution_count": 136,
     "metadata": {},
     "output_type": "execute_result"
    }
   ],
   "source": [
    "df_res.head()"
   ]
  },
  {
   "cell_type": "code",
   "execution_count": 121,
   "metadata": {},
   "outputs": [
    {
     "data": {
      "text/plain": [
       "'называть самый раздражающий фотография который уезжать отпуск человек выкладывать социальный сеть сообщать the daily mail соответствующий антирейтинг составлять основа опрос посетитель онлайн сервис турист top com интернет пользователь называть самый раздражающий вид снимок отдых скриншот прогноз погода место пребывание  —  процент опрашивать желать видеть фото свой новостной лента соцсеть особый недовольство вызывать селфи бесить процент респондент замыкать тройка лидер негатив вид фото hot dog legs многие любить фотографировать свой загорелый конечность фон море бассейн нога сосиска соцсеть портить настроение процент опрашивать самый ненавистный пользователь тип снимок друг располагаться рейтинг top com скриншот iphone прогноз погода курорт отпускной селфи снимок нога фон море бассейн называть hot dog legs фотография прыжок оптический иллюзия например эйфелев башня ладонь фото надпись песок фото тантамаресок снимок закат фото небо пальма фото напиток еда представитель top com алекс баттл alex buttle отмечать составитель рейтинг собираться ставить банальный снимок укор интернет пользователь слово баттла компания осознавать причина который многий пользователь проголосовать иной вид фото раздражение зависть \\n'"
      ]
     },
     "execution_count": 121,
     "metadata": {},
     "output_type": "execute_result"
    }
   ],
   "source": [
    "df_res['text_lemm'][0]"
   ]
  },
  {
   "cell_type": "code",
   "execution_count": 154,
   "metadata": {},
   "outputs": [],
   "source": [
    "#X = df_res['text_lemm']\n",
    "X = df_res['text_sw']\n",
    "y = df_res['topic']"
   ]
  },
  {
   "cell_type": "code",
   "execution_count": 152,
   "metadata": {},
   "outputs": [
    {
     "data": {
      "text/plain": [
       "str"
      ]
     },
     "execution_count": 152,
     "metadata": {},
     "output_type": "execute_result"
    }
   ],
   "source": [
    "type(df_res['text_lemm'][0])"
   ]
  },
  {
   "cell_type": "code",
   "execution_count": 155,
   "metadata": {},
   "outputs": [],
   "source": [
    "from sklearn.model_selection import train_test_split\n",
    "X_train, X_test, y_train, y_test = train_test_split(X, y, test_size=0.3, random_state = 42)"
   ]
  },
  {
   "cell_type": "code",
   "execution_count": 156,
   "metadata": {},
   "outputs": [
    {
     "data": {
      "text/plain": [
       "array(['Путешествия', 'Ценности', 'Мир', 'Наука и техника', 'Экономика'],\n",
       "      dtype=object)"
      ]
     },
     "execution_count": 156,
     "metadata": {},
     "output_type": "execute_result"
    }
   ],
   "source": [
    "my_tags = df_res['topic'].unique()\n",
    "my_tags"
   ]
  },
  {
   "cell_type": "code",
   "execution_count": 151,
   "metadata": {},
   "outputs": [
    {
     "data": {
      "text/plain": [
       "str"
      ]
     },
     "execution_count": 151,
     "metadata": {},
     "output_type": "execute_result"
    }
   ],
   "source": [
    "type(X_train[1])\n",
    "df['Review'].values.astype('U')"
   ]
  },
  {
   "cell_type": "markdown",
   "metadata": {},
   "source": [
    "## Naive Bayes Classifier"
   ]
  },
  {
   "cell_type": "code",
   "execution_count": 157,
   "metadata": {},
   "outputs": [],
   "source": [
    "from sklearn.naive_bayes import MultinomialNB\n",
    "from sklearn.pipeline import Pipeline\n",
    "from sklearn.feature_extraction.text import TfidfTransformer\n",
    "from sklearn.feature_extraction.text import CountVectorizer"
   ]
  },
  {
   "cell_type": "code",
   "execution_count": 158,
   "metadata": {},
   "outputs": [],
   "source": [
    "nb = Pipeline([('vect', CountVectorizer()),\n",
    "               ('tfidf', TfidfTransformer()),\n",
    "               ('clf', MultinomialNB()),\n",
    "              ])"
   ]
  },
  {
   "cell_type": "code",
   "execution_count": 159,
   "metadata": {},
   "outputs": [
    {
     "name": "stdout",
     "output_type": "stream",
     "text": [
      "Wall time: 1.74 s\n"
     ]
    },
    {
     "data": {
      "text/plain": [
       "Pipeline(steps=[('vect', CountVectorizer()), ('tfidf', TfidfTransformer()),\n",
       "                ('clf', MultinomialNB())])"
      ]
     },
     "execution_count": 159,
     "metadata": {},
     "output_type": "execute_result"
    }
   ],
   "source": [
    "%%time\n",
    "nb.fit(X_train, y_train)"
   ]
  },
  {
   "cell_type": "code",
   "execution_count": 160,
   "metadata": {},
   "outputs": [
    {
     "name": "stdout",
     "output_type": "stream",
     "text": [
      "Wall time: 617 ms\n"
     ]
    }
   ],
   "source": [
    "%%time\n",
    "from sklearn.metrics import classification_report\n",
    "y_pred = nb.predict(X_test)"
   ]
  },
  {
   "cell_type": "code",
   "execution_count": 163,
   "metadata": {},
   "outputs": [
    {
     "data": {
      "text/plain": [
       "'Путешествия'"
      ]
     },
     "execution_count": 163,
     "metadata": {},
     "output_type": "execute_result"
    }
   ],
   "source": [
    "y_pred[0]"
   ]
  },
  {
   "cell_type": "code",
   "execution_count": 164,
   "metadata": {},
   "outputs": [
    {
     "name": "stdout",
     "output_type": "stream",
     "text": [
      "названы самые раздражающие фотографии которые уехавшие отпуск люди выкладывают социальные сети сообщает the daily mail соответствующий антирейтинг составлен основе опроса посетителей онлайн сервиса туристов top com интернет пользователи назвали самым раздражающим видом снимков отдыха скриншоты прогноза погоды месте пребывания — процент опрошенных желают видеть такие фото своей новостной ленте соцсети особое недовольство вызывают селфи бесят процента респондентов замыкает тройку лидеров негатива вид фото hot dog legs многие любят фотографировать свои загорелые конечности фоне моря бассейна ноги сосиски соцсетях портят настроение процентам опрошенных самые ненавистные пользователей типы снимков друзей расположились рейтинге top com скриншоты iphone прогнозе погоды курорте отпускные селфи снимки ног фоне моря бассейна называемые hot dog legs фотографии прыжке оптические иллюзии например эйфелева башня ладони фото надписей песке фото тантамаресками снимки закатов фото неба пальм фото напитков еды представитель top com алекс баттл alex buttle отметил составители рейтинга собирались ставить банальные снимки укор интернет пользователям словам баттла компании осознают причиной которой многие пользователи проголосовали те иные виды фото раздражение зависть Путешествия Путешествия\n"
     ]
    }
   ],
   "source": [
    "print(X_test[0], y_test[0], y_pred[0])"
   ]
  },
  {
   "cell_type": "code",
   "execution_count": 165,
   "metadata": {},
   "outputs": [
    {
     "name": "stdout",
     "output_type": "stream",
     "text": [
      "accuracy 0.922\n",
      "                 precision    recall  f1-score   support\n",
      "\n",
      "    Путешествия       0.92      0.81      0.86       610\n",
      "       Ценности       0.90      0.91      0.91       584\n",
      "            Мир       0.92      0.98      0.95       626\n",
      "Наука и техника       0.96      0.96      0.96       591\n",
      "      Экономика       0.91      0.96      0.93       589\n",
      "\n",
      "       accuracy                           0.92      3000\n",
      "      macro avg       0.92      0.92      0.92      3000\n",
      "   weighted avg       0.92      0.92      0.92      3000\n",
      "\n"
     ]
    }
   ],
   "source": [
    "from sklearn.metrics import accuracy_score\n",
    "\n",
    "print('accuracy %s' % accuracy_score(y_pred, y_test))\n",
    "print(classification_report(y_test, y_pred, target_names=my_tags))"
   ]
  },
  {
   "cell_type": "markdown",
   "metadata": {},
   "source": [
    "## Linear Support Vector Machine"
   ]
  },
  {
   "cell_type": "code",
   "execution_count": 167,
   "metadata": {},
   "outputs": [],
   "source": [
    "from sklearn.linear_model import SGDClassifier\n",
    "\n",
    "sgd = Pipeline([('vect', CountVectorizer()),\n",
    "                ('tfidf', TfidfTransformer()),\n",
    "                ('clf', SGDClassifier(loss='hinge', penalty='l2',alpha=1e-3, random_state=42, max_iter=5, tol=None)),\n",
    "               ])"
   ]
  },
  {
   "cell_type": "code",
   "execution_count": 168,
   "metadata": {},
   "outputs": [
    {
     "name": "stdout",
     "output_type": "stream",
     "text": [
      "Wall time: 1.9 s\n"
     ]
    },
    {
     "data": {
      "text/plain": [
       "Pipeline(steps=[('vect', CountVectorizer()), ('tfidf', TfidfTransformer()),\n",
       "                ('clf',\n",
       "                 SGDClassifier(alpha=0.001, max_iter=5, random_state=42,\n",
       "                               tol=None))])"
      ]
     },
     "execution_count": 168,
     "metadata": {},
     "output_type": "execute_result"
    }
   ],
   "source": [
    "%%time\n",
    "sgd.fit(X_train, y_train)"
   ]
  },
  {
   "cell_type": "code",
   "execution_count": 169,
   "metadata": {},
   "outputs": [
    {
     "name": "stdout",
     "output_type": "stream",
     "text": [
      "Wall time: 539 ms\n"
     ]
    }
   ],
   "source": [
    "%%time\n",
    "y_pred = sgd.predict(X_test)"
   ]
  },
  {
   "cell_type": "code",
   "execution_count": 170,
   "metadata": {},
   "outputs": [
    {
     "name": "stdout",
     "output_type": "stream",
     "text": [
      "accuracy 0.92\n",
      "                 precision    recall  f1-score   support\n",
      "\n",
      "    Путешествия       0.92      0.81      0.86       610\n",
      "       Ценности       0.90      0.92      0.91       584\n",
      "            Мир       0.94      0.96      0.95       626\n",
      "Наука и техника       0.93      0.97      0.95       591\n",
      "      Экономика       0.91      0.94      0.92       589\n",
      "\n",
      "       accuracy                           0.92      3000\n",
      "      macro avg       0.92      0.92      0.92      3000\n",
      "   weighted avg       0.92      0.92      0.92      3000\n",
      "\n"
     ]
    }
   ],
   "source": [
    "print('accuracy %s' % accuracy_score(y_pred, y_test))\n",
    "print(classification_report(y_test, y_pred,target_names=my_tags))"
   ]
  },
  {
   "cell_type": "markdown",
   "metadata": {},
   "source": [
    "### Logistic Regression"
   ]
  },
  {
   "cell_type": "code",
   "execution_count": 171,
   "metadata": {},
   "outputs": [],
   "source": [
    "from sklearn.linear_model import LogisticRegression\n",
    "\n",
    "logreg = Pipeline([('vect', CountVectorizer()),\n",
    "                ('tfidf', TfidfTransformer()),\n",
    "                ('clf', LogisticRegression(n_jobs=1, C=1e5)),\n",
    "               ])"
   ]
  },
  {
   "cell_type": "code",
   "execution_count": 172,
   "metadata": {},
   "outputs": [
    {
     "name": "stdout",
     "output_type": "stream",
     "text": [
      "Wall time: 13 s\n"
     ]
    },
    {
     "name": "stderr",
     "output_type": "stream",
     "text": [
      "C:\\ProgramData\\Anaconda3\\lib\\site-packages\\sklearn\\linear_model\\_logistic.py:762: ConvergenceWarning: lbfgs failed to converge (status=1):\n",
      "STOP: TOTAL NO. of ITERATIONS REACHED LIMIT.\n",
      "\n",
      "Increase the number of iterations (max_iter) or scale the data as shown in:\n",
      "    https://scikit-learn.org/stable/modules/preprocessing.html\n",
      "Please also refer to the documentation for alternative solver options:\n",
      "    https://scikit-learn.org/stable/modules/linear_model.html#logistic-regression\n",
      "  n_iter_i = _check_optimize_result(\n"
     ]
    },
    {
     "data": {
      "text/plain": [
       "Pipeline(steps=[('vect', CountVectorizer()), ('tfidf', TfidfTransformer()),\n",
       "                ('clf', LogisticRegression(C=100000.0, n_jobs=1))])"
      ]
     },
     "execution_count": 172,
     "metadata": {},
     "output_type": "execute_result"
    }
   ],
   "source": [
    "%%time\n",
    "logreg.fit(X_train, y_train)"
   ]
  },
  {
   "cell_type": "code",
   "execution_count": 173,
   "metadata": {},
   "outputs": [
    {
     "name": "stdout",
     "output_type": "stream",
     "text": [
      "Wall time: 591 ms\n"
     ]
    }
   ],
   "source": [
    "%%time\n",
    "y_pred = logreg.predict(X_test)"
   ]
  },
  {
   "cell_type": "code",
   "execution_count": 174,
   "metadata": {},
   "outputs": [
    {
     "name": "stdout",
     "output_type": "stream",
     "text": [
      "accuracy 0.9423333333333334\n",
      "                 precision    recall  f1-score   support\n",
      "\n",
      "    Путешествия       0.92      0.88      0.90       610\n",
      "       Ценности       0.91      0.94      0.92       584\n",
      "            Мир       0.97      0.98      0.97       626\n",
      "Наука и техника       0.97      0.98      0.98       591\n",
      "      Экономика       0.94      0.94      0.94       589\n",
      "\n",
      "       accuracy                           0.94      3000\n",
      "      macro avg       0.94      0.94      0.94      3000\n",
      "   weighted avg       0.94      0.94      0.94      3000\n",
      "\n"
     ]
    }
   ],
   "source": [
    "print('accuracy %s' % accuracy_score(y_pred, y_test))\n",
    "print(classification_report(y_test, y_pred,target_names=my_tags))"
   ]
  },
  {
   "cell_type": "markdown",
   "metadata": {},
   "source": [
    "### Проверка на примерах новостей с сайта"
   ]
  },
  {
   "cell_type": "code",
   "execution_count": 175,
   "metadata": {},
   "outputs": [],
   "source": [
    "econ_text = '''\n",
    "Доллар США считается символом надежности, безопасности и экономического процветания. \n",
    "Он занимает неоспоримое доминирующее положение в международной финансовой системе с середины XX века и производит \n",
    "впечатление непобедимого титана. Однако эра господства доллара как основной мировой резервной валюты медленно \n",
    "подходит к концу. Крупнейшие банки предрекают ему резкий спад уже в следующем году, а известный экономист \n",
    "Стивен Роуч уверен, что американская валюта может обесцениться на треть. \n",
    "Причинами обвала станут сокращение сбережений населения, рост государственного долга США и усиление Китая. \n",
    "Закат долларового диктата — в материале «Ленты.ру».\n",
    "Непомерные привилегии\n",
    "\n",
    "Успех американской экономики в XX веке был во многом обусловлен доминирующей ролью доллара. В свою очередь достижение этой роли стало результатом политического и военного превосходства, которое США приобрели после Первой мировой войны. До сих пор позиция доллара в мире финансов представляет собой главную основу процветания США. Однако в 2002 году наметилась долгосрочная тенденция к ослаблению американской валюты, которая наблюдается и по сей день.\n",
    "\n",
    "Действительно, последнее время доллар чувствует себя не очень хорошо. В частности, июль оказался очень сложным месяцем для американской валюты, которая обновила многомесячные, а в некоторых случаях и многолетние минимумы. Всего за месяц доллар подешевел на шесть процентов против фунта, на пять — по отношению к евро, на четыре — против швейцарского франка и австралийского доллара. Вдобавок валютные аналитики вполне допускают, что июль может оказаться для доллара худшим месяцем с точки зрения месячной динамики за последние десять лет.\n",
    "\n",
    "'''"
   ]
  },
  {
   "cell_type": "code",
   "execution_count": 176,
   "metadata": {},
   "outputs": [],
   "source": [
    "econ_text = remove_multiple_spaces(remove_numbers(remove_punctuation(econ_text.lower())))\n",
    "econ_text = remove_stop_words(econ_text)"
   ]
  },
  {
   "cell_type": "code",
   "execution_count": 60,
   "metadata": {},
   "outputs": [
    {
     "name": "stdout",
     "output_type": "stream",
     "text": [
      "Wall time: 1.2 s\n"
     ]
    }
   ],
   "source": [
    "%%time\n",
    "econ_text = lemmatize_text(econ_text)"
   ]
  },
  {
   "cell_type": "code",
   "execution_count": 61,
   "metadata": {},
   "outputs": [
    {
     "data": {
      "text/plain": [
       "'доллар сша считаться символ надежность безопасность экономический процветание занимать неоспоримый доминировать положение международный финансовый система середина xx век производить впечатление непобедимый титан однако эра господство доллар основной мировой резервный валюта медленно подходить конец крупный банк предрекать резкий спад следующий год известный экономист стивен роуч уверенный американский валюта обесцениваться треть причина обвал становиться сокращение сбережение население рост государственный долг сша усиление китай закат долларовый диктат  —  материал лента ру непомерный привилегия успех американский экономика xx век многое обусловливать доминирующий роль доллар очередь достижение роль становиться результат политический военный превосходство который сша приобретать первый мировой война сей пора позиция доллар мир финансы представлять главный основа процветание сша однако год намечаться долгосрочный тенденция ослабление американский валюта который наблюдаться сей день действительно последний время доллар чувствовать очень частность июль оказываться очень сложный месяц американский валюта который обновлять многомесячный некоторый случай многолетний минимум месяц доллар подешеветь шесть процент против фунт пять  —  отношение евро четыре  —  против швейцарский франк австралийский доллар вдобавок валютный аналитик вполне допускать июль оказываться доллар плохой месяц точка зрение месячный динамика последний десять год \\n'"
      ]
     },
     "execution_count": 61,
     "metadata": {},
     "output_type": "execute_result"
    }
   ],
   "source": [
    "econ_text"
   ]
  },
  {
   "cell_type": "code",
   "execution_count": 178,
   "metadata": {},
   "outputs": [
    {
     "data": {
      "text/plain": [
       "array(['Экономика'], dtype=object)"
      ]
     },
     "execution_count": 178,
     "metadata": {},
     "output_type": "execute_result"
    }
   ],
   "source": [
    "ect_pred = logreg.predict([econ_text])\n",
    "ect_pred"
   ]
  },
  {
   "cell_type": "code",
   "execution_count": 179,
   "metadata": {},
   "outputs": [],
   "source": [
    "tech_text = '''\n",
    "Ученые Университета Аризоны в США открыли неизвестный принцип эволюции, согласно которому естественный отбор не может благоприятствовать сразу нескольким полезным мутациям, повышающим приспособленность организма к окружающей среде. Вместо этого он фокусируется только на том, что достаточно для выживания существа, и игнорирует другие возможности для улучшения. Об этом сообщается в статье в журнале Proceedings of the National Academy of Sciences.\n",
    "Исследователи спровоцировали несколько мутаций, которые «ломали» механизм трансляции у шести различных штаммов бактерии кишечной палочки Escherichia coli. Трансляция — это процесс, при котором заложенная в генах информация о нуклеотидной последовательности белков переносится к рибосомам и участвует в белковом синтезе. Известно, что более чем за 3,5 миллиарда лет эволюции механизм трансляции не претерпел существенных изменений.\n",
    "Ряд нефатальных мутаций, затрагивающих функционирование трансляционного процесса, должен с течением времени быть исправлен эволюцией. Для этого ученые заставили штаммы бактерий с различными изменениями конкурировать друг с другом, благодаря чему осуществлялся естественный отбор. Со временем внутри популяции накапливались полезные мутации, которые могли быть сохранены и использованы для улучшения трансляции.'''"
   ]
  },
  {
   "cell_type": "code",
   "execution_count": 180,
   "metadata": {},
   "outputs": [],
   "source": [
    "tech_text = remove_multiple_spaces(remove_numbers(remove_punctuation(tech_text.lower())))\n",
    "tech_text = remove_stop_words(tech_text)\n",
    "#tech_text = lemmatize_text(tech_text)"
   ]
  },
  {
   "cell_type": "code",
   "execution_count": 181,
   "metadata": {},
   "outputs": [
    {
     "data": {
      "text/plain": [
       "array(['Наука и техника'], dtype=object)"
      ]
     },
     "execution_count": 181,
     "metadata": {},
     "output_type": "execute_result"
    }
   ],
   "source": [
    "tech_pred = logreg.predict([tech_text])\n",
    "tech_pred"
   ]
  },
  {
   "cell_type": "code",
   "execution_count": 182,
   "metadata": {},
   "outputs": [],
   "source": [
    "travel_text = '''\n",
    "Российские туристы с 1 августа могут беспрепятственно въезжать в Абхазию, а граждане этой страны — в Россию, соответствующее распоряжение об открытии границ между странами подписал премьер-министр России Михаил Мишустин.\n",
    "Границу уже свободно пересекают пешеходы и транспорт, все введенные ранее на фоне пандемии коронавируса ограничения сняты.\n",
    "При этом о своем намерении российские власти сообщили еще в пятницу, 31 июля — решение было принято по итогам заседания оперативного штаба по борьбе с распространением инфекции на основании заключений Роспотребнадзора и Минздрава России по оценке санитарно-эпидемиологической обстановки в стране, а также определения готовности объектов абхазской инфраструктуры к приему туристов.\n",
    "'''"
   ]
  },
  {
   "cell_type": "code",
   "execution_count": 183,
   "metadata": {},
   "outputs": [],
   "source": [
    "travel_text = remove_multiple_spaces(remove_numbers(remove_punctuation(travel_text.lower())))\n",
    "travel_text = remove_stop_words(travel_text)\n",
    "#travel_text = lemmatize_text(travel_text)"
   ]
  },
  {
   "cell_type": "code",
   "execution_count": 184,
   "metadata": {},
   "outputs": [
    {
     "data": {
      "text/plain": [
       "array(['Путешествия'], dtype=object)"
      ]
     },
     "execution_count": 184,
     "metadata": {},
     "output_type": "execute_result"
    }
   ],
   "source": [
    "pred = logreg.predict([travel_text])\n",
    "pred"
   ]
  }
 ],
 "metadata": {
  "kernelspec": {
   "display_name": "Python 3",
   "language": "python",
   "name": "python3"
  },
  "language_info": {
   "codemirror_mode": {
    "name": "ipython",
    "version": 3
   },
   "file_extension": ".py",
   "mimetype": "text/x-python",
   "name": "python",
   "nbconvert_exporter": "python",
   "pygments_lexer": "ipython3",
   "version": "3.7.6"
  }
 },
 "nbformat": 4,
 "nbformat_minor": 4
}
