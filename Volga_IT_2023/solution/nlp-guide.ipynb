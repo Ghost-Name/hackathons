{
 "cells": [
  {
   "cell_type": "markdown",
   "id": "5c91af89",
   "metadata": {},
   "source": [
    "Эти данные были успешно выгружены в Pandas DataFrame следующим образом:"
   ]
  },
  {
   "cell_type": "code",
   "execution_count": null,
   "id": "191fcfd0",
   "metadata": {},
   "outputs": [],
   "source": [
    "!pip install pandas"
   ]
  },
  {
   "cell_type": "code",
   "execution_count": 25,
   "id": "adf40de0",
   "metadata": {
    "scrolled": true
   },
   "outputs": [
    {
     "name": "stdout",
     "output_type": "stream",
     "text": [
      "Requirement already satisfied: numpy in c:\\exercise-1\\nlp\\lib\\site-packages (1.26.1)\n"
     ]
    },
    {
     "name": "stderr",
     "output_type": "stream",
     "text": [
      "WARNING: There was an error checking the latest version of pip.\n"
     ]
    }
   ],
   "source": [
    "!pip install numpy"
   ]
  },
  {
   "cell_type": "code",
   "execution_count": 29,
   "id": "0e38470f",
   "metadata": {},
   "outputs": [
    {
     "name": "stdout",
     "output_type": "stream",
     "text": [
      "Requirement already satisfied: openpyxl in c:\\exercise-1\\nlp\\lib\\site-packages (3.1.2)\n",
      "Requirement already satisfied: et-xmlfile in c:\\exercise-1\\nlp\\lib\\site-packages (from openpyxl) (1.1.0)\n"
     ]
    },
    {
     "name": "stderr",
     "output_type": "stream",
     "text": [
      "WARNING: There was an error checking the latest version of pip.\n"
     ]
    }
   ],
   "source": [
    "!pip install openpyxl"
   ]
  },
  {
   "cell_type": "raw",
   "id": "fac5398f",
   "metadata": {},
   "source": [
    "pd.read_excel(io='L.xlsx', engine='openpyxl')"
   ]
  },
  {
   "cell_type": "code",
   "execution_count": 222,
   "id": "a99a52f9",
   "metadata": {},
   "outputs": [],
   "source": [
    "import numpy as np\n",
    "import pandas as pd"
   ]
  },
  {
   "cell_type": "code",
   "execution_count": 223,
   "id": "ba2c4b5e",
   "metadata": {},
   "outputs": [
    {
     "data": {
      "text/html": [
       "<div>\n",
       "<style scoped>\n",
       "    .dataframe tbody tr th:only-of-type {\n",
       "        vertical-align: middle;\n",
       "    }\n",
       "\n",
       "    .dataframe tbody tr th {\n",
       "        vertical-align: top;\n",
       "    }\n",
       "\n",
       "    .dataframe thead th {\n",
       "        text-align: right;\n",
       "    }\n",
       "</style>\n",
       "<table border=\"1\" class=\"dataframe\">\n",
       "  <thead>\n",
       "    <tr style=\"text-align: right;\">\n",
       "      <th></th>\n",
       "      <th>Number</th>\n",
       "      <th>Date</th>\n",
       "      <th>UID</th>\n",
       "      <th>Desc</th>\n",
       "      <th>Group</th>\n",
       "      <th>Cat</th>\n",
       "    </tr>\n",
       "  </thead>\n",
       "  <tbody>\n",
       "    <tr>\n",
       "      <th>0</th>\n",
       "      <td>1060141</td>\n",
       "      <td>2021-03-12 11:33:00</td>\n",
       "      <td>7b5dc3bb-1dcb-4954-9f3c-c5dc9c7d45d2</td>\n",
       "      <td>Не горит лампа в коридоре</td>\n",
       "      <td>Управление домом</td>\n",
       "      <td>Разбитые стекла, сорванные створки оконных пер...</td>\n",
       "    </tr>\n",
       "    <tr>\n",
       "      <th>1</th>\n",
       "      <td>1112641</td>\n",
       "      <td>2021-05-27 14:16:00</td>\n",
       "      <td>8361aa95-b693-444e-a212-8e1da60e8fde</td>\n",
       "      <td>кривой дорожный знак</td>\n",
       "      <td>Дороги</td>\n",
       "      <td>Общие вопросы</td>\n",
       "    </tr>\n",
       "    <tr>\n",
       "      <th>2</th>\n",
       "      <td>1112656</td>\n",
       "      <td>2021-05-31 12:07:00</td>\n",
       "      <td>7ac9fbb2-f72f-471d-9a10-ff191b9be927</td>\n",
       "      <td>Провал колодца на пешеходной дороге</td>\n",
       "      <td>Канализация</td>\n",
       "      <td>Общие вопросы</td>\n",
       "    </tr>\n",
       "    <tr>\n",
       "      <th>3</th>\n",
       "      <td>1112657</td>\n",
       "      <td>2021-05-31 12:12:00</td>\n",
       "      <td>3777d635-b4da-4897-9b89-2ba1aa44d891</td>\n",
       "      <td>Низкие температурные параметры ГВС</td>\n",
       "      <td>ГВС</td>\n",
       "      <td>Общие вопросы</td>\n",
       "    </tr>\n",
       "    <tr>\n",
       "      <th>4</th>\n",
       "      <td>1112668</td>\n",
       "      <td>2021-06-01 11:17:00</td>\n",
       "      <td>badc0911-6201-4a4e-963e-a63a6a3d408c</td>\n",
       "      <td>запах канализации</td>\n",
       "      <td>Канализация</td>\n",
       "      <td>Общие вопросы</td>\n",
       "    </tr>\n",
       "    <tr>\n",
       "      <th>5</th>\n",
       "      <td>1112669</td>\n",
       "      <td>2021-06-01 13:44:00</td>\n",
       "      <td>b199c38d-e687-4726-b225-ff525f492a70</td>\n",
       "      <td>отсутствует ХВС</td>\n",
       "      <td>ГВС</td>\n",
       "      <td>Порыв трубы ГВС</td>\n",
       "    </tr>\n",
       "    <tr>\n",
       "      <th>6</th>\n",
       "      <td>1112671</td>\n",
       "      <td>2021-06-01 15:05:00</td>\n",
       "      <td>7da73c62-ce80-47b7-96e9-c1994cb12e13</td>\n",
       "      <td>Отремонтировать тротуары вдоль Ленкома и очист...</td>\n",
       "      <td>Дороги</td>\n",
       "      <td>Общие вопросы</td>\n",
       "    </tr>\n",
       "    <tr>\n",
       "      <th>7</th>\n",
       "      <td>1112672</td>\n",
       "      <td>2021-06-01 15:10:00</td>\n",
       "      <td>9c4670e0-86f1-41fe-a366-7f0162adcd30</td>\n",
       "      <td>Обрыв кабеля</td>\n",
       "      <td>Электроэнергия</td>\n",
       "      <td>Общие вопросы</td>\n",
       "    </tr>\n",
       "    <tr>\n",
       "      <th>8</th>\n",
       "      <td>1112682</td>\n",
       "      <td>2021-06-02 11:07:00</td>\n",
       "      <td>5670c605-834d-4b32-b917-163d4b6408ed</td>\n",
       "      <td>отсутствует газ в кв 3</td>\n",
       "      <td>Газоснабжение</td>\n",
       "      <td>Общие вопросы</td>\n",
       "    </tr>\n",
       "    <tr>\n",
       "      <th>9</th>\n",
       "      <td>1112683</td>\n",
       "      <td>2021-06-02 11:23:00</td>\n",
       "      <td>d900f8c0-30e9-4915-a80c-fcc7b5289501</td>\n",
       "      <td>Низкие параметры</td>\n",
       "      <td>Управление домом</td>\n",
       "      <td>Общие вопросы</td>\n",
       "    </tr>\n",
       "  </tbody>\n",
       "</table>\n",
       "</div>"
      ],
      "text/plain": [
       "    Number                Date                                   UID  \\\n",
       "0  1060141 2021-03-12 11:33:00  7b5dc3bb-1dcb-4954-9f3c-c5dc9c7d45d2   \n",
       "1  1112641 2021-05-27 14:16:00  8361aa95-b693-444e-a212-8e1da60e8fde   \n",
       "2  1112656 2021-05-31 12:07:00  7ac9fbb2-f72f-471d-9a10-ff191b9be927   \n",
       "3  1112657 2021-05-31 12:12:00  3777d635-b4da-4897-9b89-2ba1aa44d891   \n",
       "4  1112668 2021-06-01 11:17:00  badc0911-6201-4a4e-963e-a63a6a3d408c   \n",
       "5  1112669 2021-06-01 13:44:00  b199c38d-e687-4726-b225-ff525f492a70   \n",
       "6  1112671 2021-06-01 15:05:00  7da73c62-ce80-47b7-96e9-c1994cb12e13   \n",
       "7  1112672 2021-06-01 15:10:00  9c4670e0-86f1-41fe-a366-7f0162adcd30   \n",
       "8  1112682 2021-06-02 11:07:00  5670c605-834d-4b32-b917-163d4b6408ed   \n",
       "9  1112683 2021-06-02 11:23:00  d900f8c0-30e9-4915-a80c-fcc7b5289501   \n",
       "\n",
       "                                                Desc             Group  \\\n",
       "0                          Не горит лампа в коридоре  Управление домом   \n",
       "1                               кривой дорожный знак            Дороги   \n",
       "2                Провал колодца на пешеходной дороге       Канализация   \n",
       "3                 Низкие температурные параметры ГВС               ГВС   \n",
       "4                                  запах канализации       Канализация   \n",
       "5                                    отсутствует ХВС               ГВС   \n",
       "6  Отремонтировать тротуары вдоль Ленкома и очист...            Дороги   \n",
       "7                                       Обрыв кабеля    Электроэнергия   \n",
       "8                             отсутствует газ в кв 3     Газоснабжение   \n",
       "9                                   Низкие параметры  Управление домом   \n",
       "\n",
       "                                                 Cat  \n",
       "0  Разбитые стекла, сорванные створки оконных пер...  \n",
       "1                                      Общие вопросы  \n",
       "2                                      Общие вопросы  \n",
       "3                                      Общие вопросы  \n",
       "4                                      Общие вопросы  \n",
       "5                                    Порыв трубы ГВС  \n",
       "6                                      Общие вопросы  \n",
       "7                                      Общие вопросы  \n",
       "8                                      Общие вопросы  \n",
       "9                                      Общие вопросы  "
      ]
     },
     "execution_count": 223,
     "metadata": {},
     "output_type": "execute_result"
    }
   ],
   "source": [
    "import pandas as pd\n",
    "import numpy as np\n",
    "\n",
    "\n",
    "df = pd.read_excel(io='L.xlsx', engine='openpyxl')\n",
    "df.head(10)"
   ]
  },
  {
   "cell_type": "markdown",
   "id": "d8fd568a",
   "metadata": {},
   "source": [
    "Предварительная обработка данных"
   ]
  },
  {
   "cell_type": "code",
   "execution_count": null,
   "id": "d958e808",
   "metadata": {},
   "outputs": [],
   "source": [
    "!pip install pymorphy2"
   ]
  },
  {
   "cell_type": "code",
   "execution_count": 224,
   "id": "d22a8d9a",
   "metadata": {},
   "outputs": [
    {
     "ename": "AttributeError",
     "evalue": "'float' object has no attribute 'replace'",
     "output_type": "error",
     "traceback": [
      "\u001b[1;31m---------------------------------------------------------------------------\u001b[0m",
      "\u001b[1;31mAttributeError\u001b[0m                            Traceback (most recent call last)",
      "Cell \u001b[1;32mIn[224], line 17\u001b[0m\n\u001b[0;32m     13\u001b[0m     text \u001b[38;5;241m=\u001b[39m text\u001b[38;5;241m.\u001b[39mencode(\u001b[38;5;124m\"\u001b[39m\u001b[38;5;124mutf-8\u001b[39m\u001b[38;5;124m\"\u001b[39m)\n\u001b[0;32m     15\u001b[0m     \u001b[38;5;28;01mreturn\u001b[39;00m text\n\u001b[1;32m---> 17\u001b[0m df[\u001b[38;5;124m'\u001b[39m\u001b[38;5;124mDescription\u001b[39m\u001b[38;5;124m'\u001b[39m] \u001b[38;5;241m=\u001b[39m \u001b[43mdf\u001b[49m\u001b[38;5;241;43m.\u001b[39;49m\u001b[43mapply\u001b[49m\u001b[43m(\u001b[49m\u001b[38;5;28;43;01mlambda\u001b[39;49;00m\u001b[43m \u001b[49m\u001b[43mx\u001b[49m\u001b[43m:\u001b[49m\u001b[43m \u001b[49m\u001b[43mclean_text\u001b[49m\u001b[43m(\u001b[49m\u001b[43mx\u001b[49m\u001b[43m[\u001b[49m\u001b[38;5;124;43mu\u001b[39;49m\u001b[38;5;124;43m'\u001b[39;49m\u001b[38;5;124;43mDesc\u001b[39;49m\u001b[38;5;124;43m'\u001b[39;49m\u001b[43m]\u001b[49m\u001b[43m)\u001b[49m\u001b[43m,\u001b[49m\u001b[43m \u001b[49m\u001b[43maxis\u001b[49m\u001b[38;5;241;43m=\u001b[39;49m\u001b[38;5;241;43m1\u001b[39;49m\u001b[43m)\u001b[49m\n\u001b[0;32m     18\u001b[0m \u001b[38;5;28mprint\u001b[39m(\u001b[38;5;124m\"\u001b[39m\u001b[38;5;124mГотово\u001b[39m\u001b[38;5;124m\"\u001b[39m)\n",
      "File \u001b[1;32mC:\\exercise-1\\nlp\\lib\\site-packages\\pandas\\core\\frame.py:10037\u001b[0m, in \u001b[0;36mDataFrame.apply\u001b[1;34m(self, func, axis, raw, result_type, args, by_row, **kwargs)\u001b[0m\n\u001b[0;32m  10025\u001b[0m \u001b[38;5;28;01mfrom\u001b[39;00m \u001b[38;5;21;01mpandas\u001b[39;00m\u001b[38;5;21;01m.\u001b[39;00m\u001b[38;5;21;01mcore\u001b[39;00m\u001b[38;5;21;01m.\u001b[39;00m\u001b[38;5;21;01mapply\u001b[39;00m \u001b[38;5;28;01mimport\u001b[39;00m frame_apply\n\u001b[0;32m  10027\u001b[0m op \u001b[38;5;241m=\u001b[39m frame_apply(\n\u001b[0;32m  10028\u001b[0m     \u001b[38;5;28mself\u001b[39m,\n\u001b[0;32m  10029\u001b[0m     func\u001b[38;5;241m=\u001b[39mfunc,\n\u001b[1;32m   (...)\u001b[0m\n\u001b[0;32m  10035\u001b[0m     kwargs\u001b[38;5;241m=\u001b[39mkwargs,\n\u001b[0;32m  10036\u001b[0m )\n\u001b[1;32m> 10037\u001b[0m \u001b[38;5;28;01mreturn\u001b[39;00m \u001b[43mop\u001b[49m\u001b[38;5;241;43m.\u001b[39;49m\u001b[43mapply\u001b[49m\u001b[43m(\u001b[49m\u001b[43m)\u001b[49m\u001b[38;5;241m.\u001b[39m__finalize__(\u001b[38;5;28mself\u001b[39m, method\u001b[38;5;241m=\u001b[39m\u001b[38;5;124m\"\u001b[39m\u001b[38;5;124mapply\u001b[39m\u001b[38;5;124m\"\u001b[39m)\n",
      "File \u001b[1;32mC:\\exercise-1\\nlp\\lib\\site-packages\\pandas\\core\\apply.py:837\u001b[0m, in \u001b[0;36mFrameApply.apply\u001b[1;34m(self)\u001b[0m\n\u001b[0;32m    834\u001b[0m \u001b[38;5;28;01melif\u001b[39;00m \u001b[38;5;28mself\u001b[39m\u001b[38;5;241m.\u001b[39mraw:\n\u001b[0;32m    835\u001b[0m     \u001b[38;5;28;01mreturn\u001b[39;00m \u001b[38;5;28mself\u001b[39m\u001b[38;5;241m.\u001b[39mapply_raw()\n\u001b[1;32m--> 837\u001b[0m \u001b[38;5;28;01mreturn\u001b[39;00m \u001b[38;5;28;43mself\u001b[39;49m\u001b[38;5;241;43m.\u001b[39;49m\u001b[43mapply_standard\u001b[49m\u001b[43m(\u001b[49m\u001b[43m)\u001b[49m\n",
      "File \u001b[1;32mC:\\exercise-1\\nlp\\lib\\site-packages\\pandas\\core\\apply.py:963\u001b[0m, in \u001b[0;36mFrameApply.apply_standard\u001b[1;34m(self)\u001b[0m\n\u001b[0;32m    962\u001b[0m \u001b[38;5;28;01mdef\u001b[39;00m \u001b[38;5;21mapply_standard\u001b[39m(\u001b[38;5;28mself\u001b[39m):\n\u001b[1;32m--> 963\u001b[0m     results, res_index \u001b[38;5;241m=\u001b[39m \u001b[38;5;28;43mself\u001b[39;49m\u001b[38;5;241;43m.\u001b[39;49m\u001b[43mapply_series_generator\u001b[49m\u001b[43m(\u001b[49m\u001b[43m)\u001b[49m\n\u001b[0;32m    965\u001b[0m     \u001b[38;5;66;03m# wrap results\u001b[39;00m\n\u001b[0;32m    966\u001b[0m     \u001b[38;5;28;01mreturn\u001b[39;00m \u001b[38;5;28mself\u001b[39m\u001b[38;5;241m.\u001b[39mwrap_results(results, res_index)\n",
      "File \u001b[1;32mC:\\exercise-1\\nlp\\lib\\site-packages\\pandas\\core\\apply.py:979\u001b[0m, in \u001b[0;36mFrameApply.apply_series_generator\u001b[1;34m(self)\u001b[0m\n\u001b[0;32m    976\u001b[0m \u001b[38;5;28;01mwith\u001b[39;00m option_context(\u001b[38;5;124m\"\u001b[39m\u001b[38;5;124mmode.chained_assignment\u001b[39m\u001b[38;5;124m\"\u001b[39m, \u001b[38;5;28;01mNone\u001b[39;00m):\n\u001b[0;32m    977\u001b[0m     \u001b[38;5;28;01mfor\u001b[39;00m i, v \u001b[38;5;129;01min\u001b[39;00m \u001b[38;5;28menumerate\u001b[39m(series_gen):\n\u001b[0;32m    978\u001b[0m         \u001b[38;5;66;03m# ignore SettingWithCopy here in case the user mutates\u001b[39;00m\n\u001b[1;32m--> 979\u001b[0m         results[i] \u001b[38;5;241m=\u001b[39m \u001b[38;5;28mself\u001b[39m\u001b[38;5;241m.\u001b[39mfunc(v, \u001b[38;5;241m*\u001b[39m\u001b[38;5;28mself\u001b[39m\u001b[38;5;241m.\u001b[39margs, \u001b[38;5;241m*\u001b[39m\u001b[38;5;241m*\u001b[39m\u001b[38;5;28mself\u001b[39m\u001b[38;5;241m.\u001b[39mkwargs)\n\u001b[0;32m    980\u001b[0m         \u001b[38;5;28;01mif\u001b[39;00m \u001b[38;5;28misinstance\u001b[39m(results[i], ABCSeries):\n\u001b[0;32m    981\u001b[0m             \u001b[38;5;66;03m# If we have a view on v, we need to make a copy because\u001b[39;00m\n\u001b[0;32m    982\u001b[0m             \u001b[38;5;66;03m#  series_generator will swap out the underlying data\u001b[39;00m\n\u001b[0;32m    983\u001b[0m             results[i] \u001b[38;5;241m=\u001b[39m results[i]\u001b[38;5;241m.\u001b[39mcopy(deep\u001b[38;5;241m=\u001b[39m\u001b[38;5;28;01mFalse\u001b[39;00m)\n",
      "Cell \u001b[1;32mIn[224], line 17\u001b[0m, in \u001b[0;36m<lambda>\u001b[1;34m(x)\u001b[0m\n\u001b[0;32m     13\u001b[0m     text \u001b[38;5;241m=\u001b[39m text\u001b[38;5;241m.\u001b[39mencode(\u001b[38;5;124m\"\u001b[39m\u001b[38;5;124mutf-8\u001b[39m\u001b[38;5;124m\"\u001b[39m)\n\u001b[0;32m     15\u001b[0m     \u001b[38;5;28;01mreturn\u001b[39;00m text\n\u001b[1;32m---> 17\u001b[0m df[\u001b[38;5;124m'\u001b[39m\u001b[38;5;124mDescription\u001b[39m\u001b[38;5;124m'\u001b[39m] \u001b[38;5;241m=\u001b[39m df\u001b[38;5;241m.\u001b[39mapply(\u001b[38;5;28;01mlambda\u001b[39;00m x: \u001b[43mclean_text\u001b[49m\u001b[43m(\u001b[49m\u001b[43mx\u001b[49m\u001b[43m[\u001b[49m\u001b[38;5;124;43mu\u001b[39;49m\u001b[38;5;124;43m'\u001b[39;49m\u001b[38;5;124;43mDesc\u001b[39;49m\u001b[38;5;124;43m'\u001b[39;49m\u001b[43m]\u001b[49m\u001b[43m)\u001b[49m, axis\u001b[38;5;241m=\u001b[39m\u001b[38;5;241m1\u001b[39m)\n\u001b[0;32m     18\u001b[0m \u001b[38;5;28mprint\u001b[39m(\u001b[38;5;124m\"\u001b[39m\u001b[38;5;124mГотово\u001b[39m\u001b[38;5;124m\"\u001b[39m)\n",
      "Cell \u001b[1;32mIn[224], line 7\u001b[0m, in \u001b[0;36mclean_text\u001b[1;34m(text)\u001b[0m\n\u001b[0;32m      6\u001b[0m \u001b[38;5;28;01mdef\u001b[39;00m \u001b[38;5;21mclean_text\u001b[39m(text):\n\u001b[1;32m----> 7\u001b[0m     text \u001b[38;5;241m=\u001b[39m \u001b[43mtext\u001b[49m\u001b[38;5;241;43m.\u001b[39;49m\u001b[43mreplace\u001b[49m(\u001b[38;5;124m\"\u001b[39m\u001b[38;5;130;01m\\\\\u001b[39;00m\u001b[38;5;124m\"\u001b[39m, \u001b[38;5;124m\"\u001b[39m\u001b[38;5;124m \u001b[39m\u001b[38;5;124m\"\u001b[39m)\u001b[38;5;241m.\u001b[39mreplace(\u001b[38;5;124mu\u001b[39m\u001b[38;5;124m\"\u001b[39m\u001b[38;5;124m╚\u001b[39m\u001b[38;5;124m\"\u001b[39m, \u001b[38;5;124m\"\u001b[39m\u001b[38;5;124m \u001b[39m\u001b[38;5;124m\"\u001b[39m)\u001b[38;5;241m.\u001b[39mreplace(\u001b[38;5;124mu\u001b[39m\u001b[38;5;124m\"\u001b[39m\u001b[38;5;124m╩\u001b[39m\u001b[38;5;124m\"\u001b[39m, \u001b[38;5;124m\"\u001b[39m\u001b[38;5;124m \u001b[39m\u001b[38;5;124m\"\u001b[39m)\n\u001b[0;32m      8\u001b[0m     text \u001b[38;5;241m=\u001b[39m text\u001b[38;5;241m.\u001b[39mlower()\n\u001b[0;32m      9\u001b[0m     text \u001b[38;5;241m=\u001b[39m re\u001b[38;5;241m.\u001b[39msub(\u001b[38;5;124m'\u001b[39m\u001b[38;5;124m\\\u001b[39m\u001b[38;5;124m-\u001b[39m\u001b[38;5;124m\\\u001b[39m\u001b[38;5;124ms\u001b[39m\u001b[38;5;130;01m\\r\u001b[39;00m\u001b[38;5;130;01m\\n\u001b[39;00m\u001b[38;5;124m\\\u001b[39m\u001b[38;5;124ms\u001b[39m\u001b[38;5;124m{\u001b[39m\u001b[38;5;124m1,}|\u001b[39m\u001b[38;5;124m\\\u001b[39m\u001b[38;5;124m-\u001b[39m\u001b[38;5;124m\\\u001b[39m\u001b[38;5;124ms\u001b[39m\u001b[38;5;130;01m\\r\u001b[39;00m\u001b[38;5;130;01m\\n\u001b[39;00m\u001b[38;5;124m|\u001b[39m\u001b[38;5;130;01m\\r\u001b[39;00m\u001b[38;5;130;01m\\n\u001b[39;00m\u001b[38;5;124m'\u001b[39m, \u001b[38;5;124m'\u001b[39m\u001b[38;5;124m'\u001b[39m, text) \u001b[38;5;66;03m#deleting newlines and line-breaks\u001b[39;00m\n",
      "\u001b[1;31mAttributeError\u001b[0m: 'float' object has no attribute 'replace'"
     ]
    }
   ],
   "source": [
    "import pymorphy2\n",
    "import re\n",
    "\n",
    "ma = pymorphy2.MorphAnalyzer()\n",
    "\n",
    "def clean_text(text):\n",
    "    text = text.replace(\"\\\\\", \" \").replace(u\"╚\", \" \").replace(u\"╩\", \" \")\n",
    "    text = text.lower()\n",
    "    text = re.sub('\\-\\s\\r\\n\\s{1,}|\\-\\s\\r\\n|\\r\\n', '', text) #deleting newlines and line-breaks\n",
    "    text = re.sub('[.,:;_%©?*,!@#$%^&()\\d]|[+=]|[[]|[]]|[/]|\"|\\s{2,}|-', ' ', text) #deleting symbols  \n",
    "    text = \" \".join(ma.parse(str(word))[0].normal_form for word in text.split())\n",
    "    text = ' '.join(word for word in text.split() if len(word)>3)\n",
    "    text = text.encode(\"utf-8\")\n",
    "\n",
    "    return text\n",
    "\n",
    "df['Description'] = df.apply(lambda x: clean_text(x[u'Desc']), axis=1)\n",
    "print(\"Готово\")"
   ]
  },
  {
   "cell_type": "code",
   "execution_count": 220,
   "id": "4ed24bed",
   "metadata": {
    "scrolled": true
   },
   "outputs": [
    {
     "name": "stdout",
     "output_type": "stream",
     "text": [
      "['Number', 'Date', 'UID', 'Desc', 'Group', 'Cat']\n"
     ]
    }
   ],
   "source": [
    "print(df.columns.tolist()) "
   ]
  },
  {
   "cell_type": "code",
   "execution_count": 172,
   "id": "30c773b3",
   "metadata": {},
   "outputs": [
    {
     "data": {
      "text/html": [
       "<div>\n",
       "<style scoped>\n",
       "    .dataframe tbody tr th:only-of-type {\n",
       "        vertical-align: middle;\n",
       "    }\n",
       "\n",
       "    .dataframe tbody tr th {\n",
       "        vertical-align: top;\n",
       "    }\n",
       "\n",
       "    .dataframe thead th {\n",
       "        text-align: right;\n",
       "    }\n",
       "</style>\n",
       "<table border=\"1\" class=\"dataframe\">\n",
       "  <thead>\n",
       "    <tr style=\"text-align: right;\">\n",
       "      <th></th>\n",
       "      <th>Number</th>\n",
       "      <th>Date</th>\n",
       "      <th>UID</th>\n",
       "      <th>Desc</th>\n",
       "      <th>Group</th>\n",
       "      <th>Cat</th>\n",
       "    </tr>\n",
       "  </thead>\n",
       "  <tbody>\n",
       "    <tr>\n",
       "      <th>0</th>\n",
       "      <td>1060141</td>\n",
       "      <td>2021-03-12 11:33:00</td>\n",
       "      <td>7b5dc3bb-1dcb-4954-9f3c-c5dc9c7d45d2</td>\n",
       "      <td>Не горит лампа в коридоре</td>\n",
       "      <td>Управление домом</td>\n",
       "      <td>Разбитые стекла, сорванные створки оконных пер...</td>\n",
       "    </tr>\n",
       "    <tr>\n",
       "      <th>1</th>\n",
       "      <td>1112641</td>\n",
       "      <td>2021-05-27 14:16:00</td>\n",
       "      <td>8361aa95-b693-444e-a212-8e1da60e8fde</td>\n",
       "      <td>кривой дорожный знак</td>\n",
       "      <td>Дороги</td>\n",
       "      <td>Общие вопросы</td>\n",
       "    </tr>\n",
       "    <tr>\n",
       "      <th>2</th>\n",
       "      <td>1112656</td>\n",
       "      <td>2021-05-31 12:07:00</td>\n",
       "      <td>7ac9fbb2-f72f-471d-9a10-ff191b9be927</td>\n",
       "      <td>Провал колодца на пешеходной дороге</td>\n",
       "      <td>Канализация</td>\n",
       "      <td>Общие вопросы</td>\n",
       "    </tr>\n",
       "    <tr>\n",
       "      <th>3</th>\n",
       "      <td>1112657</td>\n",
       "      <td>2021-05-31 12:12:00</td>\n",
       "      <td>3777d635-b4da-4897-9b89-2ba1aa44d891</td>\n",
       "      <td>Низкие температурные параметры ГВС</td>\n",
       "      <td>ГВС</td>\n",
       "      <td>Общие вопросы</td>\n",
       "    </tr>\n",
       "    <tr>\n",
       "      <th>4</th>\n",
       "      <td>1112668</td>\n",
       "      <td>2021-06-01 11:17:00</td>\n",
       "      <td>badc0911-6201-4a4e-963e-a63a6a3d408c</td>\n",
       "      <td>запах канализации</td>\n",
       "      <td>Канализация</td>\n",
       "      <td>Общие вопросы</td>\n",
       "    </tr>\n",
       "    <tr>\n",
       "      <th>...</th>\n",
       "      <td>...</td>\n",
       "      <td>...</td>\n",
       "      <td>...</td>\n",
       "      <td>...</td>\n",
       "      <td>...</td>\n",
       "      <td>...</td>\n",
       "    </tr>\n",
       "    <tr>\n",
       "      <th>50985</th>\n",
       "      <td>1346261</td>\n",
       "      <td>2022-12-31 17:03:00</td>\n",
       "      <td>3fe06ae9-9751-47b5-be69-4586bdbbc9f5</td>\n",
       "      <td>Чуть теплые батареи в квартире.</td>\n",
       "      <td>Управление домом</td>\n",
       "      <td>Отопление (Нарушение температурного режима)</td>\n",
       "    </tr>\n",
       "    <tr>\n",
       "      <th>50986</th>\n",
       "      <td>1346266</td>\n",
       "      <td>2022-12-31 17:29:00</td>\n",
       "      <td>dfdcc2f6-f41c-4a2c-bf73-6caaa7e4e678</td>\n",
       "      <td>В туалете течет ХВС по трубам с верхнего этажа.</td>\n",
       "      <td>Управление домом</td>\n",
       "      <td>Сантехника</td>\n",
       "    </tr>\n",
       "    <tr>\n",
       "      <th>50987</th>\n",
       "      <td>1346267</td>\n",
       "      <td>2022-12-31 17:44:00</td>\n",
       "      <td>25eb093d-1e04-412f-a3be-f328f871685a</td>\n",
       "      <td>Пропало электричество в квартире. Автоматика н...</td>\n",
       "      <td>Управление домом</td>\n",
       "      <td>Электроэнергия</td>\n",
       "    </tr>\n",
       "    <tr>\n",
       "      <th>50988</th>\n",
       "      <td>1346272</td>\n",
       "      <td>2022-12-31 18:49:00</td>\n",
       "      <td>22fc0c7f-0385-49c0-9127-3fee8ee1d9bb</td>\n",
       "      <td>Треснул унитаз, перекрыть воду не могут.</td>\n",
       "      <td>Управление домом</td>\n",
       "      <td>Сантехника</td>\n",
       "    </tr>\n",
       "    <tr>\n",
       "      <th>50989</th>\n",
       "      <td>1346278</td>\n",
       "      <td>2022-12-31 19:29:00</td>\n",
       "      <td>9a8281e2-ecf7-443b-9a08-dcdaed21347d</td>\n",
       "      <td>Чуть теплые батареи</td>\n",
       "      <td>Управление домом</td>\n",
       "      <td>Отопление (Нарушение температурного режима)</td>\n",
       "    </tr>\n",
       "  </tbody>\n",
       "</table>\n",
       "<p>50990 rows × 6 columns</p>\n",
       "</div>"
      ],
      "text/plain": [
       "        Number                Date                                   UID  \\\n",
       "0      1060141 2021-03-12 11:33:00  7b5dc3bb-1dcb-4954-9f3c-c5dc9c7d45d2   \n",
       "1      1112641 2021-05-27 14:16:00  8361aa95-b693-444e-a212-8e1da60e8fde   \n",
       "2      1112656 2021-05-31 12:07:00  7ac9fbb2-f72f-471d-9a10-ff191b9be927   \n",
       "3      1112657 2021-05-31 12:12:00  3777d635-b4da-4897-9b89-2ba1aa44d891   \n",
       "4      1112668 2021-06-01 11:17:00  badc0911-6201-4a4e-963e-a63a6a3d408c   \n",
       "...        ...                 ...                                   ...   \n",
       "50985  1346261 2022-12-31 17:03:00  3fe06ae9-9751-47b5-be69-4586bdbbc9f5   \n",
       "50986  1346266 2022-12-31 17:29:00  dfdcc2f6-f41c-4a2c-bf73-6caaa7e4e678   \n",
       "50987  1346267 2022-12-31 17:44:00  25eb093d-1e04-412f-a3be-f328f871685a   \n",
       "50988  1346272 2022-12-31 18:49:00  22fc0c7f-0385-49c0-9127-3fee8ee1d9bb   \n",
       "50989  1346278 2022-12-31 19:29:00  9a8281e2-ecf7-443b-9a08-dcdaed21347d   \n",
       "\n",
       "                                                    Desc             Group  \\\n",
       "0                              Не горит лампа в коридоре  Управление домом   \n",
       "1                                   кривой дорожный знак            Дороги   \n",
       "2                    Провал колодца на пешеходной дороге       Канализация   \n",
       "3                     Низкие температурные параметры ГВС               ГВС   \n",
       "4                                      запах канализации       Канализация   \n",
       "...                                                  ...               ...   \n",
       "50985                    Чуть теплые батареи в квартире.  Управление домом   \n",
       "50986    В туалете течет ХВС по трубам с верхнего этажа.  Управление домом   \n",
       "50987  Пропало электричество в квартире. Автоматика н...  Управление домом   \n",
       "50988           Треснул унитаз, перекрыть воду не могут.  Управление домом   \n",
       "50989                                Чуть теплые батареи  Управление домом   \n",
       "\n",
       "                                                     Cat  \n",
       "0      Разбитые стекла, сорванные створки оконных пер...  \n",
       "1                                          Общие вопросы  \n",
       "2                                          Общие вопросы  \n",
       "3                                          Общие вопросы  \n",
       "4                                          Общие вопросы  \n",
       "...                                                  ...  \n",
       "50985        Отопление (Нарушение температурного режима)  \n",
       "50986                                         Сантехника  \n",
       "50987                                     Электроэнергия  \n",
       "50988                                         Сантехника  \n",
       "50989        Отопление (Нарушение температурного режима)  \n",
       "\n",
       "[50990 rows x 6 columns]"
      ]
     },
     "execution_count": 172,
     "metadata": {},
     "output_type": "execute_result"
    }
   ],
   "source": [
    "pd.read_excel(io='L.xlsx', engine='openpyxl')"
   ]
  },
  {
   "cell_type": "code",
   "execution_count": 173,
   "id": "74189242",
   "metadata": {},
   "outputs": [
    {
     "name": "stdout",
     "output_type": "stream",
     "text": [
      "Всего категорий: 98\n"
     ]
    }
   ],
   "source": [
    "# создадим массив, содержащий уникальные категории из нашего DataFrame\n",
    "categories = {}\n",
    "for key,value in enumerate(df[u'Cat'].unique()):\n",
    "    categories[value] = key + 1\n",
    "\n",
    "# Запишем в новую колонку числовое обозначение категории \n",
    "df['category_code'] = df[u'Cat'].map(categories)\n",
    "\n",
    "total_categories = len(df[u'Cat'].unique()) + 1\n",
    "print('Всего категорий: {}'.format(total_categories))\n"
   ]
  },
  {
   "cell_type": "code",
   "execution_count": 174,
   "id": "9c0054e3",
   "metadata": {},
   "outputs": [],
   "source": [
    "df.to_pickle('dataframe_ver_1.pkl')"
   ]
  },
  {
   "cell_type": "code",
   "execution_count": 175,
   "id": "3f83ae28",
   "metadata": {},
   "outputs": [],
   "source": [
    "df = pd.read_pickle('dataframe_ver_1.pkl')"
   ]
  },
  {
   "cell_type": "markdown",
   "id": "40234224",
   "metadata": {},
   "source": [
    "Перемешивание, чтобы в обучающий и проверочный наборы данных попали все типы категорий:"
   ]
  },
  {
   "cell_type": "code",
   "execution_count": 176,
   "id": "245a5c82",
   "metadata": {},
   "outputs": [],
   "source": [
    "df = df.sample(frac=1).reset_index(drop=True)"
   ]
  },
  {
   "cell_type": "markdown",
   "id": "7b01193a",
   "metadata": {},
   "source": [
    "Семплирование"
   ]
  },
  {
   "cell_type": "markdown",
   "id": "6abdc01d",
   "metadata": {},
   "source": [
    "Итак, после очистки текста и разделения его на слова, необходимо разделить все строки с обращениями на два набора данных: \n",
    "данные для тренировки модели и данные для проверки ее работы. \n",
    "Для этого определим массивы с описанием заявок и вычислим максимальную длинну описания:"
   ]
  },
  {
   "cell_type": "code",
   "execution_count": 215,
   "id": "9046a535",
   "metadata": {},
   "outputs": [
    {
     "name": "stdout",
     "output_type": "stream",
     "text": [
      "Максимальная длина описания: 1 слов\n"
     ]
    }
   ],
   "source": [
    "descriptions = df['Description']\n",
    "categories = df[u'category_code']\n",
    "\n",
    "# Посчитаем максимальную длинну текста описания в словах\n",
    "max_words = 0\n",
    "for desc in descriptions:\n",
    "    words = len(desc.split())\n",
    "    if words > max_words:\n",
    "        max_words = words\n",
    "print('Максимальная длина описания: {} слов'.format(max_words))\n",
    "\n",
    "maxSequenceLength = 55"
   ]
  },
  {
   "cell_type": "code",
   "execution_count": 216,
   "id": "07e90971",
   "metadata": {},
   "outputs": [
    {
     "name": "stdout",
     "output_type": "stream",
     "text": [
      "0        b'desc'\n",
      "1        b'desc'\n",
      "2        b'desc'\n",
      "3        b'desc'\n",
      "4        b'desc'\n",
      "          ...   \n",
      "50985    b'desc'\n",
      "50986    b'desc'\n",
      "50987    b'desc'\n",
      "50988    b'desc'\n",
      "50989    b'desc'\n",
      "Name: Description, Length: 50990, dtype: object\n",
      ".......................................\n",
      "0        32\n",
      "1        80\n",
      "2         2\n",
      "3         2\n",
      "4        71\n",
      "         ..\n",
      "50985    31\n",
      "50986    71\n",
      "50987    28\n",
      "50988    28\n",
      "50989    32\n",
      "Name: category_code, Length: 50990, dtype: int64\n"
     ]
    }
   ],
   "source": [
    "print(descriptions)\n",
    "print('.......................................')\n",
    "print(categories)"
   ]
  },
  {
   "cell_type": "markdown",
   "id": "46b42a45",
   "metadata": {},
   "source": [
    "Для вышеописанной задачи преобразования текста в числовые последовательности в Keras есть специальный класс Tokenizer, \n",
    "который мы и будем использовать:"
   ]
  },
  {
   "cell_type": "raw",
   "id": "2896c7b5",
   "metadata": {},
   "source": [
    "!pip install keras"
   ]
  },
  {
   "cell_type": "raw",
   "id": "4e405f78",
   "metadata": {},
   "source": [
    "!pip install tensorflow "
   ]
  },
  {
   "cell_type": "raw",
   "id": "20e30acc",
   "metadata": {},
   "source": [
    "#хуета ебаная\n",
    "import pickle\n",
    "descriptions = pickle.dumps(descriptions)\n",
    "print(descriptions)"
   ]
  },
  {
   "cell_type": "code",
   "execution_count": 213,
   "id": "14b90a81",
   "metadata": {
    "scrolled": true
   },
   "outputs": [
    {
     "ename": "AttributeError",
     "evalue": "'bytes' object has no attribute 'tolist'",
     "output_type": "error",
     "traceback": [
      "\u001b[1;31m---------------------------------------------------------------------------\u001b[0m",
      "\u001b[1;31mAttributeError\u001b[0m                            Traceback (most recent call last)",
      "Cell \u001b[1;32mIn[213], line 5\u001b[0m\n\u001b[0;32m      3\u001b[0m \u001b[38;5;66;03m# создаем единый словарь (слово -> число) для преобразования\u001b[39;00m\n\u001b[0;32m      4\u001b[0m tokenizer \u001b[38;5;241m=\u001b[39m Tokenizer()\n\u001b[1;32m----> 5\u001b[0m tokenizer\u001b[38;5;241m.\u001b[39mfit_on_texts(\u001b[43mdescriptions\u001b[49m\u001b[38;5;241;43m.\u001b[39;49m\u001b[43mtolist\u001b[49m())\n\u001b[0;32m      7\u001b[0m \u001b[38;5;66;03m# Преобразуем все описания в числовые последовательности, заменяя слова на числа по словарю.\u001b[39;00m\n\u001b[0;32m      8\u001b[0m textSequences \u001b[38;5;241m=\u001b[39m tokenizer\u001b[38;5;241m.\u001b[39mtexts_to_sequences(descriptions\u001b[38;5;241m.\u001b[39mtolist())\n",
      "\u001b[1;31mAttributeError\u001b[0m: 'bytes' object has no attribute 'tolist'"
     ]
    }
   ],
   "source": [
    "from keras.preprocessing.text import Tokenizer\n",
    "\n",
    "# создаем единый словарь (слово -> число) для преобразования\n",
    "tokenizer = Tokenizer()\n",
    "tokenizer.fit_on_texts(descriptions.tolist())\n",
    "\n",
    "# Преобразуем все описания в числовые последовательности, заменяя слова на числа по словарю.\n",
    "textSequences = tokenizer.texts_to_sequences(descriptions.tolist())"
   ]
  },
  {
   "cell_type": "markdown",
   "id": "d2b5dc73",
   "metadata": {},
   "source": [
    "Обучающий и тестовый наборы данных будут содержать массив чисел, обозначающих описание заявки (X) и категорию, \n",
    "к которой обращение относится (y). Соответственно, данные для тренировки будут записаны в переменные X_train, y_train, \n",
    "а данные для проверки алгоритма обучения будут записаны в переменные X_test, y_test. Для этого я написал небольшую функцию:"
   ]
  },
  {
   "cell_type": "code",
   "execution_count": 184,
   "id": "c7a2d17e",
   "metadata": {},
   "outputs": [],
   "source": [
    "def load_data_from_arrays(strings, labels, train_test_split=0.9):\n",
    "    data_size = len(strings)\n",
    "    test_size = int(data_size - round(data_size * train_test_split))\n",
    "    print(\"Test size: {}\".format(test_size))\n",
    "    \n",
    "    print(\"\\nTraining set:\")\n",
    "    x_train = strings[test_size:]\n",
    "    print(\"\\t - x_train: {}\".format(len(x_train)))\n",
    "    y_train = labels[test_size:]\n",
    "    print(\"\\t - y_train: {}\".format(len(y_train)))\n",
    "    \n",
    "    print(\"\\nTesting set:\")\n",
    "    x_test = strings[:test_size]\n",
    "    print(\"\\t - x_test: {}\".format(len(x_test)))\n",
    "    y_test = labels[:test_size]\n",
    "    print(\"\\t - y_test: {}\".format(len(y_test)))\n",
    "\n",
    "    return x_train, y_train, x_test, y_test"
   ]
  },
  {
   "cell_type": "markdown",
   "id": "c59855ac",
   "metadata": {},
   "source": [
    "Получим наборы данных:"
   ]
  },
  {
   "cell_type": "code",
   "execution_count": 185,
   "id": "a8487f2d",
   "metadata": {},
   "outputs": [
    {
     "ename": "NameError",
     "evalue": "name 'textSequences' is not defined",
     "output_type": "error",
     "traceback": [
      "\u001b[1;31m---------------------------------------------------------------------------\u001b[0m",
      "\u001b[1;31mNameError\u001b[0m                                 Traceback (most recent call last)",
      "Cell \u001b[1;32mIn[185], line 1\u001b[0m\n\u001b[1;32m----> 1\u001b[0m X_train, y_train, X_test, y_test \u001b[38;5;241m=\u001b[39m load_data_from_arrays(\u001b[43mtextSequences\u001b[49m, categories, train_test_split\u001b[38;5;241m=\u001b[39m\u001b[38;5;241m0.8\u001b[39m)\n",
      "\u001b[1;31mNameError\u001b[0m: name 'textSequences' is not defined"
     ]
    }
   ],
   "source": [
    "X_train, y_train, X_test, y_test = load_data_from_arrays(textSequences, categories, train_test_split=0.8)"
   ]
  },
  {
   "cell_type": "code",
   "execution_count": 217,
   "id": "cd1e0b52",
   "metadata": {},
   "outputs": [
    {
     "name": "stdout",
     "output_type": "stream",
     "text": [
      "В словаре 0 слов\n"
     ]
    }
   ],
   "source": [
    "total_words = len(tokenizer.word_index)\n",
    "print('В словаре {} слов'.format(total_words))"
   ]
  },
  {
   "cell_type": "markdown",
   "id": "03c0ab37",
   "metadata": {},
   "source": [
    "Исходя из этих соображений, переопределим наши обучающие и тестовые данные:"
   ]
  },
  {
   "cell_type": "code",
   "execution_count": null,
   "id": "bf009c72",
   "metadata": {},
   "outputs": [],
   "source": [
    "# количество наиболее часто используемых слов\n",
    "num_words = 1000\n",
    "\n",
    "print(u'Преобразуем описания заявок в векторы чисел...')\n",
    "tokenizer = Tokenizer(num_words=num_words)\n",
    "X_train = tokenizer.sequences_to_matrix(X_train, mode='binary')\n",
    "X_test = tokenizer.sequences_to_matrix(X_test, mode='binary')\n",
    "print('Размерность X_train:', X_train.shape)\n",
    "print('Размерность X_test:', X_test.shape)\n",
    "\n",
    "print(u'Преобразуем категории в матрицу двоичных чисел '\n",
    "      u'(для использования categorical_crossentropy)')\n",
    "y_train = keras.utils.to_categorical(y_train, num_classes)\n",
    "y_test = keras.utils.to_categorical(y_test, num_classes)\n",
    "print('y_train shape:', y_train.shape)\n",
    "print('y_test shape:', y_test.shape)"
   ]
  },
  {
   "cell_type": "markdown",
   "id": "e71633d2",
   "metadata": {},
   "source": [
    "Классификация текста при помощи LSTM (long short-term memory) модели"
   ]
  },
  {
   "cell_type": "code",
   "execution_count": null,
   "id": "b3dbe5d9",
   "metadata": {},
   "outputs": [],
   "source": [
    "from keras.preprocessing.text import Tokenizer\n",
    "\n",
    "# создаем единый словарь (слово -> число) для преобразования\n",
    "tokenizer = Tokenizer()\n",
    "tokenizer.fit_on_texts(descriptions.tolist())\n",
    "\n",
    "# Преобразуем все описания в числовые последовательности, заменяя слова на числа по словарю.\n",
    "textSequences = tokenizer.texts_to_sequences(descriptions.tolist())"
   ]
  },
  {
   "cell_type": "code",
   "execution_count": null,
   "id": "b25a6c1d",
   "metadata": {},
   "outputs": [],
   "source": [
    "X_train, y_train, X_test, y_test = load_data_from_arrays(textSequences, categories, train_test_split=0.8)\n",
    "# Максимальное количество слов в самом длинном описании заявки\n",
    "max_words = 0\n",
    "for desc in descriptions.tolist():\n",
    "    words = len(desc.split())\n",
    "    if words > max_words:\n",
    "        max_words = words\n",
    "print('Максимальное количество слов в самом длинном описании заявки: {} слов'.format(max_words))\n",
    "\n",
    "total_unique_words = len(tokenizer.word_counts)\n",
    "print('Всего уникальных слов в словаре: {}'.format(total_unique_words))\n",
    "\n",
    "maxSequenceLength = max_words"
   ]
  },
  {
   "cell_type": "markdown",
   "id": "cada3ecb",
   "metadata": {},
   "source": [
    "Для уменьшения количества расчетов в модели уменьшим общий словарь, \n",
    "оставив в нем только 10% наиболее популярных слов:"
   ]
  },
  {
   "cell_type": "code",
   "execution_count": null,
   "id": "a01bd919",
   "metadata": {},
   "outputs": [],
   "source": [
    "vocab_size = round(total_unique_words/10)"
   ]
  },
  {
   "cell_type": "markdown",
   "id": "8681f5fb",
   "metadata": {},
   "source": [
    "Далее преобразуем данные для тренировки и тестирования в нужный нам формат:"
   ]
  },
  {
   "cell_type": "code",
   "execution_count": null,
   "id": "dd8185d2",
   "metadata": {},
   "outputs": [],
   "source": [
    "print(u'Преобразуем описания заявок в векторы чисел...')\n",
    "tokenizer = Tokenizer(num_words=vocab_size)\n",
    "tokenizer.fit_on_texts(descriptions)\n",
    "\n",
    "X_train = tokenizer.texts_to_sequences(X_train)\n",
    "X_test = tokenizer.texts_to_sequences(X_test)\n",
    "\n",
    "X_train = sequence.pad_sequences(X_train, maxlen=maxSequenceLength)\n",
    "X_test = sequence.pad_sequences(X_test, maxlen=maxSequenceLength)\n",
    "\n",
    "print('Размерность X_train:', X_train.shape)\n",
    "print('Размерность X_test:', X_test.shape)\n",
    "\n",
    "print(u'Преобразуем категории в матрицу двоичных чисел '\n",
    "      u'(для использования categorical_crossentropy)')\n",
    "y_train = keras.utils.to_categorical(y_train, num_classes)\n",
    "y_test = keras.utils.to_categorical(y_test, num_classes)\n",
    "print('y_train shape:', y_train.shape)\n",
    "print('y_test shape:', y_test.shape)"
   ]
  },
  {
   "cell_type": "markdown",
   "id": "bc15362e",
   "metadata": {},
   "source": [
    "Считаем количество категорий:"
   ]
  },
  {
   "cell_type": "code",
   "execution_count": null,
   "id": "7e4acb78",
   "metadata": {},
   "outputs": [],
   "source": [
    "import numpy as np\n",
    "from sklearn.preprocessing import LabelEncoder\n",
    "\n",
    "encoder = LabelEncoder()\n",
    "encoder.fit(y_train)\n",
    "y_train = encoder.transform(y_train)\n",
    "y_test = encoder.transform(y_test)\n",
    "\n",
    "num_classes = np.max(y_train) + 1\n",
    "print('Количество категорий для классификации: {}'.format(num_classes))"
   ]
  },
  {
   "cell_type": "markdown",
   "id": "30706cb3",
   "metadata": {},
   "source": [
    "Определяем LSTM модель для обучения:"
   ]
  },
  {
   "cell_type": "code",
   "execution_count": null,
   "id": "94daa0a6",
   "metadata": {},
   "outputs": [],
   "source": [
    "from keras.models import Sequential\n",
    "from keras.layers import Dense, Embedding, LSTM\n",
    "\n",
    "# максимальное количество слов для анализа\n",
    "max_features = vocab_size\n",
    "\n",
    "print(u'Собираем модель...')\n",
    "model = Sequential()\n",
    "model.add(Embedding(max_features, maxSequenceLength))\n",
    "model.add(LSTM(32, dropout=0.2, recurrent_dropout=0.2))\n",
    "model.add(Dense(num_classes, activation='sigmoid'))\n",
    "\n",
    "model.compile(loss='binary_crossentropy',\n",
    "              optimizer='adam',\n",
    "              metrics=['accuracy'])\n",
    "\n",
    "print (model.summary())"
   ]
  },
  {
   "cell_type": "markdown",
   "id": "5cfc4106",
   "metadata": {},
   "source": [
    "Обучаем:"
   ]
  },
  {
   "cell_type": "code",
   "execution_count": null,
   "id": "b95826d2",
   "metadata": {},
   "outputs": [],
   "source": [
    "batch_size = 32\n",
    "epochs = 3\n",
    "\n",
    "print(u'Тренируем модель...')\n",
    "history = model.fit(X_train, y_train,\n",
    "          batch_size=batch_size,\n",
    "          epochs=epochs,\n",
    "          validation_data=(X_test, y_test))"
   ]
  },
  {
   "cell_type": "markdown",
   "id": "37506e21",
   "metadata": {},
   "source": [
    "По окончанию процесса обучения оценим его результаты:"
   ]
  },
  {
   "cell_type": "code",
   "execution_count": null,
   "id": "cea4dce6",
   "metadata": {},
   "outputs": [],
   "source": [
    "score = model.evaluate(X_test, y_test,\n",
    "                       batch_size=batch_size, verbose=1)\n",
    "print()\n",
    "print(u'Оценка теста: {}'.format(score[0]))\n",
    "print(u'Оценка точности модели: {}'.format(score[1]))\n"
   ]
  },
  {
   "cell_type": "markdown",
   "id": "5c98f84f",
   "metadata": {},
   "source": [
    "График эффективности"
   ]
  },
  {
   "cell_type": "code",
   "execution_count": null,
   "id": "f788e01a",
   "metadata": {},
   "outputs": [],
   "source": [
    "# Посмотрим на эффективность обучения\n",
    "import matplotlib.pyplot as plt\n",
    "%matplotlib inline\n",
    "plt.style.use(\"ggplot\")\n",
    "plt.figure()\n",
    "N = epochs\n",
    "plt.plot(np.arange(0, N), history.history[\"loss\"], label=\"train_loss\")\n",
    "plt.plot(np.arange(0, N), history.history[\"val_loss\"], label=\"val_loss\")\n",
    "plt.plot(np.arange(0, N), history.history[\"acc\"], label=\"train_acc\")\n",
    "plt.plot(np.arange(0, N), history.history[\"val_acc\"], label=\"val_acc\")\n",
    "plt.title(\"Эффективность обучения\")\n",
    "plt.xlabel(\"Повторения #\")\n",
    "plt.ylabel(\"Ошибки\")\n",
    "plt.legend(loc=\"lower left\")"
   ]
  },
  {
   "cell_type": "markdown",
   "id": "020fbdae",
   "metadata": {},
   "source": [
    "Загрузка обучающей и тестовой выборки"
   ]
  },
  {
   "cell_type": "code",
   "execution_count": null,
   "id": "cb316668",
   "metadata": {},
   "outputs": [],
   "source": [
    "from keras.preprocessing.text import Tokenizer\n",
    "\n",
    "# создаем единый словарь (слово -> число) для преобразования\n",
    "tokenizer = Tokenizer()\n",
    "tokenizer.fit_on_texts(descriptions.tolist())\n",
    "\n",
    "# Преобразуем все описания в числовые последовательности, заменяя слова на числа по словарю.\n",
    "textSequences = tokenizer.texts_to_sequences(descriptions.tolist())"
   ]
  },
  {
   "cell_type": "code",
   "execution_count": null,
   "id": "63674f90",
   "metadata": {},
   "outputs": [],
   "source": [
    "X_train, y_train, X_test, y_test = load_data_from_arrays(textSequences, categories, train_test_split=0.8)\n",
    "# Максимальное количество слов в самом длинном описании заявки\n",
    "max_words = 0\n",
    "for desc in descriptions.tolist():\n",
    "    words = len(desc.split())\n",
    "    if words > max_words:\n",
    "        max_words = words\n",
    "print('Максимальное количество слов в самом длинном описании заявки: {} слов'.format(max_words))\n",
    "\n",
    "total_unique_words = len(tokenizer.word_counts)\n",
    "print('Всего уникальных слов в словаре: {}'.format(total_unique_words))\n",
    "\n",
    "maxSequenceLength = max_words"
   ]
  },
  {
   "cell_type": "code",
   "execution_count": null,
   "id": "2a8c8193",
   "metadata": {},
   "outputs": [],
   "source": [
    "vocab_size = round(total_unique_words/10)"
   ]
  },
  {
   "cell_type": "code",
   "execution_count": null,
   "id": "af4e37ac",
   "metadata": {},
   "outputs": [],
   "source": [
    "print(u'Преобразуем описания заявок в векторы чисел...')\n",
    "tokenizer = Tokenizer(num_words=vocab_size)\n",
    "tokenizer.fit_on_texts(descriptions)\n",
    "\n",
    "X_train = tokenizer.texts_to_sequences(X_train)\n",
    "X_test = tokenizer.texts_to_sequences(X_test)\n",
    "\n",
    "X_train = sequence.pad_sequences(X_train, maxlen=maxSequenceLength)\n",
    "X_test = sequence.pad_sequences(X_test, maxlen=maxSequenceLength)\n",
    "\n",
    "print('Размерность X_train:', X_train.shape)\n",
    "print('Размерность X_test:', X_test.shape)\n",
    "\n",
    "print(u'Преобразуем категории в матрицу двоичных чисел '\n",
    "      u'(для использования categorical_crossentropy)')\n",
    "y_train = keras.utils.to_categorical(y_train, num_classes)\n",
    "y_test = keras.utils.to_categorical(y_test, num_classes)\n",
    "print('y_train shape:', y_train.shape)\n",
    "print('y_test shape:', y_test.shape)"
   ]
  },
  {
   "cell_type": "code",
   "execution_count": null,
   "id": "ff4dbef1",
   "metadata": {},
   "outputs": [],
   "source": [
    "import numpy as np\n",
    "from sklearn.preprocessing import LabelEncoder\n",
    "\n",
    "encoder = LabelEncoder()\n",
    "encoder.fit(y_train)\n",
    "y_train = encoder.transform(y_train)\n",
    "y_test = encoder.transform(y_test)\n",
    "\n",
    "num_classes = np.max(y_train) + 1\n",
    "print('Количество категорий для классификации: {}'.format(num_classes)"
   ]
  },
  {
   "cell_type": "code",
   "execution_count": null,
   "id": "e87229d5",
   "metadata": {},
   "outputs": [],
   "source": [
    "from keras.models import Sequential\n",
    "from keras.layers import Dense, Embedding, LSTM\n",
    "\n",
    "# максимальное количество слов для анализа\n",
    "max_features = vocab_size\n",
    "\n",
    "print(u'Собираем модель...')\n",
    "model = Sequential()\n",
    "model.add(Embedding(max_features, maxSequenceLength))\n",
    "model.add(LSTM(32, dropout=0.2, recurrent_dropout=0.2))\n",
    "model.add(Dense(num_classes, activation='sigmoid'))\n",
    "\n",
    "model.compile(loss='binary_crossentropy',\n",
    "              optimizer='adam',\n",
    "              metrics=['accuracy'])\n",
    "\n",
    "print (model.summary())"
   ]
  },
  {
   "cell_type": "markdown",
   "id": "ebbd2422",
   "metadata": {},
   "source": [
    "Обучаем"
   ]
  },
  {
   "cell_type": "code",
   "execution_count": null,
   "id": "d8f9bece",
   "metadata": {},
   "outputs": [],
   "source": [
    "batch_size = 32\n",
    "epochs = 3\n",
    "\n",
    "print(u'Тренируем модель...')\n",
    "history = model.fit(X_train, y_train,\n",
    "          batch_size=batch_size,\n",
    "          epochs=epochs,\n",
    "          validation_data=(X_test, y_test))"
   ]
  },
  {
   "cell_type": "code",
   "execution_count": null,
   "id": "66b636d9",
   "metadata": {},
   "outputs": [],
   "source": [
    "score = model.evaluate(X_test, y_test,\n",
    "                       batch_size=batch_size, verbose=1)\n",
    "print()\n",
    "print(u'Оценка теста: {}'.format(score[0]))\n",
    "print(u'Оценка точности модели: {}'.format(score[1]))\n"
   ]
  },
  {
   "cell_type": "markdown",
   "id": "9d35f5f1",
   "metadata": {},
   "source": [
    "График эффективности"
   ]
  },
  {
   "cell_type": "code",
   "execution_count": null,
   "id": "1350dc33",
   "metadata": {},
   "outputs": [],
   "source": [
    "# Посмотрим на эффективность обучения\n",
    "import matplotlib.pyplot as plt\n",
    "%matplotlib inline\n",
    "plt.style.use(\"ggplot\")\n",
    "plt.figure()\n",
    "N = epochs\n",
    "plt.plot(np.arange(0, N), history.history[\"loss\"], label=\"train_loss\")\n",
    "plt.plot(np.arange(0, N), history.history[\"val_loss\"], label=\"val_loss\")\n",
    "plt.plot(np.arange(0, N), history.history[\"acc\"], label=\"train_acc\")\n",
    "plt.plot(np.arange(0, N), history.history[\"val_acc\"], label=\"val_acc\")\n",
    "plt.title(\"Эффективность обучения\")\n",
    "plt.xlabel(\"Повторения #\")\n",
    "plt.ylabel(\"Ошибки\")\n",
    "plt.legend(loc=\"lower left\")"
   ]
  }
 ],
 "metadata": {
  "kernelspec": {
   "display_name": "nlp",
   "language": "python",
   "name": "nlp"
  },
  "language_info": {
   "codemirror_mode": {
    "name": "ipython",
    "version": 3
   },
   "file_extension": ".py",
   "mimetype": "text/x-python",
   "name": "python",
   "nbconvert_exporter": "python",
   "pygments_lexer": "ipython3",
   "version": "3.10.0"
  }
 },
 "nbformat": 4,
 "nbformat_minor": 5
}
